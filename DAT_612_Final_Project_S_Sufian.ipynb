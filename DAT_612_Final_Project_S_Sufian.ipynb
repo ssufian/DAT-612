{
  "nbformat": 4,
  "nbformat_minor": 0,
  "metadata": {
    "kernelspec": {
      "display_name": "Python 3",
      "language": "python",
      "name": "python3"
    },
    "language_info": {
      "codemirror_mode": {
        "name": "ipython",
        "version": 3
      },
      "file_extension": ".py",
      "mimetype": "text/x-python",
      "name": "python",
      "nbconvert_exporter": "python",
      "pygments_lexer": "ipython3",
      "version": "3.7.4"
    },
    "colab": {
      "name": "DAT 612 - Final Project S_Sufian.ipynb",
      "provenance": [],
      "collapsed_sections": [
        "HVI-aseRW6BC",
        "52Voym_SW6BF"
      ],
      "include_colab_link": true
    }
  },
  "cells": [
    {
      "cell_type": "markdown",
      "metadata": {
        "id": "view-in-github",
        "colab_type": "text"
      },
      "source": [
        "<a href=\"https://colab.research.google.com/github/ssufian/DAT-612/blob/master/DAT_612_Final_Project_S_Sufian.ipynb\" target=\"_parent\"><img src=\"https://colab.research.google.com/assets/colab-badge.svg\" alt=\"Open In Colab\"/></a>"
      ]
    },
    {
      "cell_type": "markdown",
      "metadata": {
        "id": "xBV93HoCW6AU",
        "colab_type": "text"
      },
      "source": [
        "# DAT 612 Final Project \n",
        "Compare the accuracy of at least two recommender system algorithms against an offline data\n",
        "\n",
        "This project will use the data tables from the 2 MovieLens data sets; ratings and movies tables \n",
        "\n",
        "Reference 1:\n",
        "- Movielens Data source was downloaded from Kaggle website: https://www.kaggle.com/prajitdatta/movielens-100k-dataset?"
      ]
    },
    {
      "cell_type": "code",
      "metadata": {
        "id": "v_-2WcjuW6AV",
        "colab_type": "code",
        "colab": {}
      },
      "source": [
        "#Loading libraries\n",
        "import numpy as np, pandas as pd, matplotlib.pyplot as plt\n",
        "import seaborn as sb\n",
        "import seaborn as sns\n",
        "from datetime import datetime\n",
        "from dateutil.parser import parse\n",
        "from shapely.geometry import Point, Polygon\n",
        "%matplotlib inline\n",
        "from scipy.sparse.linalg import svds\n",
        "from numpy.linalg import svd\n",
        "from matplotlib.pyplot import figure\n",
        "from sklearn.metrics import mean_squared_error\n",
        "from math import sqrt\n",
        "!pip3 install surprise \n",
        "import sklearn\n",
        "!pip3 install Turicreate\n",
        "from sklearn.decomposition import TruncatedSVD\n",
        "from collections import defaultdict\n",
        "import warnings\n",
        "from sklearn.metrics.pairwise import pairwise_distances \n",
        "warnings.filterwarnings(\"ignore\")\n",
        "\n",
        "\n",
        "#from IPython.core.magic import line_magic, line_cell_magic, Magics, magics_class\n",
        "#from pyspark.ml.evaluation import RegressionEvaluator\n",
        "#from pyspark.ml.recommendation import ALS\n",
        "#from pyspark.sql import Row\n",
        "#import findspark\n",
        "#from pyspark import SparkContext\n",
        "#from pyspark import SparkConf\n",
        "#from pyspark.sql import *\n",
        "#from pyspark.sql.functions import *\n",
        "#from pyspark.mllib.linalg import Vectors\n",
        "#from pyspark.mllib.linalg.distributed import RowMatrix\n",
        "#from pyspark.context import SparkContext\n",
        "#from pyspark.sql.session import SparkSession\n",
        "#install_requires=['pyspark=={site.SPARK_VERSION}']\n",
        "#from pyspark.sql.functions import *\n",
        "#sc = SparkContext('local')\n",
        "#spark = SparkSession(sc)\n"
      ],
      "execution_count": null,
      "outputs": []
    },
    {
      "cell_type": "code",
      "metadata": {
        "id": "Da0SotcYW6AY",
        "colab_type": "code",
        "colab": {}
      },
      "source": [
        "#spark.stop() # disconnect Spark"
      ],
      "execution_count": null,
      "outputs": []
    },
    {
      "cell_type": "markdown",
      "metadata": {
        "id": "sry2GM9QW6Ab",
        "colab_type": "text"
      },
      "source": [
        "# Loading data tables\n",
        "\n",
        "- Arranging the ratings & Movies tables and preparing the columns for different genres of movie types"
      ]
    },
    {
      "cell_type": "code",
      "metadata": {
        "id": "gs9rtEn0W6Ac",
        "colab_type": "code",
        "colab": {
          "base_uri": "https://localhost:8080/",
          "height": 195
        },
        "outputId": "24afb6c5-b143-45e5-e4d9-0c076a6adcb6"
      },
      "source": [
        "\n",
        "df = pd.read_csv('https://raw.githubusercontent.com/ssufian/DAT-612/master/Projects/ratings.csv')\n",
        "df.shape\n",
        "df.head()"
      ],
      "execution_count": 5,
      "outputs": [
        {
          "output_type": "execute_result",
          "data": {
            "text/html": [
              "<div>\n",
              "<style scoped>\n",
              "    .dataframe tbody tr th:only-of-type {\n",
              "        vertical-align: middle;\n",
              "    }\n",
              "\n",
              "    .dataframe tbody tr th {\n",
              "        vertical-align: top;\n",
              "    }\n",
              "\n",
              "    .dataframe thead th {\n",
              "        text-align: right;\n",
              "    }\n",
              "</style>\n",
              "<table border=\"1\" class=\"dataframe\">\n",
              "  <thead>\n",
              "    <tr style=\"text-align: right;\">\n",
              "      <th></th>\n",
              "      <th>userId</th>\n",
              "      <th>movieId</th>\n",
              "      <th>rating</th>\n",
              "    </tr>\n",
              "  </thead>\n",
              "  <tbody>\n",
              "    <tr>\n",
              "      <th>0</th>\n",
              "      <td>1</td>\n",
              "      <td>296</td>\n",
              "      <td>5.0</td>\n",
              "    </tr>\n",
              "    <tr>\n",
              "      <th>1</th>\n",
              "      <td>1</td>\n",
              "      <td>306</td>\n",
              "      <td>3.5</td>\n",
              "    </tr>\n",
              "    <tr>\n",
              "      <th>2</th>\n",
              "      <td>1</td>\n",
              "      <td>307</td>\n",
              "      <td>5.0</td>\n",
              "    </tr>\n",
              "    <tr>\n",
              "      <th>3</th>\n",
              "      <td>1</td>\n",
              "      <td>665</td>\n",
              "      <td>5.0</td>\n",
              "    </tr>\n",
              "    <tr>\n",
              "      <th>4</th>\n",
              "      <td>1</td>\n",
              "      <td>899</td>\n",
              "      <td>3.5</td>\n",
              "    </tr>\n",
              "  </tbody>\n",
              "</table>\n",
              "</div>"
            ],
            "text/plain": [
              "   userId  movieId  rating\n",
              "0       1      296     5.0\n",
              "1       1      306     3.5\n",
              "2       1      307     5.0\n",
              "3       1      665     5.0\n",
              "4       1      899     3.5"
            ]
          },
          "metadata": {
            "tags": []
          },
          "execution_count": 5
        }
      ]
    },
    {
      "cell_type": "code",
      "metadata": {
        "id": "4MPXLsc8W6Af",
        "colab_type": "code",
        "colab": {
          "base_uri": "https://localhost:8080/",
          "height": 195
        },
        "outputId": "661388ab-bddd-4293-cc69-fb84e944d708"
      },
      "source": [
        "movies = pd.read_csv('https://raw.githubusercontent.com/ssufian/DAT-612/master/Projects/movies.csv')\n",
        "#movies1 = movies1.rename(columns = {'movieId':'user_id'})\n",
        "movies.head()\n",
        "#movies.shape"
      ],
      "execution_count": 6,
      "outputs": [
        {
          "output_type": "execute_result",
          "data": {
            "text/html": [
              "<div>\n",
              "<style scoped>\n",
              "    .dataframe tbody tr th:only-of-type {\n",
              "        vertical-align: middle;\n",
              "    }\n",
              "\n",
              "    .dataframe tbody tr th {\n",
              "        vertical-align: top;\n",
              "    }\n",
              "\n",
              "    .dataframe thead th {\n",
              "        text-align: right;\n",
              "    }\n",
              "</style>\n",
              "<table border=\"1\" class=\"dataframe\">\n",
              "  <thead>\n",
              "    <tr style=\"text-align: right;\">\n",
              "      <th></th>\n",
              "      <th>movieId</th>\n",
              "      <th>title</th>\n",
              "      <th>genres</th>\n",
              "    </tr>\n",
              "  </thead>\n",
              "  <tbody>\n",
              "    <tr>\n",
              "      <th>0</th>\n",
              "      <td>1</td>\n",
              "      <td>Toy Story (1995)</td>\n",
              "      <td>Adventure|Animation|Children|Comedy|Fantasy</td>\n",
              "    </tr>\n",
              "    <tr>\n",
              "      <th>1</th>\n",
              "      <td>2</td>\n",
              "      <td>Jumanji (1995)</td>\n",
              "      <td>Adventure|Children|Fantasy</td>\n",
              "    </tr>\n",
              "    <tr>\n",
              "      <th>2</th>\n",
              "      <td>3</td>\n",
              "      <td>Grumpier Old Men (1995)</td>\n",
              "      <td>Comedy|Romance</td>\n",
              "    </tr>\n",
              "    <tr>\n",
              "      <th>3</th>\n",
              "      <td>4</td>\n",
              "      <td>Waiting to Exhale (1995)</td>\n",
              "      <td>Comedy|Drama|Romance</td>\n",
              "    </tr>\n",
              "    <tr>\n",
              "      <th>4</th>\n",
              "      <td>5</td>\n",
              "      <td>Father of the Bride Part II (1995)</td>\n",
              "      <td>Comedy</td>\n",
              "    </tr>\n",
              "  </tbody>\n",
              "</table>\n",
              "</div>"
            ],
            "text/plain": [
              "   movieId  ...                                       genres\n",
              "0        1  ...  Adventure|Animation|Children|Comedy|Fantasy\n",
              "1        2  ...                   Adventure|Children|Fantasy\n",
              "2        3  ...                               Comedy|Romance\n",
              "3        4  ...                         Comedy|Drama|Romance\n",
              "4        5  ...                                       Comedy\n",
              "\n",
              "[5 rows x 3 columns]"
            ]
          },
          "metadata": {
            "tags": []
          },
          "execution_count": 6
        }
      ]
    },
    {
      "cell_type": "markdown",
      "metadata": {
        "id": "CbMAmBFVW6Ai",
        "colab_type": "text"
      },
      "source": [
        "# Basic Data Preparation\n",
        "- Basic Exploratory analysis"
      ]
    },
    {
      "cell_type": "code",
      "metadata": {
        "id": "bPARNUesW6Ai",
        "colab_type": "code",
        "colab": {}
      },
      "source": [
        "# merge on movieId=user_id column\n",
        "data = pd.merge(left=movies, right=df, on='movieId')"
      ],
      "execution_count": null,
      "outputs": []
    },
    {
      "cell_type": "code",
      "metadata": {
        "id": "txxRN-WIW6Ak",
        "colab_type": "code",
        "colab": {},
        "outputId": "9f0cd9e9-bdd0-404e-b0f2-8108e57f5848"
      },
      "source": [
        "data.head(6)\n",
        "data.shape"
      ],
      "execution_count": null,
      "outputs": [
        {
          "output_type": "execute_result",
          "data": {
            "text/plain": [
              "(1048575, 5)"
            ]
          },
          "metadata": {
            "tags": []
          },
          "execution_count": 126
        }
      ]
    },
    {
      "cell_type": "code",
      "metadata": {
        "id": "p2nFM2hqW6Am",
        "colab_type": "code",
        "colab": {},
        "outputId": "e2db0c38-7ed4-4da2-dc34-ab764a917120"
      },
      "source": [
        "#checking for N/As\n",
        "data.isnull().sum()"
      ],
      "execution_count": null,
      "outputs": [
        {
          "output_type": "execute_result",
          "data": {
            "text/plain": [
              "movieId    0\n",
              "title      0\n",
              "genres     0\n",
              "userId     0\n",
              "rating     0\n",
              "dtype: int64"
            ]
          },
          "metadata": {
            "tags": []
          },
          "execution_count": 127
        }
      ]
    },
    {
      "cell_type": "code",
      "metadata": {
        "id": "tNUxpVVUW6Ap",
        "colab_type": "code",
        "colab": {},
        "outputId": "b35f5c8d-465b-4f73-f818-75ab4c50a641"
      },
      "source": [
        "data.shape"
      ],
      "execution_count": null,
      "outputs": [
        {
          "output_type": "execute_result",
          "data": {
            "text/plain": [
              "(1048575, 5)"
            ]
          },
          "metadata": {
            "tags": []
          },
          "execution_count": 128
        }
      ]
    },
    {
      "cell_type": "code",
      "metadata": {
        "id": "E9vjLvhfW6As",
        "colab_type": "code",
        "colab": {},
        "outputId": "5f12cea8-8a8c-4e6b-afc8-f2aacbd9db89"
      },
      "source": [
        "#checking for no. of unique movies\n",
        "\n",
        "data['movieId'].nunique()"
      ],
      "execution_count": null,
      "outputs": [
        {
          "output_type": "execute_result",
          "data": {
            "text/plain": [
              "22240"
            ]
          },
          "metadata": {
            "tags": []
          },
          "execution_count": 129
        }
      ]
    },
    {
      "cell_type": "code",
      "metadata": {
        "id": "sTeBrLNEW6Au",
        "colab_type": "code",
        "colab": {},
        "outputId": "fd00bd2b-4eb4-4b3b-a72a-06d2fa8a3ab3"
      },
      "source": [
        "years = []\n",
        "\n",
        "for title in data['title']:\n",
        "    year_subset = title[-5:-1]\n",
        "    try: years.append(int(year_subset))\n",
        "    except: years.append(9999)\n",
        "        \n",
        "data['moviePubYear'] = years\n",
        "print(len(data[data['moviePubYear'] == 9999]))"
      ],
      "execution_count": null,
      "outputs": [
        {
          "output_type": "stream",
          "text": [
            "555\n"
          ],
          "name": "stdout"
        }
      ]
    },
    {
      "cell_type": "code",
      "metadata": {
        "id": "yg0UO7gAW6Aw",
        "colab_type": "code",
        "colab": {}
      },
      "source": [
        "def make_histogram(dataset, attribute, bins=25, bar_color='#3498db', edge_color='#2980b9', title='Title', xlab='X', ylab='Y', sort_index=False):\n",
        "    if attribute == 'moviePubYear':\n",
        "        dataset = dataset[dataset['moviePubYear'] != 9999]\n",
        "        \n",
        "    fig, ax = plt.subplots(figsize=(14, 7))\n",
        "    ax.spines['top'].set_visible(False)\n",
        "    ax.spines['right'].set_visible(False)\n",
        "    ax.set_title(title, fontsize=24, pad=20)\n",
        "    ax.set_xlabel(xlab, fontsize=16, labelpad=20)\n",
        "    ax.set_ylabel(ylab, fontsize=16, labelpad=20)\n",
        "    \n",
        "    plt.hist(dataset[attribute], bins=bins, color=bar_color, ec=edge_color, linewidth=2)\n",
        "    \n",
        "    plt.xticks(rotation=45)"
      ],
      "execution_count": null,
      "outputs": []
    },
    {
      "cell_type": "code",
      "metadata": {
        "id": "v34Qvw_2W6Az",
        "colab_type": "code",
        "colab": {},
        "outputId": "3324d887-fc4b-4de6-c718-7dc910d21e8f"
      },
      "source": [
        "make_histogram(data, 'moviePubYear', title='Movies Published per Year', xlab='Year', ylab='Counts')"
      ],
      "execution_count": null,
      "outputs": [
        {
          "output_type": "display_data",
          "data": {
            "image/png": "[encoded data removed]",
            "text/plain": [
              "<Figure size 1008x504 with 1 Axes>"
            ]
          },
          "metadata": {
            "tags": []
          }
        }
      ]
    },
    {
      "cell_type": "code",
      "metadata": {
        "id": "hU2i46ZwW6A1",
        "colab_type": "code",
        "colab": {}
      },
      "source": [
        ""
      ],
      "execution_count": 8,
      "outputs": []
    },
    {
      "cell_type": "code",
      "metadata": {
        "id": "4ZXIDqrNYMQZ",
        "colab_type": "code",
        "colab": {}
      },
      "source": [
        ""
      ],
      "execution_count": null,
      "outputs": []
    },
    {
      "cell_type": "markdown",
      "metadata": {
        "id": "g3fCGbP6W6A4",
        "colab_type": "text"
      },
      "source": [
        "# The number of  Latent Factors needed for Truncated SVD"
      ]
    },
    {
      "cell_type": "code",
      "metadata": {
        "id": "TifnKAcgW6A4",
        "colab_type": "code",
        "colab": {},
        "outputId": "a96e29ef-7eb3-473e-fb84-04408c808b53"
      },
      "source": [
        "#This is just to show how many genres are there to create the number of needed latent Factors for Truncated SVD model\n",
        "columns1 = ['movieId', 'movie title', 'release date', 'video release date', 'IMDb URL', 'unknown', 'Action', 'Adventure',\n",
        "          'Animation', 'Childrens', 'Comedy', 'Crime', 'Documentary', 'Drama', 'Fantasy', 'Film-Noir', 'Horror',\n",
        "          'Musical', 'Mystery', 'Romance', 'Sci-Fi', 'Thriller', 'War', 'Western']\n",
        "movies_to_show_genres = pd.read_csv('https://raw.githubusercontent.com/ssufian/DAT-612/master/Projects/datasets_626_1187_ml-100k_u%20(2).item', sep='|', names=columns1, \n",
        "                     encoding='latin-1')\n",
        "movies_to_show_genres.head()\n"
      ],
      "execution_count": null,
      "outputs": [
        {
          "output_type": "execute_result",
          "data": {
            "text/html": [
              "<div>\n",
              "<style scoped>\n",
              "    .dataframe tbody tr th:only-of-type {\n",
              "        vertical-align: middle;\n",
              "    }\n",
              "\n",
              "    .dataframe tbody tr th {\n",
              "        vertical-align: top;\n",
              "    }\n",
              "\n",
              "    .dataframe thead th {\n",
              "        text-align: right;\n",
              "    }\n",
              "</style>\n",
              "<table border=\"1\" class=\"dataframe\">\n",
              "  <thead>\n",
              "    <tr style=\"text-align: right;\">\n",
              "      <th></th>\n",
              "      <th>movieId</th>\n",
              "      <th>movie title</th>\n",
              "      <th>release date</th>\n",
              "      <th>video release date</th>\n",
              "      <th>IMDb URL</th>\n",
              "      <th>unknown</th>\n",
              "      <th>Action</th>\n",
              "      <th>Adventure</th>\n",
              "      <th>Animation</th>\n",
              "      <th>Childrens</th>\n",
              "      <th>...</th>\n",
              "      <th>Fantasy</th>\n",
              "      <th>Film-Noir</th>\n",
              "      <th>Horror</th>\n",
              "      <th>Musical</th>\n",
              "      <th>Mystery</th>\n",
              "      <th>Romance</th>\n",
              "      <th>Sci-Fi</th>\n",
              "      <th>Thriller</th>\n",
              "      <th>War</th>\n",
              "      <th>Western</th>\n",
              "    </tr>\n",
              "  </thead>\n",
              "  <tbody>\n",
              "    <tr>\n",
              "      <th>0</th>\n",
              "      <td>1</td>\n",
              "      <td>Toy Story (1995)</td>\n",
              "      <td>01-Jan-1995</td>\n",
              "      <td>NaN</td>\n",
              "      <td>http://us.imdb.com/M/title-exact?Toy%20Story%2...</td>\n",
              "      <td>0</td>\n",
              "      <td>0</td>\n",
              "      <td>0</td>\n",
              "      <td>1</td>\n",
              "      <td>1</td>\n",
              "      <td>...</td>\n",
              "      <td>0</td>\n",
              "      <td>0</td>\n",
              "      <td>0</td>\n",
              "      <td>0</td>\n",
              "      <td>0</td>\n",
              "      <td>0</td>\n",
              "      <td>0</td>\n",
              "      <td>0</td>\n",
              "      <td>0</td>\n",
              "      <td>0</td>\n",
              "    </tr>\n",
              "    <tr>\n",
              "      <th>1</th>\n",
              "      <td>2</td>\n",
              "      <td>GoldenEye (1995)</td>\n",
              "      <td>01-Jan-1995</td>\n",
              "      <td>NaN</td>\n",
              "      <td>http://us.imdb.com/M/title-exact?GoldenEye%20(...</td>\n",
              "      <td>0</td>\n",
              "      <td>1</td>\n",
              "      <td>1</td>\n",
              "      <td>0</td>\n",
              "      <td>0</td>\n",
              "      <td>...</td>\n",
              "      <td>0</td>\n",
              "      <td>0</td>\n",
              "      <td>0</td>\n",
              "      <td>0</td>\n",
              "      <td>0</td>\n",
              "      <td>0</td>\n",
              "      <td>0</td>\n",
              "      <td>1</td>\n",
              "      <td>0</td>\n",
              "      <td>0</td>\n",
              "    </tr>\n",
              "    <tr>\n",
              "      <th>2</th>\n",
              "      <td>3</td>\n",
              "      <td>Four Rooms (1995)</td>\n",
              "      <td>01-Jan-1995</td>\n",
              "      <td>NaN</td>\n",
              "      <td>http://us.imdb.com/M/title-exact?Four%20Rooms%...</td>\n",
              "      <td>0</td>\n",
              "      <td>0</td>\n",
              "      <td>0</td>\n",
              "      <td>0</td>\n",
              "      <td>0</td>\n",
              "      <td>...</td>\n",
              "      <td>0</td>\n",
              "      <td>0</td>\n",
              "      <td>0</td>\n",
              "      <td>0</td>\n",
              "      <td>0</td>\n",
              "      <td>0</td>\n",
              "      <td>0</td>\n",
              "      <td>1</td>\n",
              "      <td>0</td>\n",
              "      <td>0</td>\n",
              "    </tr>\n",
              "    <tr>\n",
              "      <th>3</th>\n",
              "      <td>4</td>\n",
              "      <td>Get Shorty (1995)</td>\n",
              "      <td>01-Jan-1995</td>\n",
              "      <td>NaN</td>\n",
              "      <td>http://us.imdb.com/M/title-exact?Get%20Shorty%...</td>\n",
              "      <td>0</td>\n",
              "      <td>1</td>\n",
              "      <td>0</td>\n",
              "      <td>0</td>\n",
              "      <td>0</td>\n",
              "      <td>...</td>\n",
              "      <td>0</td>\n",
              "      <td>0</td>\n",
              "      <td>0</td>\n",
              "      <td>0</td>\n",
              "      <td>0</td>\n",
              "      <td>0</td>\n",
              "      <td>0</td>\n",
              "      <td>0</td>\n",
              "      <td>0</td>\n",
              "      <td>0</td>\n",
              "    </tr>\n",
              "    <tr>\n",
              "      <th>4</th>\n",
              "      <td>5</td>\n",
              "      <td>Copycat (1995)</td>\n",
              "      <td>01-Jan-1995</td>\n",
              "      <td>NaN</td>\n",
              "      <td>http://us.imdb.com/M/title-exact?Copycat%20(1995)</td>\n",
              "      <td>0</td>\n",
              "      <td>0</td>\n",
              "      <td>0</td>\n",
              "      <td>0</td>\n",
              "      <td>0</td>\n",
              "      <td>...</td>\n",
              "      <td>0</td>\n",
              "      <td>0</td>\n",
              "      <td>0</td>\n",
              "      <td>0</td>\n",
              "      <td>0</td>\n",
              "      <td>0</td>\n",
              "      <td>0</td>\n",
              "      <td>1</td>\n",
              "      <td>0</td>\n",
              "      <td>0</td>\n",
              "    </tr>\n",
              "  </tbody>\n",
              "</table>\n",
              "<p>5 rows × 24 columns</p>\n",
              "</div>"
            ],
            "text/plain": [
              "   movieId        movie title release date  video release date  \\\n",
              "0        1   Toy Story (1995)  01-Jan-1995                 NaN   \n",
              "1        2   GoldenEye (1995)  01-Jan-1995                 NaN   \n",
              "2        3  Four Rooms (1995)  01-Jan-1995                 NaN   \n",
              "3        4  Get Shorty (1995)  01-Jan-1995                 NaN   \n",
              "4        5     Copycat (1995)  01-Jan-1995                 NaN   \n",
              "\n",
              "                                            IMDb URL  unknown  Action  \\\n",
              "0  http://us.imdb.com/M/title-exact?Toy%20Story%2...        0       0   \n",
              "1  http://us.imdb.com/M/title-exact?GoldenEye%20(...        0       1   \n",
              "2  http://us.imdb.com/M/title-exact?Four%20Rooms%...        0       0   \n",
              "3  http://us.imdb.com/M/title-exact?Get%20Shorty%...        0       1   \n",
              "4  http://us.imdb.com/M/title-exact?Copycat%20(1995)        0       0   \n",
              "\n",
              "   Adventure  Animation  Childrens  ...  Fantasy  Film-Noir  Horror  Musical  \\\n",
              "0          0          1          1  ...        0          0       0        0   \n",
              "1          1          0          0  ...        0          0       0        0   \n",
              "2          0          0          0  ...        0          0       0        0   \n",
              "3          0          0          0  ...        0          0       0        0   \n",
              "4          0          0          0  ...        0          0       0        0   \n",
              "\n",
              "   Mystery  Romance  Sci-Fi  Thriller  War  Western  \n",
              "0        0        0       0         0    0        0  \n",
              "1        0        0       0         1    0        0  \n",
              "2        0        0       0         1    0        0  \n",
              "3        0        0       0         0    0        0  \n",
              "4        0        0       0         1    0        0  \n",
              "\n",
              "[5 rows x 24 columns]"
            ]
          },
          "metadata": {
            "tags": []
          },
          "execution_count": 131
        }
      ]
    },
    {
      "cell_type": "code",
      "metadata": {
        "id": "9A3K_7eaW6A6",
        "colab_type": "code",
        "colab": {},
        "outputId": "1c3d477e-1020-46cd-8a9d-65f2faf13bf9"
      },
      "source": [
        "movie_names = movies[['movieId', 'title']]\n",
        "combined_movies_data = pd.merge(df, movie_names, on='movieId')\n",
        "combined_movies_data.head()\n",
        "#combined_movies_data.shape"
      ],
      "execution_count": null,
      "outputs": [
        {
          "output_type": "execute_result",
          "data": {
            "text/html": [
              "<div>\n",
              "<style scoped>\n",
              "    .dataframe tbody tr th:only-of-type {\n",
              "        vertical-align: middle;\n",
              "    }\n",
              "\n",
              "    .dataframe tbody tr th {\n",
              "        vertical-align: top;\n",
              "    }\n",
              "\n",
              "    .dataframe thead th {\n",
              "        text-align: right;\n",
              "    }\n",
              "</style>\n",
              "<table border=\"1\" class=\"dataframe\">\n",
              "  <thead>\n",
              "    <tr style=\"text-align: right;\">\n",
              "      <th></th>\n",
              "      <th>userId</th>\n",
              "      <th>movieId</th>\n",
              "      <th>rating</th>\n",
              "      <th>title</th>\n",
              "    </tr>\n",
              "  </thead>\n",
              "  <tbody>\n",
              "    <tr>\n",
              "      <th>0</th>\n",
              "      <td>1</td>\n",
              "      <td>296</td>\n",
              "      <td>5.0</td>\n",
              "      <td>Pulp Fiction (1994)</td>\n",
              "    </tr>\n",
              "    <tr>\n",
              "      <th>1</th>\n",
              "      <td>3</td>\n",
              "      <td>296</td>\n",
              "      <td>5.0</td>\n",
              "      <td>Pulp Fiction (1994)</td>\n",
              "    </tr>\n",
              "    <tr>\n",
              "      <th>2</th>\n",
              "      <td>4</td>\n",
              "      <td>296</td>\n",
              "      <td>4.0</td>\n",
              "      <td>Pulp Fiction (1994)</td>\n",
              "    </tr>\n",
              "    <tr>\n",
              "      <th>3</th>\n",
              "      <td>5</td>\n",
              "      <td>296</td>\n",
              "      <td>4.0</td>\n",
              "      <td>Pulp Fiction (1994)</td>\n",
              "    </tr>\n",
              "    <tr>\n",
              "      <th>4</th>\n",
              "      <td>7</td>\n",
              "      <td>296</td>\n",
              "      <td>4.0</td>\n",
              "      <td>Pulp Fiction (1994)</td>\n",
              "    </tr>\n",
              "  </tbody>\n",
              "</table>\n",
              "</div>"
            ],
            "text/plain": [
              "   userId  movieId  rating                title\n",
              "0       1      296     5.0  Pulp Fiction (1994)\n",
              "1       3      296     5.0  Pulp Fiction (1994)\n",
              "2       4      296     4.0  Pulp Fiction (1994)\n",
              "3       5      296     4.0  Pulp Fiction (1994)\n",
              "4       7      296     4.0  Pulp Fiction (1994)"
            ]
          },
          "metadata": {
            "tags": []
          },
          "execution_count": 136
        }
      ]
    },
    {
      "cell_type": "markdown",
      "metadata": {
        "id": "cejG-CIfW6A9",
        "colab_type": "text"
      },
      "source": [
        "# Pivot data\n",
        "\n",
        "- Create a user-item table"
      ]
    },
    {
      "cell_type": "code",
      "metadata": {
        "id": "s8Yes16oW6A-",
        "colab_type": "code",
        "colab": {},
        "outputId": "6d8eae7e-c41b-4460-9bbd-5e2677b5237a"
      },
      "source": [
        "rating_crosstab = combined_movies_data.pivot_table(values='rating', index='userId', columns='title', fill_value=0)\n",
        "rating_crosstab"
      ],
      "execution_count": null,
      "outputs": [
        {
          "output_type": "execute_result",
          "data": {
            "text/html": [
              "<div>\n",
              "<style scoped>\n",
              "    .dataframe tbody tr th:only-of-type {\n",
              "        vertical-align: middle;\n",
              "    }\n",
              "\n",
              "    .dataframe tbody tr th {\n",
              "        vertical-align: top;\n",
              "    }\n",
              "\n",
              "    .dataframe thead th {\n",
              "        text-align: right;\n",
              "    }\n",
              "</style>\n",
              "<table border=\"1\" class=\"dataframe\">\n",
              "  <thead>\n",
              "    <tr style=\"text-align: right;\">\n",
              "      <th>title</th>\n",
              "      <th>\"Great Performances\" Cats (1998)</th>\n",
              "      <th>#realityhigh (2017)</th>\n",
              "      <th>$ (Dollars) (1971)</th>\n",
              "      <th>$5 a Day (2008)</th>\n",
              "      <th>$9.99 (2008)</th>\n",
              "      <th>'71 (2014)</th>\n",
              "      <th>'Hellboy': The Seeds of Creation (2004)</th>\n",
              "      <th>'Neath the Arizona Skies (1934)</th>\n",
              "      <th>'R Xmas (2001)</th>\n",
              "      <th>'Round Midnight (1986)</th>\n",
              "      <th>...</th>\n",
              "      <th>Когда зажигаются ёлки (1950)</th>\n",
              "      <th>Ландыш серебристый (2000)</th>\n",
              "      <th>Мартынко (1987)</th>\n",
              "      <th>Мафия (2016)</th>\n",
              "      <th>Начальник</th>\n",
              "      <th>Обезьянки и грабители (1985)</th>\n",
              "      <th>Он вам не Димон (2017)</th>\n",
              "      <th>Приключения Домовёнка (1986)</th>\n",
              "      <th>Принцесса и Людоед (1977)</th>\n",
              "      <th>Я худею (2018)</th>\n",
              "    </tr>\n",
              "    <tr>\n",
              "      <th>userId</th>\n",
              "      <th></th>\n",
              "      <th></th>\n",
              "      <th></th>\n",
              "      <th></th>\n",
              "      <th></th>\n",
              "      <th></th>\n",
              "      <th></th>\n",
              "      <th></th>\n",
              "      <th></th>\n",
              "      <th></th>\n",
              "      <th></th>\n",
              "      <th></th>\n",
              "      <th></th>\n",
              "      <th></th>\n",
              "      <th></th>\n",
              "      <th></th>\n",
              "      <th></th>\n",
              "      <th></th>\n",
              "      <th></th>\n",
              "      <th></th>\n",
              "      <th></th>\n",
              "    </tr>\n",
              "  </thead>\n",
              "  <tbody>\n",
              "    <tr>\n",
              "      <th>1</th>\n",
              "      <td>0.0</td>\n",
              "      <td>0</td>\n",
              "      <td>0</td>\n",
              "      <td>0.0</td>\n",
              "      <td>0.0</td>\n",
              "      <td>0.0</td>\n",
              "      <td>0.0</td>\n",
              "      <td>0.0</td>\n",
              "      <td>0.0</td>\n",
              "      <td>0.0</td>\n",
              "      <td>...</td>\n",
              "      <td>0.0</td>\n",
              "      <td>0</td>\n",
              "      <td>0</td>\n",
              "      <td>0.0</td>\n",
              "      <td>0</td>\n",
              "      <td>0</td>\n",
              "      <td>0.0</td>\n",
              "      <td>0.0</td>\n",
              "      <td>0</td>\n",
              "      <td>0.0</td>\n",
              "    </tr>\n",
              "    <tr>\n",
              "      <th>2</th>\n",
              "      <td>0.0</td>\n",
              "      <td>0</td>\n",
              "      <td>0</td>\n",
              "      <td>0.0</td>\n",
              "      <td>0.0</td>\n",
              "      <td>0.0</td>\n",
              "      <td>0.0</td>\n",
              "      <td>0.0</td>\n",
              "      <td>0.0</td>\n",
              "      <td>0.0</td>\n",
              "      <td>...</td>\n",
              "      <td>0.0</td>\n",
              "      <td>0</td>\n",
              "      <td>0</td>\n",
              "      <td>0.0</td>\n",
              "      <td>0</td>\n",
              "      <td>0</td>\n",
              "      <td>0.0</td>\n",
              "      <td>0.0</td>\n",
              "      <td>0</td>\n",
              "      <td>0.0</td>\n",
              "    </tr>\n",
              "    <tr>\n",
              "      <th>3</th>\n",
              "      <td>0.0</td>\n",
              "      <td>0</td>\n",
              "      <td>0</td>\n",
              "      <td>0.0</td>\n",
              "      <td>0.0</td>\n",
              "      <td>0.0</td>\n",
              "      <td>0.0</td>\n",
              "      <td>0.0</td>\n",
              "      <td>0.0</td>\n",
              "      <td>0.0</td>\n",
              "      <td>...</td>\n",
              "      <td>0.0</td>\n",
              "      <td>0</td>\n",
              "      <td>0</td>\n",
              "      <td>0.0</td>\n",
              "      <td>0</td>\n",
              "      <td>0</td>\n",
              "      <td>0.0</td>\n",
              "      <td>0.0</td>\n",
              "      <td>0</td>\n",
              "      <td>0.0</td>\n",
              "    </tr>\n",
              "    <tr>\n",
              "      <th>4</th>\n",
              "      <td>0.0</td>\n",
              "      <td>0</td>\n",
              "      <td>0</td>\n",
              "      <td>0.0</td>\n",
              "      <td>0.0</td>\n",
              "      <td>0.0</td>\n",
              "      <td>0.0</td>\n",
              "      <td>0.0</td>\n",
              "      <td>0.0</td>\n",
              "      <td>0.0</td>\n",
              "      <td>...</td>\n",
              "      <td>0.0</td>\n",
              "      <td>0</td>\n",
              "      <td>0</td>\n",
              "      <td>0.0</td>\n",
              "      <td>0</td>\n",
              "      <td>0</td>\n",
              "      <td>0.0</td>\n",
              "      <td>0.0</td>\n",
              "      <td>0</td>\n",
              "      <td>0.0</td>\n",
              "    </tr>\n",
              "    <tr>\n",
              "      <th>5</th>\n",
              "      <td>0.0</td>\n",
              "      <td>0</td>\n",
              "      <td>0</td>\n",
              "      <td>0.0</td>\n",
              "      <td>0.0</td>\n",
              "      <td>0.0</td>\n",
              "      <td>0.0</td>\n",
              "      <td>0.0</td>\n",
              "      <td>0.0</td>\n",
              "      <td>0.0</td>\n",
              "      <td>...</td>\n",
              "      <td>0.0</td>\n",
              "      <td>0</td>\n",
              "      <td>0</td>\n",
              "      <td>0.0</td>\n",
              "      <td>0</td>\n",
              "      <td>0</td>\n",
              "      <td>0.0</td>\n",
              "      <td>0.0</td>\n",
              "      <td>0</td>\n",
              "      <td>0.0</td>\n",
              "    </tr>\n",
              "    <tr>\n",
              "      <th>...</th>\n",
              "      <td>...</td>\n",
              "      <td>...</td>\n",
              "      <td>...</td>\n",
              "      <td>...</td>\n",
              "      <td>...</td>\n",
              "      <td>...</td>\n",
              "      <td>...</td>\n",
              "      <td>...</td>\n",
              "      <td>...</td>\n",
              "      <td>...</td>\n",
              "      <td>...</td>\n",
              "      <td>...</td>\n",
              "      <td>...</td>\n",
              "      <td>...</td>\n",
              "      <td>...</td>\n",
              "      <td>...</td>\n",
              "      <td>...</td>\n",
              "      <td>...</td>\n",
              "      <td>...</td>\n",
              "      <td>...</td>\n",
              "      <td>...</td>\n",
              "    </tr>\n",
              "    <tr>\n",
              "      <th>7041</th>\n",
              "      <td>0.0</td>\n",
              "      <td>0</td>\n",
              "      <td>0</td>\n",
              "      <td>0.0</td>\n",
              "      <td>0.0</td>\n",
              "      <td>0.0</td>\n",
              "      <td>0.0</td>\n",
              "      <td>0.0</td>\n",
              "      <td>0.0</td>\n",
              "      <td>0.0</td>\n",
              "      <td>...</td>\n",
              "      <td>0.0</td>\n",
              "      <td>0</td>\n",
              "      <td>0</td>\n",
              "      <td>0.0</td>\n",
              "      <td>0</td>\n",
              "      <td>0</td>\n",
              "      <td>0.0</td>\n",
              "      <td>0.0</td>\n",
              "      <td>0</td>\n",
              "      <td>0.0</td>\n",
              "    </tr>\n",
              "    <tr>\n",
              "      <th>7042</th>\n",
              "      <td>0.0</td>\n",
              "      <td>0</td>\n",
              "      <td>0</td>\n",
              "      <td>0.0</td>\n",
              "      <td>0.0</td>\n",
              "      <td>0.0</td>\n",
              "      <td>0.0</td>\n",
              "      <td>0.0</td>\n",
              "      <td>0.0</td>\n",
              "      <td>0.0</td>\n",
              "      <td>...</td>\n",
              "      <td>0.0</td>\n",
              "      <td>0</td>\n",
              "      <td>0</td>\n",
              "      <td>0.0</td>\n",
              "      <td>0</td>\n",
              "      <td>0</td>\n",
              "      <td>0.0</td>\n",
              "      <td>0.0</td>\n",
              "      <td>0</td>\n",
              "      <td>0.0</td>\n",
              "    </tr>\n",
              "    <tr>\n",
              "      <th>7043</th>\n",
              "      <td>0.0</td>\n",
              "      <td>0</td>\n",
              "      <td>0</td>\n",
              "      <td>0.0</td>\n",
              "      <td>0.0</td>\n",
              "      <td>0.0</td>\n",
              "      <td>0.0</td>\n",
              "      <td>0.0</td>\n",
              "      <td>0.0</td>\n",
              "      <td>0.0</td>\n",
              "      <td>...</td>\n",
              "      <td>0.0</td>\n",
              "      <td>0</td>\n",
              "      <td>0</td>\n",
              "      <td>0.0</td>\n",
              "      <td>0</td>\n",
              "      <td>0</td>\n",
              "      <td>0.0</td>\n",
              "      <td>0.0</td>\n",
              "      <td>0</td>\n",
              "      <td>0.0</td>\n",
              "    </tr>\n",
              "    <tr>\n",
              "      <th>7044</th>\n",
              "      <td>0.0</td>\n",
              "      <td>0</td>\n",
              "      <td>0</td>\n",
              "      <td>0.0</td>\n",
              "      <td>0.0</td>\n",
              "      <td>0.0</td>\n",
              "      <td>0.0</td>\n",
              "      <td>0.0</td>\n",
              "      <td>0.0</td>\n",
              "      <td>0.0</td>\n",
              "      <td>...</td>\n",
              "      <td>0.0</td>\n",
              "      <td>0</td>\n",
              "      <td>0</td>\n",
              "      <td>0.0</td>\n",
              "      <td>0</td>\n",
              "      <td>0</td>\n",
              "      <td>0.0</td>\n",
              "      <td>0.0</td>\n",
              "      <td>0</td>\n",
              "      <td>0.0</td>\n",
              "    </tr>\n",
              "    <tr>\n",
              "      <th>7045</th>\n",
              "      <td>0.0</td>\n",
              "      <td>0</td>\n",
              "      <td>0</td>\n",
              "      <td>0.0</td>\n",
              "      <td>0.0</td>\n",
              "      <td>0.0</td>\n",
              "      <td>0.0</td>\n",
              "      <td>0.0</td>\n",
              "      <td>0.0</td>\n",
              "      <td>0.0</td>\n",
              "      <td>...</td>\n",
              "      <td>0.0</td>\n",
              "      <td>0</td>\n",
              "      <td>0</td>\n",
              "      <td>0.0</td>\n",
              "      <td>0</td>\n",
              "      <td>0</td>\n",
              "      <td>0.0</td>\n",
              "      <td>0.0</td>\n",
              "      <td>0</td>\n",
              "      <td>0.0</td>\n",
              "    </tr>\n",
              "  </tbody>\n",
              "</table>\n",
              "<p>7045 rows × 22226 columns</p>\n",
              "</div>"
            ],
            "text/plain": [
              "title   \"Great Performances\" Cats (1998)  #realityhigh (2017)  \\\n",
              "userId                                                          \n",
              "1                                    0.0                    0   \n",
              "2                                    0.0                    0   \n",
              "3                                    0.0                    0   \n",
              "4                                    0.0                    0   \n",
              "5                                    0.0                    0   \n",
              "...                                  ...                  ...   \n",
              "7041                                 0.0                    0   \n",
              "7042                                 0.0                    0   \n",
              "7043                                 0.0                    0   \n",
              "7044                                 0.0                    0   \n",
              "7045                                 0.0                    0   \n",
              "\n",
              "title   $ (Dollars) (1971)  $5 a Day (2008)  $9.99 (2008)  '71 (2014)  \\\n",
              "userId                                                                  \n",
              "1                        0              0.0           0.0         0.0   \n",
              "2                        0              0.0           0.0         0.0   \n",
              "3                        0              0.0           0.0         0.0   \n",
              "4                        0              0.0           0.0         0.0   \n",
              "5                        0              0.0           0.0         0.0   \n",
              "...                    ...              ...           ...         ...   \n",
              "7041                     0              0.0           0.0         0.0   \n",
              "7042                     0              0.0           0.0         0.0   \n",
              "7043                     0              0.0           0.0         0.0   \n",
              "7044                     0              0.0           0.0         0.0   \n",
              "7045                     0              0.0           0.0         0.0   \n",
              "\n",
              "title   'Hellboy': The Seeds of Creation (2004)  \\\n",
              "userId                                            \n",
              "1                                           0.0   \n",
              "2                                           0.0   \n",
              "3                                           0.0   \n",
              "4                                           0.0   \n",
              "5                                           0.0   \n",
              "...                                         ...   \n",
              "7041                                        0.0   \n",
              "7042                                        0.0   \n",
              "7043                                        0.0   \n",
              "7044                                        0.0   \n",
              "7045                                        0.0   \n",
              "\n",
              "title   'Neath the Arizona Skies (1934)  'R Xmas (2001)  \\\n",
              "userId                                                    \n",
              "1                                   0.0             0.0   \n",
              "2                                   0.0             0.0   \n",
              "3                                   0.0             0.0   \n",
              "4                                   0.0             0.0   \n",
              "5                                   0.0             0.0   \n",
              "...                                 ...             ...   \n",
              "7041                                0.0             0.0   \n",
              "7042                                0.0             0.0   \n",
              "7043                                0.0             0.0   \n",
              "7044                                0.0             0.0   \n",
              "7045                                0.0             0.0   \n",
              "\n",
              "title   'Round Midnight (1986)  ...  Когда зажигаются ёлки (1950)  \\\n",
              "userId                          ...                                 \n",
              "1                          0.0  ...                           0.0   \n",
              "2                          0.0  ...                           0.0   \n",
              "3                          0.0  ...                           0.0   \n",
              "4                          0.0  ...                           0.0   \n",
              "5                          0.0  ...                           0.0   \n",
              "...                        ...  ...                           ...   \n",
              "7041                       0.0  ...                           0.0   \n",
              "7042                       0.0  ...                           0.0   \n",
              "7043                       0.0  ...                           0.0   \n",
              "7044                       0.0  ...                           0.0   \n",
              "7045                       0.0  ...                           0.0   \n",
              "\n",
              "title   Ландыш серебристый (2000)  Мартынко (1987)  Мафия (2016)  Начальник  \\\n",
              "userId                                                                        \n",
              "1                               0                0           0.0          0   \n",
              "2                               0                0           0.0          0   \n",
              "3                               0                0           0.0          0   \n",
              "4                               0                0           0.0          0   \n",
              "5                               0                0           0.0          0   \n",
              "...                           ...              ...           ...        ...   \n",
              "7041                            0                0           0.0          0   \n",
              "7042                            0                0           0.0          0   \n",
              "7043                            0                0           0.0          0   \n",
              "7044                            0                0           0.0          0   \n",
              "7045                            0                0           0.0          0   \n",
              "\n",
              "title   Обезьянки и грабители (1985)  Он вам не Димон (2017)  \\\n",
              "userId                                                         \n",
              "1                                  0                     0.0   \n",
              "2                                  0                     0.0   \n",
              "3                                  0                     0.0   \n",
              "4                                  0                     0.0   \n",
              "5                                  0                     0.0   \n",
              "...                              ...                     ...   \n",
              "7041                               0                     0.0   \n",
              "7042                               0                     0.0   \n",
              "7043                               0                     0.0   \n",
              "7044                               0                     0.0   \n",
              "7045                               0                     0.0   \n",
              "\n",
              "title   Приключения Домовёнка (1986)  Принцесса и Людоед (1977)  \\\n",
              "userId                                                            \n",
              "1                                0.0                          0   \n",
              "2                                0.0                          0   \n",
              "3                                0.0                          0   \n",
              "4                                0.0                          0   \n",
              "5                                0.0                          0   \n",
              "...                              ...                        ...   \n",
              "7041                             0.0                          0   \n",
              "7042                             0.0                          0   \n",
              "7043                             0.0                          0   \n",
              "7044                             0.0                          0   \n",
              "7045                             0.0                          0   \n",
              "\n",
              "title   Я худею (2018)  \n",
              "userId                  \n",
              "1                  0.0  \n",
              "2                  0.0  \n",
              "3                  0.0  \n",
              "4                  0.0  \n",
              "5                  0.0  \n",
              "...                ...  \n",
              "7041               0.0  \n",
              "7042               0.0  \n",
              "7043               0.0  \n",
              "7044               0.0  \n",
              "7045               0.0  \n",
              "\n",
              "[7045 rows x 22226 columns]"
            ]
          },
          "metadata": {
            "tags": []
          },
          "execution_count": 138
        }
      ]
    },
    {
      "cell_type": "code",
      "metadata": {
        "id": "MWdXFXjTW6BA",
        "colab_type": "code",
        "colab": {},
        "outputId": "17f039eb-ba80-46ff-b016-61af6dec6f8c"
      },
      "source": [
        "rating_crosstab.shape"
      ],
      "execution_count": null,
      "outputs": [
        {
          "output_type": "execute_result",
          "data": {
            "text/plain": [
              "(7045, 22226)"
            ]
          },
          "metadata": {
            "tags": []
          },
          "execution_count": 139
        }
      ]
    },
    {
      "cell_type": "markdown",
      "metadata": {
        "id": "HVI-aseRW6BC",
        "colab_type": "text"
      },
      "source": [
        "# Transposing Table \n",
        "- Making an Item-Item based Table\n",
        "- Transpose of Utility Matrix makes rows into movies & columns into users"
      ]
    },
    {
      "cell_type": "code",
      "metadata": {
        "id": "sEcGnZHUW6BD",
        "colab_type": "code",
        "colab": {},
        "outputId": "d071ff42-61e9-45b4-e3a5-45e6d119d7b3"
      },
      "source": [
        "#Transpose of Utility Matrix => IBCF\n",
        "X = rating_crosstab.T\n",
        "X.head()"
      ],
      "execution_count": null,
      "outputs": [
        {
          "output_type": "execute_result",
          "data": {
            "text/html": [
              "<div>\n",
              "<style scoped>\n",
              "    .dataframe tbody tr th:only-of-type {\n",
              "        vertical-align: middle;\n",
              "    }\n",
              "\n",
              "    .dataframe tbody tr th {\n",
              "        vertical-align: top;\n",
              "    }\n",
              "\n",
              "    .dataframe thead th {\n",
              "        text-align: right;\n",
              "    }\n",
              "</style>\n",
              "<table border=\"1\" class=\"dataframe\">\n",
              "  <thead>\n",
              "    <tr style=\"text-align: right;\">\n",
              "      <th>userId</th>\n",
              "      <th>1</th>\n",
              "      <th>2</th>\n",
              "      <th>3</th>\n",
              "      <th>4</th>\n",
              "      <th>5</th>\n",
              "      <th>6</th>\n",
              "      <th>7</th>\n",
              "      <th>8</th>\n",
              "      <th>9</th>\n",
              "      <th>10</th>\n",
              "      <th>...</th>\n",
              "      <th>7036</th>\n",
              "      <th>7037</th>\n",
              "      <th>7038</th>\n",
              "      <th>7039</th>\n",
              "      <th>7040</th>\n",
              "      <th>7041</th>\n",
              "      <th>7042</th>\n",
              "      <th>7043</th>\n",
              "      <th>7044</th>\n",
              "      <th>7045</th>\n",
              "    </tr>\n",
              "    <tr>\n",
              "      <th>title</th>\n",
              "      <th></th>\n",
              "      <th></th>\n",
              "      <th></th>\n",
              "      <th></th>\n",
              "      <th></th>\n",
              "      <th></th>\n",
              "      <th></th>\n",
              "      <th></th>\n",
              "      <th></th>\n",
              "      <th></th>\n",
              "      <th></th>\n",
              "      <th></th>\n",
              "      <th></th>\n",
              "      <th></th>\n",
              "      <th></th>\n",
              "      <th></th>\n",
              "      <th></th>\n",
              "      <th></th>\n",
              "      <th></th>\n",
              "      <th></th>\n",
              "      <th></th>\n",
              "    </tr>\n",
              "  </thead>\n",
              "  <tbody>\n",
              "    <tr>\n",
              "      <th>\"Great Performances\" Cats (1998)</th>\n",
              "      <td>0.0</td>\n",
              "      <td>0.0</td>\n",
              "      <td>0.0</td>\n",
              "      <td>0.0</td>\n",
              "      <td>0.0</td>\n",
              "      <td>0.0</td>\n",
              "      <td>0.0</td>\n",
              "      <td>0.0</td>\n",
              "      <td>0.0</td>\n",
              "      <td>0.0</td>\n",
              "      <td>...</td>\n",
              "      <td>0.0</td>\n",
              "      <td>0.0</td>\n",
              "      <td>0.0</td>\n",
              "      <td>0.0</td>\n",
              "      <td>0.0</td>\n",
              "      <td>0.0</td>\n",
              "      <td>0.0</td>\n",
              "      <td>0.0</td>\n",
              "      <td>0.0</td>\n",
              "      <td>0.0</td>\n",
              "    </tr>\n",
              "    <tr>\n",
              "      <th>#realityhigh (2017)</th>\n",
              "      <td>0.0</td>\n",
              "      <td>0.0</td>\n",
              "      <td>0.0</td>\n",
              "      <td>0.0</td>\n",
              "      <td>0.0</td>\n",
              "      <td>0.0</td>\n",
              "      <td>0.0</td>\n",
              "      <td>0.0</td>\n",
              "      <td>0.0</td>\n",
              "      <td>0.0</td>\n",
              "      <td>...</td>\n",
              "      <td>0.0</td>\n",
              "      <td>0.0</td>\n",
              "      <td>0.0</td>\n",
              "      <td>0.0</td>\n",
              "      <td>0.0</td>\n",
              "      <td>0.0</td>\n",
              "      <td>0.0</td>\n",
              "      <td>0.0</td>\n",
              "      <td>0.0</td>\n",
              "      <td>0.0</td>\n",
              "    </tr>\n",
              "    <tr>\n",
              "      <th>$ (Dollars) (1971)</th>\n",
              "      <td>0.0</td>\n",
              "      <td>0.0</td>\n",
              "      <td>0.0</td>\n",
              "      <td>0.0</td>\n",
              "      <td>0.0</td>\n",
              "      <td>0.0</td>\n",
              "      <td>0.0</td>\n",
              "      <td>0.0</td>\n",
              "      <td>0.0</td>\n",
              "      <td>0.0</td>\n",
              "      <td>...</td>\n",
              "      <td>0.0</td>\n",
              "      <td>0.0</td>\n",
              "      <td>0.0</td>\n",
              "      <td>0.0</td>\n",
              "      <td>0.0</td>\n",
              "      <td>0.0</td>\n",
              "      <td>0.0</td>\n",
              "      <td>0.0</td>\n",
              "      <td>0.0</td>\n",
              "      <td>0.0</td>\n",
              "    </tr>\n",
              "    <tr>\n",
              "      <th>$5 a Day (2008)</th>\n",
              "      <td>0.0</td>\n",
              "      <td>0.0</td>\n",
              "      <td>0.0</td>\n",
              "      <td>0.0</td>\n",
              "      <td>0.0</td>\n",
              "      <td>0.0</td>\n",
              "      <td>0.0</td>\n",
              "      <td>0.0</td>\n",
              "      <td>0.0</td>\n",
              "      <td>0.0</td>\n",
              "      <td>...</td>\n",
              "      <td>0.0</td>\n",
              "      <td>0.0</td>\n",
              "      <td>0.0</td>\n",
              "      <td>0.0</td>\n",
              "      <td>0.0</td>\n",
              "      <td>0.0</td>\n",
              "      <td>0.0</td>\n",
              "      <td>0.0</td>\n",
              "      <td>0.0</td>\n",
              "      <td>0.0</td>\n",
              "    </tr>\n",
              "    <tr>\n",
              "      <th>$9.99 (2008)</th>\n",
              "      <td>0.0</td>\n",
              "      <td>0.0</td>\n",
              "      <td>0.0</td>\n",
              "      <td>0.0</td>\n",
              "      <td>0.0</td>\n",
              "      <td>0.0</td>\n",
              "      <td>0.0</td>\n",
              "      <td>0.0</td>\n",
              "      <td>0.0</td>\n",
              "      <td>0.0</td>\n",
              "      <td>...</td>\n",
              "      <td>0.0</td>\n",
              "      <td>0.0</td>\n",
              "      <td>0.0</td>\n",
              "      <td>0.0</td>\n",
              "      <td>0.0</td>\n",
              "      <td>0.0</td>\n",
              "      <td>0.0</td>\n",
              "      <td>0.0</td>\n",
              "      <td>0.0</td>\n",
              "      <td>0.0</td>\n",
              "    </tr>\n",
              "  </tbody>\n",
              "</table>\n",
              "<p>5 rows × 7045 columns</p>\n",
              "</div>"
            ],
            "text/plain": [
              "userId                            1     2     3     4     5     6     7     \\\n",
              "title                                                                        \n",
              "\"Great Performances\" Cats (1998)   0.0   0.0   0.0   0.0   0.0   0.0   0.0   \n",
              "#realityhigh (2017)                0.0   0.0   0.0   0.0   0.0   0.0   0.0   \n",
              "$ (Dollars) (1971)                 0.0   0.0   0.0   0.0   0.0   0.0   0.0   \n",
              "$5 a Day (2008)                    0.0   0.0   0.0   0.0   0.0   0.0   0.0   \n",
              "$9.99 (2008)                       0.0   0.0   0.0   0.0   0.0   0.0   0.0   \n",
              "\n",
              "userId                            8     9     10    ...  7036  7037  7038  \\\n",
              "title                                               ...                     \n",
              "\"Great Performances\" Cats (1998)   0.0   0.0   0.0  ...   0.0   0.0   0.0   \n",
              "#realityhigh (2017)                0.0   0.0   0.0  ...   0.0   0.0   0.0   \n",
              "$ (Dollars) (1971)                 0.0   0.0   0.0  ...   0.0   0.0   0.0   \n",
              "$5 a Day (2008)                    0.0   0.0   0.0  ...   0.0   0.0   0.0   \n",
              "$9.99 (2008)                       0.0   0.0   0.0  ...   0.0   0.0   0.0   \n",
              "\n",
              "userId                            7039  7040  7041  7042  7043  7044  7045  \n",
              "title                                                                       \n",
              "\"Great Performances\" Cats (1998)   0.0   0.0   0.0   0.0   0.0   0.0   0.0  \n",
              "#realityhigh (2017)                0.0   0.0   0.0   0.0   0.0   0.0   0.0  \n",
              "$ (Dollars) (1971)                 0.0   0.0   0.0   0.0   0.0   0.0   0.0  \n",
              "$5 a Day (2008)                    0.0   0.0   0.0   0.0   0.0   0.0   0.0  \n",
              "$9.99 (2008)                       0.0   0.0   0.0   0.0   0.0   0.0   0.0  \n",
              "\n",
              "[5 rows x 7045 columns]"
            ]
          },
          "metadata": {
            "tags": []
          },
          "execution_count": 140
        }
      ]
    },
    {
      "cell_type": "markdown",
      "metadata": {
        "id": "52Voym_SW6BF",
        "colab_type": "text"
      },
      "source": [
        "# Truncated SVD\n",
        "- Using Scikit-Learn to easily run the SVD decomposition into 20 latent factors, i.e. 20 different genre types"
      ]
    },
    {
      "cell_type": "code",
      "metadata": {
        "id": "1rG-JOBzW6BF",
        "colab_type": "code",
        "colab": {}
      },
      "source": [
        "SVD = TruncatedSVD(n_components=20, random_state=5)\n",
        "US = SVD.fit_transform(X)"
      ],
      "execution_count": null,
      "outputs": []
    },
    {
      "cell_type": "code",
      "metadata": {
        "id": "jM69SB0SW6BH",
        "colab_type": "code",
        "colab": {}
      },
      "source": [
        "# Components of Truncated SVD decompositions\n",
        "V=SVD.components_\n",
        "S=SVD.singular_values_ \n",
        "#print('u,s,v', US,S,V)\n",
        "#print('Check if Original Matrix is Restored: ',np.round(np.dot(US,V),1))"
      ],
      "execution_count": null,
      "outputs": []
    },
    {
      "cell_type": "code",
      "metadata": {
        "id": "Ei6eF_c7W6BJ",
        "colab_type": "code",
        "colab": {},
        "outputId": "a4973942-126b-42b6-fc65-72f012e0a655"
      },
      "source": [
        "print(SVD.explained_variance_ratio_)\n",
        "\n",
        "print(SVD.explained_variance_ratio_.sum())\n",
        "\n",
        "print(SVD.singular_values_)"
      ],
      "execution_count": null,
      "outputs": [
        {
          "output_type": "stream",
          "text": [
            "[0.1709174  0.04140253 0.02255414 0.01834604 0.01310275 0.01220618\n",
            " 0.01210197 0.00830934 0.00737258 0.00600195 0.00574421 0.00561532\n",
            " 0.00536161 0.00486189 0.00425913 0.00399123 0.00374156 0.00358006\n",
            " 0.00342113 0.00329635]\n",
            "0.3561873697217518\n",
            "[1623.53535391  761.24674545  565.52498996  521.72269688  441.82085645\n",
            "  413.43904458  413.30138241  341.17367404  321.89482556  290.32837432\n",
            "  285.32396543  280.80937009  273.9052148   260.82560568  244.38848083\n",
            "  236.9936827   230.5757045   224.61823943  220.74940192  214.8897386 ]\n"
          ],
          "name": "stdout"
        }
      ]
    },
    {
      "cell_type": "code",
      "metadata": {
        "id": "D4vTpE3hW6BL",
        "colab_type": "code",
        "colab": {},
        "outputId": "12e4e085-a56c-4c86-d394-c7d29a55c1d1"
      },
      "source": [
        "# converting matrix to dataframe for plotting purposes only\n",
        "var_ = pd.DataFrame(SVD.explained_variance_ratio_*100)\n",
        "var_.columns = ['variance']\n",
        "var_.index.names = ['factors']\n",
        "#setting plot size\n",
        "plt.rcParams['figure.figsize']=(12,8)\n",
        "my_colors = 'rgbkymc'    \n",
        "sns.set_style(\"darkgrid\",{\"axes.facecolor\": \".75\"}) \n",
        " \n",
        "var_[:20].plot(kind=\"bar\",color=my_colors)\n",
        "plt.legend('',frameon=False)\n",
        "plt.xticks(rotation=90, horizontalalignment=\"center\")\n",
        "plt.title(\"Fig1: Strength of 20 Latent factors (20 genres) in decreasing order\", fontsize=22)\n",
        "plt.xlabel(\"Latent Factors, Singular Values\",fontsize=15)\n",
        "plt.ylabel(\"Percent Variance Explained\",fontsize=15)\n",
        "plt.show()"
      ],
      "execution_count": null,
      "outputs": [
        {
          "output_type": "display_data",
          "data": {
            "image/png": "[encoded data removed]",
            "text/plain": [
              "<Figure size 864x576 with 1 Axes>"
            ]
          },
          "metadata": {
            "tags": []
          }
        }
      ]
    },
    {
      "cell_type": "code",
      "metadata": {
        "id": "Rtd99dZGW6BN",
        "colab_type": "code",
        "colab": {},
        "outputId": "f6474bfe-16ca-4999-ece7-59bc6f96f94c"
      },
      "source": [
        "### correlation matrix to actually visualize which movies correlates with another; less efficient\n",
        "#corr_mat_X=US.T.corr()\n",
        "#corr_mat_X.head()\n",
        "US"
      ],
      "execution_count": null,
      "outputs": [
        {
          "output_type": "execute_result",
          "data": {
            "text/plain": [
              "array([[ 1.03999361e+00,  6.59899619e-01,  4.56851990e-02, ...,\n",
              "        -7.42280488e-01,  8.51182425e-01,  8.03658721e-01],\n",
              "       [ 4.36584337e-01, -2.57259969e-01,  3.52953799e-01, ...,\n",
              "         4.68565292e-01, -3.53375020e-01,  3.73515399e-01],\n",
              "       [ 1.25437438e+01,  5.66918773e+00, -4.90783765e+00, ...,\n",
              "        -1.24421361e+00,  1.22044390e-01,  2.35042437e+00],\n",
              "       ...,\n",
              "       [ 3.58929614e-01,  3.71252154e-01,  2.29697499e-02, ...,\n",
              "        -2.21450649e-01,  5.66742101e-01,  3.78227779e-01],\n",
              "       [ 1.42428013e+00,  8.14959981e-01, -4.90234264e-01, ...,\n",
              "        -7.25062938e-01,  2.67599945e-01, -2.06811026e-01],\n",
              "       [ 2.29210339e-01, -6.22453482e-03,  2.73168483e-01, ...,\n",
              "         6.53523560e-01, -5.85882428e-02, -3.44356910e-02]])"
            ]
          },
          "metadata": {
            "tags": []
          },
          "execution_count": 347
        }
      ]
    },
    {
      "cell_type": "code",
      "metadata": {
        "id": "LXIbzJWqW6BP",
        "colab_type": "code",
        "colab": {},
        "outputId": "c27a39f0-ecbf-420d-cc59-96e752cd3bc2"
      },
      "source": [
        "#Correlation Matrix based on Truncated SVD with K=20\n",
        "corr_mat = np.corrcoef(US)\n",
        "corr_mat"
      ],
      "execution_count": null,
      "outputs": [
        {
          "output_type": "execute_result",
          "data": {
            "text/plain": [
              "array([[ 1.        , -0.16892649,  0.24622301, ...,  0.27841894,\n",
              "         0.49655912,  0.02549195],\n",
              "       [-0.16892649,  1.        ,  0.03658684, ...,  0.00485752,\n",
              "         0.22477219,  0.49050534],\n",
              "       [ 0.24622301,  0.03658684,  1.        , ...,  0.67882604,\n",
              "         0.2815439 , -0.02353832],\n",
              "       ...,\n",
              "       [ 0.27841894,  0.00485752,  0.67882604, ...,  1.        ,\n",
              "         0.1351043 , -0.17398341],\n",
              "       [ 0.49655912,  0.22477219,  0.2815439 , ...,  0.1351043 ,\n",
              "         1.        , -0.00922123],\n",
              "       [ 0.02549195,  0.49050534, -0.02353832, ..., -0.17398341,\n",
              "        -0.00922123,  1.        ]])"
            ]
          },
          "metadata": {
            "tags": []
          },
          "execution_count": 348
        }
      ]
    },
    {
      "cell_type": "code",
      "metadata": {
        "id": "tsMpxLqyW6BT",
        "colab_type": "code",
        "colab": {}
      },
      "source": [
        "# Function to check for similar movies\n",
        "def get_similar_item(movie):\n",
        "    movie_input =str(movie)\n",
        "    col_idx = rating_crosstab.columns.get_loc(movie_input)\n",
        "    corr_specific = corr_mat[col_idx]\n",
        "    df_similar_movie=pd.DataFrame({'corr_specific':corr_specific, 'Movies': rating_crosstab.columns})\\\n",
        "    .sort_values('corr_specific', ascending=False).head(10)# selecting only Top 10 similar movies\n",
        "    return print(df_similar_movie)"
      ],
      "execution_count": null,
      "outputs": []
    },
    {
      "cell_type": "code",
      "metadata": {
        "id": "NOKIdS9FW6BV",
        "colab_type": "code",
        "colab": {},
        "outputId": "1d20d2f0-e6dd-4f22-8ab0-4d1417b401c6"
      },
      "source": [
        "# Check to see if similar movies are what it should be or not\n",
        "check_similar_movie=get_similar_item(\"Pulp Fiction (1994)\")"
      ],
      "execution_count": null,
      "outputs": [
        {
          "output_type": "stream",
          "text": [
            "      corr_specific                            Movies\n",
            "1190       1.000000               Pulp Fiction (1994)\n",
            "1572       0.950869        Usual Suspects, The (1995)\n",
            "1329       0.948298  Silence of the Lambs, The (1991)\n",
            "1301       0.920992              Seven (Se7en) (1995)\n",
            "1183       0.913683          Professional, The (1994)\n",
            "1231       0.912845             Reservoir Dogs (1992)\n",
            "1205       0.910766    Raiders of the Lost Ark (1981)\n",
            "570        0.908905              Fugitive, The (1993)\n",
            "591        0.908807                 Get Shorty (1995)\n",
            "623        0.908359                 GoodFellas (1990)\n"
          ],
          "name": "stdout"
        }
      ]
    },
    {
      "cell_type": "code",
      "metadata": {
        "id": "ioolw9vRW6BX",
        "colab_type": "code",
        "colab": {}
      },
      "source": [
        ""
      ],
      "execution_count": null,
      "outputs": []
    },
    {
      "cell_type": "code",
      "metadata": {
        "id": "5kEmSw2iW6BZ",
        "colab_type": "code",
        "colab": {}
      },
      "source": [
        ""
      ],
      "execution_count": null,
      "outputs": []
    },
    {
      "cell_type": "code",
      "metadata": {
        "id": "bcyaOAw2W6Bb",
        "colab_type": "code",
        "colab": {}
      },
      "source": [
        ""
      ],
      "execution_count": null,
      "outputs": []
    },
    {
      "cell_type": "code",
      "metadata": {
        "id": "ajKK6dysW6Bd",
        "colab_type": "code",
        "colab": {}
      },
      "source": [
        "\n",
        "sc.stop()"
      ],
      "execution_count": null,
      "outputs": []
    },
    {
      "cell_type": "code",
      "metadata": {
        "id": "DKdDlyJJW6Bf",
        "colab_type": "code",
        "colab": {}
      },
      "source": [
        ""
      ],
      "execution_count": null,
      "outputs": []
    },
    {
      "cell_type": "code",
      "metadata": {
        "id": "HBUrntTdW6Bh",
        "colab_type": "code",
        "colab": {},
        "outputId": "99d4410d-f213-45c3-9ecd-cd4261d3da82"
      },
      "source": [
        "#calculate the number of unique users and movies.\n",
        "n_users = df.user_id.unique().shape[0]\n",
        "n_items = df.item_id.unique().shape[0]\n",
        "n_items"
      ],
      "execution_count": null,
      "outputs": [
        {
          "output_type": "execute_result",
          "data": {
            "text/plain": [
              "1682"
            ]
          },
          "metadata": {
            "tags": []
          },
          "execution_count": 327
        }
      ]
    },
    {
      "cell_type": "code",
      "metadata": {
        "id": "V36rRgndW6Bj",
        "colab_type": "code",
        "colab": {},
        "outputId": "db5e545e-2042-4f43-976b-6729ae1e99b3"
      },
      "source": [
        "\n",
        "df_ratings"
      ],
      "execution_count": null,
      "outputs": [
        {
          "output_type": "execute_result",
          "data": {
            "text/html": [
              "<div>\n",
              "<style scoped>\n",
              "    .dataframe tbody tr th:only-of-type {\n",
              "        vertical-align: middle;\n",
              "    }\n",
              "\n",
              "    .dataframe tbody tr th {\n",
              "        vertical-align: top;\n",
              "    }\n",
              "\n",
              "    .dataframe thead th {\n",
              "        text-align: right;\n",
              "    }\n",
              "</style>\n",
              "<table border=\"1\" class=\"dataframe\">\n",
              "  <thead>\n",
              "    <tr style=\"text-align: right;\">\n",
              "      <th></th>\n",
              "      <th>user_id</th>\n",
              "      <th>item_id</th>\n",
              "      <th>rating</th>\n",
              "      <th>movie title</th>\n",
              "    </tr>\n",
              "  </thead>\n",
              "  <tbody>\n",
              "    <tr>\n",
              "      <th>0</th>\n",
              "      <td>101</td>\n",
              "      <td>242</td>\n",
              "      <td>2</td>\n",
              "      <td>Toy Story</td>\n",
              "    </tr>\n",
              "    <tr>\n",
              "      <th>1</th>\n",
              "      <td>102</td>\n",
              "      <td>302</td>\n",
              "      <td>1</td>\n",
              "      <td>GoldenEye</td>\n",
              "    </tr>\n",
              "    <tr>\n",
              "      <th>2</th>\n",
              "      <td>103</td>\n",
              "      <td>377</td>\n",
              "      <td>5</td>\n",
              "      <td>Four Rooms</td>\n",
              "    </tr>\n",
              "    <tr>\n",
              "      <th>3</th>\n",
              "      <td>104</td>\n",
              "      <td>51</td>\n",
              "      <td>1</td>\n",
              "      <td>Get Shorty</td>\n",
              "    </tr>\n",
              "    <tr>\n",
              "      <th>4</th>\n",
              "      <td>105</td>\n",
              "      <td>8</td>\n",
              "      <td>5</td>\n",
              "      <td>Copycat</td>\n",
              "    </tr>\n",
              "  </tbody>\n",
              "</table>\n",
              "</div>"
            ],
            "text/plain": [
              "   user_id  item_id  rating  movie title\n",
              "0      101      242       2   Toy Story \n",
              "1      102      302       1    GoldenEye\n",
              "2      103      377       5   Four Rooms\n",
              "3      104       51       1  Get Shorty \n",
              "4      105        8       5     Copycat "
            ]
          },
          "metadata": {
            "tags": []
          },
          "execution_count": 373
        }
      ]
    },
    {
      "cell_type": "code",
      "metadata": {
        "id": "MHKPS9-8W6Bl",
        "colab_type": "code",
        "colab": {},
        "outputId": "31e45be1-3119-4a6f-aea9-a3be5d4b9b55"
      },
      "source": [
        "#create np array for the ratings matrix\n",
        "data_matrix = np.zeros((n_users, n_items))\n",
        "for line in df.itertuples():\n",
        "    data_matrix[line[1]-1, line[2]-1] = line[3]\n",
        "    #print(line)\n",
        "data_matrix"
      ],
      "execution_count": null,
      "outputs": [
        {
          "output_type": "execute_result",
          "data": {
            "text/plain": [
              "array([[5., 3., 4., ..., 0., 0., 0.],\n",
              "       [4., 0., 0., ..., 0., 0., 0.],\n",
              "       [0., 0., 0., ..., 0., 0., 0.],\n",
              "       ...,\n",
              "       [5., 0., 0., ..., 0., 0., 0.],\n",
              "       [0., 0., 0., ..., 0., 0., 0.],\n",
              "       [0., 5., 0., ..., 0., 0., 0.]])"
            ]
          },
          "metadata": {
            "tags": []
          },
          "execution_count": 328
        }
      ]
    },
    {
      "cell_type": "code",
      "metadata": {
        "id": "vkSfTsQfW6Bm",
        "colab_type": "code",
        "colab": {}
      },
      "source": [
        "x_original#IBCF\n",
        "xoriginal_matrix=x_original.to_numpy()#IBCF in Numpy"
      ],
      "execution_count": null,
      "outputs": []
    },
    {
      "cell_type": "code",
      "metadata": {
        "id": "fo0wyKZAW6Bo",
        "colab_type": "code",
        "colab": {}
      },
      "source": [
        "#Distance Metric using Sckit Learn library\n",
        "user_similarity = pairwise_distances(xoriginal_matrix, metric='cosine')\n",
        "item_similarity = pairwise_distances(x_original.T, metric='cosine')"
      ],
      "execution_count": null,
      "outputs": []
    },
    {
      "cell_type": "code",
      "metadata": {
        "id": "FTZ-kxkEW6Br",
        "colab_type": "code",
        "colab": {},
        "outputId": "26e6f6dd-fd34-4edb-bc48-6aad707de340"
      },
      "source": [
        "item_similarity"
      ],
      "execution_count": null,
      "outputs": [
        {
          "output_type": "execute_result",
          "data": {
            "text/plain": [
              "array([[0.        , 0.35729759, 0.17136676, 0.21417472, 0.54426728],\n",
              "       [0.35729759, 0.        , 0.3706055 , 0.33791529, 0.25961259],\n",
              "       [0.17136676, 0.3706055 , 0.        , 0.21535687, 0.25617294],\n",
              "       [0.21417472, 0.33791529, 0.21535687, 0.        , 0.6044226 ],\n",
              "       [0.54426728, 0.25961259, 0.25617294, 0.6044226 , 0.        ]])"
            ]
          },
          "metadata": {
            "tags": []
          },
          "execution_count": 353
        }
      ]
    },
    {
      "cell_type": "code",
      "metadata": {
        "id": "cIQp7SY_W6Bu",
        "colab_type": "code",
        "colab": {},
        "outputId": "a9e8adbd-643c-48d2-e23a-537084b3c5d5"
      },
      "source": [
        "x_original.T.corr()#item similarity"
      ],
      "execution_count": null,
      "outputs": [
        {
          "output_type": "execute_result",
          "data": {
            "text/html": [
              "<div>\n",
              "<style scoped>\n",
              "    .dataframe tbody tr th:only-of-type {\n",
              "        vertical-align: middle;\n",
              "    }\n",
              "\n",
              "    .dataframe tbody tr th {\n",
              "        vertical-align: top;\n",
              "    }\n",
              "\n",
              "    .dataframe thead th {\n",
              "        text-align: right;\n",
              "    }\n",
              "</style>\n",
              "<table border=\"1\" class=\"dataframe\">\n",
              "  <thead>\n",
              "    <tr style=\"text-align: right;\">\n",
              "      <th>movie title</th>\n",
              "      <th>Copycat</th>\n",
              "      <th>Four Rooms</th>\n",
              "      <th>Get Shorty</th>\n",
              "      <th>GoldenEye</th>\n",
              "      <th>Toy Story</th>\n",
              "    </tr>\n",
              "    <tr>\n",
              "      <th>movie title</th>\n",
              "      <th></th>\n",
              "      <th></th>\n",
              "      <th></th>\n",
              "      <th></th>\n",
              "      <th></th>\n",
              "    </tr>\n",
              "  </thead>\n",
              "  <tbody>\n",
              "    <tr>\n",
              "      <th>Copycat</th>\n",
              "      <td>1.000000</td>\n",
              "      <td>0.222817</td>\n",
              "      <td>-0.652438</td>\n",
              "      <td>-0.225113</td>\n",
              "      <td>-0.072493</td>\n",
              "    </tr>\n",
              "    <tr>\n",
              "      <th>Four Rooms</th>\n",
              "      <td>0.222817</td>\n",
              "      <td>1.000000</td>\n",
              "      <td>-0.078811</td>\n",
              "      <td>-0.380693</td>\n",
              "      <td>0.801246</td>\n",
              "    </tr>\n",
              "    <tr>\n",
              "      <th>Get Shorty</th>\n",
              "      <td>-0.652438</td>\n",
              "      <td>-0.078811</td>\n",
              "      <td>1.000000</td>\n",
              "      <td>0.086258</td>\n",
              "      <td>0.488095</td>\n",
              "    </tr>\n",
              "    <tr>\n",
              "      <th>GoldenEye</th>\n",
              "      <td>-0.225113</td>\n",
              "      <td>-0.380693</td>\n",
              "      <td>0.086258</td>\n",
              "      <td>1.000000</td>\n",
              "      <td>-0.460044</td>\n",
              "    </tr>\n",
              "    <tr>\n",
              "      <th>Toy Story</th>\n",
              "      <td>-0.072493</td>\n",
              "      <td>0.801246</td>\n",
              "      <td>0.488095</td>\n",
              "      <td>-0.460044</td>\n",
              "      <td>1.000000</td>\n",
              "    </tr>\n",
              "  </tbody>\n",
              "</table>\n",
              "</div>"
            ],
            "text/plain": [
              "movie title  Copycat   Four Rooms  Get Shorty   GoldenEye  Toy Story \n",
              "movie title                                                          \n",
              "Copycat      1.000000    0.222817    -0.652438  -0.225113   -0.072493\n",
              "Four Rooms   0.222817    1.000000    -0.078811  -0.380693    0.801246\n",
              "Get Shorty  -0.652438   -0.078811     1.000000   0.086258    0.488095\n",
              "GoldenEye   -0.225113   -0.380693     0.086258   1.000000   -0.460044\n",
              "Toy Story   -0.072493    0.801246     0.488095  -0.460044    1.000000"
            ]
          },
          "metadata": {
            "tags": []
          },
          "execution_count": 354
        }
      ]
    },
    {
      "cell_type": "code",
      "metadata": {
        "id": "_eX5ZkUhW6Bw",
        "colab_type": "code",
        "colab": {},
        "outputId": "9ed6537d-4644-475f-aa3b-01bcb98a14a8"
      },
      "source": [
        "corr_mat12 = np.corrcoef(x_original)\n",
        "corr_mat12#IBCF similarity"
      ],
      "execution_count": null,
      "outputs": [
        {
          "output_type": "execute_result",
          "data": {
            "text/plain": [
              "array([[ 1.        ,  0.22281713, -0.65243825, -0.22511258, -0.07249314],\n",
              "       [ 0.22281713,  1.        , -0.07881104, -0.38069349,  0.80124558],\n",
              "       [-0.65243825, -0.07881104,  1.        ,  0.08625819,  0.48809524],\n",
              "       [-0.22511258, -0.38069349,  0.08625819,  1.        , -0.46004371],\n",
              "       [-0.07249314,  0.80124558,  0.48809524, -0.46004371,  1.        ]])"
            ]
          },
          "metadata": {
            "tags": []
          },
          "execution_count": 357
        }
      ]
    },
    {
      "cell_type": "code",
      "metadata": {
        "id": "L5nfemhzW6By",
        "colab_type": "code",
        "colab": {},
        "outputId": "e2dd7dce-bc31-40ef-cf9c-bd17378ae7ee"
      },
      "source": [
        "x_original.corr()#user similarity"
      ],
      "execution_count": null,
      "outputs": [
        {
          "output_type": "execute_result",
          "data": {
            "text/html": [
              "<div>\n",
              "<style scoped>\n",
              "    .dataframe tbody tr th:only-of-type {\n",
              "        vertical-align: middle;\n",
              "    }\n",
              "\n",
              "    .dataframe tbody tr th {\n",
              "        vertical-align: top;\n",
              "    }\n",
              "\n",
              "    .dataframe thead th {\n",
              "        text-align: right;\n",
              "    }\n",
              "</style>\n",
              "<table border=\"1\" class=\"dataframe\">\n",
              "  <thead>\n",
              "    <tr style=\"text-align: right;\">\n",
              "      <th>user_id</th>\n",
              "      <th>101</th>\n",
              "      <th>102</th>\n",
              "      <th>103</th>\n",
              "      <th>104</th>\n",
              "      <th>105</th>\n",
              "    </tr>\n",
              "    <tr>\n",
              "      <th>user_id</th>\n",
              "      <th></th>\n",
              "      <th></th>\n",
              "      <th></th>\n",
              "      <th></th>\n",
              "      <th></th>\n",
              "    </tr>\n",
              "  </thead>\n",
              "  <tbody>\n",
              "    <tr>\n",
              "      <th>101</th>\n",
              "      <td>1.000000</td>\n",
              "      <td>0.056478</td>\n",
              "      <td>0.619292</td>\n",
              "      <td>0.506945</td>\n",
              "      <td>-0.265543</td>\n",
              "    </tr>\n",
              "    <tr>\n",
              "      <th>102</th>\n",
              "      <td>0.056478</td>\n",
              "      <td>1.000000</td>\n",
              "      <td>-0.577113</td>\n",
              "      <td>-0.359937</td>\n",
              "      <td>0.078736</td>\n",
              "    </tr>\n",
              "    <tr>\n",
              "      <th>103</th>\n",
              "      <td>0.619292</td>\n",
              "      <td>-0.577113</td>\n",
              "      <td>1.000000</td>\n",
              "      <td>0.219265</td>\n",
              "      <td>0.164448</td>\n",
              "    </tr>\n",
              "    <tr>\n",
              "      <th>104</th>\n",
              "      <td>0.506945</td>\n",
              "      <td>-0.359937</td>\n",
              "      <td>0.219265</td>\n",
              "      <td>1.000000</td>\n",
              "      <td>-0.903846</td>\n",
              "    </tr>\n",
              "    <tr>\n",
              "      <th>105</th>\n",
              "      <td>-0.265543</td>\n",
              "      <td>0.078736</td>\n",
              "      <td>0.164448</td>\n",
              "      <td>-0.903846</td>\n",
              "      <td>1.000000</td>\n",
              "    </tr>\n",
              "  </tbody>\n",
              "</table>\n",
              "</div>"
            ],
            "text/plain": [
              "user_id       101       102       103       104       105\n",
              "user_id                                                  \n",
              "101      1.000000  0.056478  0.619292  0.506945 -0.265543\n",
              "102      0.056478  1.000000 -0.577113 -0.359937  0.078736\n",
              "103      0.619292 -0.577113  1.000000  0.219265  0.164448\n",
              "104      0.506945 -0.359937  0.219265  1.000000 -0.903846\n",
              "105     -0.265543  0.078736  0.164448 -0.903846  1.000000"
            ]
          },
          "metadata": {
            "tags": []
          },
          "execution_count": 355
        }
      ]
    },
    {
      "cell_type": "code",
      "metadata": {
        "id": "2-tmXk_xW6B1",
        "colab_type": "code",
        "colab": {},
        "outputId": "eb89ce7f-3aa6-49be-c9f9-bf5e8223bc1a"
      },
      "source": [
        "corr_mat13 = np.corrcoef(x_original.T)\n",
        "corr_mat13#UBCF similarity"
      ],
      "execution_count": null,
      "outputs": [
        {
          "output_type": "execute_result",
          "data": {
            "text/plain": [
              "array([[ 1.        ,  0.05647825,  0.61929212,  0.50694478, -0.2655425 ],\n",
              "       [ 0.05647825,  1.        , -0.57711282, -0.35993702,  0.07873622],\n",
              "       [ 0.61929212, -0.57711282,  1.        ,  0.2192645 ,  0.16444838],\n",
              "       [ 0.50694478, -0.35993702,  0.2192645 ,  1.        , -0.90384615],\n",
              "       [-0.2655425 ,  0.07873622,  0.16444838, -0.90384615,  1.        ]])"
            ]
          },
          "metadata": {
            "tags": []
          },
          "execution_count": 358
        }
      ]
    },
    {
      "cell_type": "code",
      "metadata": {
        "id": "-QizS8rdW6B3",
        "colab_type": "code",
        "colab": {}
      },
      "source": [
        ""
      ],
      "execution_count": null,
      "outputs": []
    },
    {
      "cell_type": "code",
      "metadata": {
        "id": "7OPJuSjwW6B5",
        "colab_type": "code",
        "colab": {}
      },
      "source": [
        "def predict(ratings, similarity, type='user'):\n",
        "    if type == 'user':\n",
        "        mean_user_rating = ratings.mean(axis=1)\n",
        "        #We use np.newaxis so that mean_user_rating has same format as ratings\n",
        "        ratings_diff = (ratings - mean_user_rating[:, np.newaxis])\n",
        "        pred = mean_user_rating[:, np.newaxis] + similarity.dot(ratings_diff) / np.array([np.abs(similarity).sum(axis=1)]).T\n",
        "    elif type == 'item':\n",
        "        pred = ratings.dot(similarity) / np.array([np.abs(similarity).sum(axis=1)])\n",
        "    return pred"
      ],
      "execution_count": null,
      "outputs": []
    },
    {
      "cell_type": "code",
      "metadata": {
        "id": "CTKf69YbW6B8",
        "colab_type": "code",
        "colab": {},
        "outputId": "92d2d7af-c47c-4a32-ffdd-15bbc10b3295"
      },
      "source": [
        "x_original.mean(axis=1)"
      ],
      "execution_count": null,
      "outputs": [
        {
          "output_type": "execute_result",
          "data": {
            "text/plain": [
              "movie title\n",
              "Copycat        2.2\n",
              "Four Rooms     3.4\n",
              "Get Shorty     1.4\n",
              "GoldenEye      3.0\n",
              "Toy Story      2.4\n",
              "dtype: float64"
            ]
          },
          "metadata": {
            "tags": []
          },
          "execution_count": 372
        }
      ]
    },
    {
      "cell_type": "code",
      "metadata": {
        "id": "B1Sahj8GW6B-",
        "colab_type": "code",
        "colab": {},
        "outputId": "6d69e63f-b812-4f70-84ce-fe78a4bfc45a"
      },
      "source": [
        "mean_user_rating=x_original.mean(axis=1)\n",
        "mean_user_rating[:, np.newaxis]\n",
        "mean_user_rating.shape"
      ],
      "execution_count": null,
      "outputs": [
        {
          "output_type": "execute_result",
          "data": {
            "text/plain": [
              "(5,)"
            ]
          },
          "metadata": {
            "tags": []
          },
          "execution_count": 371
        }
      ]
    },
    {
      "cell_type": "code",
      "metadata": {
        "id": "9zgzovdMW6CB",
        "colab_type": "code",
        "colab": {}
      },
      "source": [
        "#user_prediction = predict(data_matrix, user_similarity, type='user')\n",
        "item_prediction = predict(x_original, corr_mat12, type='item')"
      ],
      "execution_count": null,
      "outputs": []
    },
    {
      "cell_type": "code",
      "metadata": {
        "id": "dcbHgPtlW6CE",
        "colab_type": "code",
        "colab": {},
        "outputId": "73194ce5-519c-4d23-fba1-749d564b38c0"
      },
      "source": [
        "item_prediction"
      ],
      "execution_count": null,
      "outputs": [
        {
          "output_type": "execute_result",
          "data": {
            "text/html": [
              "<div>\n",
              "<style scoped>\n",
              "    .dataframe tbody tr th:only-of-type {\n",
              "        vertical-align: middle;\n",
              "    }\n",
              "\n",
              "    .dataframe tbody tr th {\n",
              "        vertical-align: top;\n",
              "    }\n",
              "\n",
              "    .dataframe thead th {\n",
              "        text-align: right;\n",
              "    }\n",
              "</style>\n",
              "<table border=\"1\" class=\"dataframe\">\n",
              "  <thead>\n",
              "    <tr style=\"text-align: right;\">\n",
              "      <th></th>\n",
              "      <th>0</th>\n",
              "      <th>1</th>\n",
              "      <th>2</th>\n",
              "      <th>3</th>\n",
              "      <th>4</th>\n",
              "    </tr>\n",
              "    <tr>\n",
              "      <th>movie title</th>\n",
              "      <th></th>\n",
              "      <th></th>\n",
              "      <th></th>\n",
              "      <th></th>\n",
              "      <th></th>\n",
              "    </tr>\n",
              "  </thead>\n",
              "  <tbody>\n",
              "    <tr>\n",
              "      <th>Copycat</th>\n",
              "      <td>-1.348405</td>\n",
              "      <td>0.592338</td>\n",
              "      <td>2.595575</td>\n",
              "      <td>0.383832</td>\n",
              "      <td>1.576218</td>\n",
              "    </tr>\n",
              "    <tr>\n",
              "      <th>Four Rooms</th>\n",
              "      <td>0.319366</td>\n",
              "      <td>3.212613</td>\n",
              "      <td>1.845147</td>\n",
              "      <td>-1.465213</td>\n",
              "      <td>3.359409</td>\n",
              "    </tr>\n",
              "    <tr>\n",
              "      <th>Get Shorty</th>\n",
              "      <td>0.169615</td>\n",
              "      <td>1.626635</td>\n",
              "      <td>0.149795</td>\n",
              "      <td>0.007984</td>\n",
              "      <td>1.164081</td>\n",
              "    </tr>\n",
              "    <tr>\n",
              "      <th>GoldenEye</th>\n",
              "      <td>0.739199</td>\n",
              "      <td>1.382666</td>\n",
              "      <td>0.578494</td>\n",
              "      <td>0.428328</td>\n",
              "      <td>1.235794</td>\n",
              "    </tr>\n",
              "    <tr>\n",
              "      <th>Toy Story</th>\n",
              "      <td>-0.254621</td>\n",
              "      <td>3.562861</td>\n",
              "      <td>1.755038</td>\n",
              "      <td>-1.873126</td>\n",
              "      <td>3.537509</td>\n",
              "    </tr>\n",
              "  </tbody>\n",
              "</table>\n",
              "</div>"
            ],
            "text/plain": [
              "                    0         1         2         3         4\n",
              "movie title                                                  \n",
              "Copycat     -1.348405  0.592338  2.595575  0.383832  1.576218\n",
              "Four Rooms   0.319366  3.212613  1.845147 -1.465213  3.359409\n",
              "Get Shorty   0.169615  1.626635  0.149795  0.007984  1.164081\n",
              "GoldenEye    0.739199  1.382666  0.578494  0.428328  1.235794\n",
              "Toy Story   -0.254621  3.562861  1.755038 -1.873126  3.537509"
            ]
          },
          "metadata": {
            "tags": []
          },
          "execution_count": 362
        }
      ]
    },
    {
      "cell_type": "code",
      "metadata": {
        "id": "JPtQibpzW6CF",
        "colab_type": "code",
        "colab": {},
        "outputId": "82f235cc-3586-4404-81ac-afb7ef556485"
      },
      "source": [
        "item_prediction = predict(x_original, item_similarity, type='item')\n",
        "item_prediction"
      ],
      "execution_count": null,
      "outputs": [
        {
          "output_type": "execute_result",
          "data": {
            "text/html": [
              "<div>\n",
              "<style scoped>\n",
              "    .dataframe tbody tr th:only-of-type {\n",
              "        vertical-align: middle;\n",
              "    }\n",
              "\n",
              "    .dataframe tbody tr th {\n",
              "        vertical-align: top;\n",
              "    }\n",
              "\n",
              "    .dataframe thead th {\n",
              "        text-align: right;\n",
              "    }\n",
              "</style>\n",
              "<table border=\"1\" class=\"dataframe\">\n",
              "  <thead>\n",
              "    <tr style=\"text-align: right;\">\n",
              "      <th></th>\n",
              "      <th>0</th>\n",
              "      <th>1</th>\n",
              "      <th>2</th>\n",
              "      <th>3</th>\n",
              "      <th>4</th>\n",
              "    </tr>\n",
              "    <tr>\n",
              "      <th>movie title</th>\n",
              "      <th></th>\n",
              "      <th></th>\n",
              "      <th></th>\n",
              "      <th></th>\n",
              "      <th></th>\n",
              "    </tr>\n",
              "  </thead>\n",
              "  <tbody>\n",
              "    <tr>\n",
              "      <th>Copycat</th>\n",
              "      <td>2.267089</td>\n",
              "      <td>2.765133</td>\n",
              "      <td>1.352340</td>\n",
              "      <td>2.262771</td>\n",
              "      <td>1.822783</td>\n",
              "    </tr>\n",
              "    <tr>\n",
              "      <th>Four Rooms</th>\n",
              "      <td>3.923661</td>\n",
              "      <td>3.161457</td>\n",
              "      <td>3.446213</td>\n",
              "      <td>4.284464</td>\n",
              "      <td>2.583617</td>\n",
              "    </tr>\n",
              "    <tr>\n",
              "      <th>Get Shorty</th>\n",
              "      <td>1.866052</td>\n",
              "      <td>0.705765</td>\n",
              "      <td>2.140409</td>\n",
              "      <td>1.425853</td>\n",
              "      <td>1.350152</td>\n",
              "    </tr>\n",
              "    <tr>\n",
              "      <th>GoldenEye</th>\n",
              "      <td>2.142155</td>\n",
              "      <td>2.961571</td>\n",
              "      <td>2.776472</td>\n",
              "      <td>2.237667</td>\n",
              "      <td>3.636869</td>\n",
              "    </tr>\n",
              "    <tr>\n",
              "      <th>Toy Story</th>\n",
              "      <td>3.768576</td>\n",
              "      <td>1.538574</td>\n",
              "      <td>3.092142</td>\n",
              "      <td>3.748464</td>\n",
              "      <td>1.087675</td>\n",
              "    </tr>\n",
              "  </tbody>\n",
              "</table>\n",
              "</div>"
            ],
            "text/plain": [
              "                    0         1         2         3         4\n",
              "movie title                                                  \n",
              "Copycat      2.267089  2.765133  1.352340  2.262771  1.822783\n",
              "Four Rooms   3.923661  3.161457  3.446213  4.284464  2.583617\n",
              "Get Shorty   1.866052  0.705765  2.140409  1.425853  1.350152\n",
              "GoldenEye    2.142155  2.961571  2.776472  2.237667  3.636869\n",
              "Toy Story    3.768576  1.538574  3.092142  3.748464  1.087675"
            ]
          },
          "metadata": {
            "tags": []
          },
          "execution_count": 363
        }
      ]
    },
    {
      "cell_type": "code",
      "metadata": {
        "id": "S__DkKmUW6CH",
        "colab_type": "code",
        "colab": {},
        "outputId": "606dd6df-6e4e-43a5-d832-a481cfd3823f"
      },
      "source": [
        "x_original"
      ],
      "execution_count": null,
      "outputs": [
        {
          "output_type": "execute_result",
          "data": {
            "text/html": [
              "<div>\n",
              "<style scoped>\n",
              "    .dataframe tbody tr th:only-of-type {\n",
              "        vertical-align: middle;\n",
              "    }\n",
              "\n",
              "    .dataframe tbody tr th {\n",
              "        vertical-align: top;\n",
              "    }\n",
              "\n",
              "    .dataframe thead th {\n",
              "        text-align: right;\n",
              "    }\n",
              "</style>\n",
              "<table border=\"1\" class=\"dataframe\">\n",
              "  <thead>\n",
              "    <tr style=\"text-align: right;\">\n",
              "      <th>user_id</th>\n",
              "      <th>101</th>\n",
              "      <th>102</th>\n",
              "      <th>103</th>\n",
              "      <th>104</th>\n",
              "      <th>105</th>\n",
              "    </tr>\n",
              "    <tr>\n",
              "      <th>movie title</th>\n",
              "      <th></th>\n",
              "      <th></th>\n",
              "      <th></th>\n",
              "      <th></th>\n",
              "      <th></th>\n",
              "    </tr>\n",
              "  </thead>\n",
              "  <tbody>\n",
              "    <tr>\n",
              "      <th>Copycat</th>\n",
              "      <td>1</td>\n",
              "      <td>0</td>\n",
              "      <td>5</td>\n",
              "      <td>2</td>\n",
              "      <td>3</td>\n",
              "    </tr>\n",
              "    <tr>\n",
              "      <th>Four Rooms</th>\n",
              "      <td>3</td>\n",
              "      <td>4</td>\n",
              "      <td>4</td>\n",
              "      <td>1</td>\n",
              "      <td>5</td>\n",
              "    </tr>\n",
              "    <tr>\n",
              "      <th>Get Shorty</th>\n",
              "      <td>0</td>\n",
              "      <td>4</td>\n",
              "      <td>0</td>\n",
              "      <td>2</td>\n",
              "      <td>1</td>\n",
              "    </tr>\n",
              "    <tr>\n",
              "      <th>GoldenEye</th>\n",
              "      <td>4</td>\n",
              "      <td>4</td>\n",
              "      <td>4</td>\n",
              "      <td>3</td>\n",
              "      <td>0</td>\n",
              "    </tr>\n",
              "    <tr>\n",
              "      <th>Toy Story</th>\n",
              "      <td>0</td>\n",
              "      <td>5</td>\n",
              "      <td>2</td>\n",
              "      <td>0</td>\n",
              "      <td>5</td>\n",
              "    </tr>\n",
              "  </tbody>\n",
              "</table>\n",
              "</div>"
            ],
            "text/plain": [
              "user_id      101  102  103  104  105\n",
              "movie title                         \n",
              "Copycat        1    0    5    2    3\n",
              "Four Rooms     3    4    4    1    5\n",
              "Get Shorty     0    4    0    2    1\n",
              "GoldenEye      4    4    4    3    0\n",
              "Toy Story      0    5    2    0    5"
            ]
          },
          "metadata": {
            "tags": []
          },
          "execution_count": 340
        }
      ]
    },
    {
      "cell_type": "code",
      "metadata": {
        "id": "Cjo3tnaQW6CK",
        "colab_type": "code",
        "colab": {}
      },
      "source": [
        ""
      ],
      "execution_count": null,
      "outputs": []
    },
    {
      "cell_type": "code",
      "metadata": {
        "id": "3Q7uFOx2W6CL",
        "colab_type": "code",
        "colab": {}
      },
      "source": [
        ""
      ],
      "execution_count": null,
      "outputs": []
    },
    {
      "cell_type": "code",
      "metadata": {
        "id": "BFsO3X3dW6CO",
        "colab_type": "code",
        "colab": {}
      },
      "source": [
        ""
      ],
      "execution_count": null,
      "outputs": []
    },
    {
      "cell_type": "code",
      "metadata": {
        "id": "xnVOvVAIW6CS",
        "colab_type": "code",
        "colab": {}
      },
      "source": [
        "\n",
        "\n",
        "\n",
        "\n"
      ],
      "execution_count": null,
      "outputs": []
    },
    {
      "cell_type": "code",
      "metadata": {
        "id": "oQOuPrwcW6CU",
        "colab_type": "code",
        "colab": {}
      },
      "source": [
        "\n"
      ],
      "execution_count": null,
      "outputs": []
    },
    {
      "cell_type": "code",
      "metadata": {
        "id": "MtoML1V6W6CV",
        "colab_type": "code",
        "colab": {}
      },
      "source": [
        ""
      ],
      "execution_count": null,
      "outputs": []
    },
    {
      "cell_type": "code",
      "metadata": {
        "id": "fMu7ALLhW6CX",
        "colab_type": "code",
        "colab": {},
        "outputId": "12af8526-f538-49ee-ad91-24d862894aec"
      },
      "source": [
        "df_ratings = pd.read_csv(\"C:/CUNY Folder/CUNY Summer 2020/DAT 612/Proj 4/testfile.csv\",index_col=False, na_filter= False)\n",
        "\n",
        "df_ratings.head()\n"
      ],
      "execution_count": null,
      "outputs": [
        {
          "output_type": "execute_result",
          "data": {
            "text/html": [
              "<div>\n",
              "<style scoped>\n",
              "    .dataframe tbody tr th:only-of-type {\n",
              "        vertical-align: middle;\n",
              "    }\n",
              "\n",
              "    .dataframe tbody tr th {\n",
              "        vertical-align: top;\n",
              "    }\n",
              "\n",
              "    .dataframe thead th {\n",
              "        text-align: right;\n",
              "    }\n",
              "</style>\n",
              "<table border=\"1\" class=\"dataframe\">\n",
              "  <thead>\n",
              "    <tr style=\"text-align: right;\">\n",
              "      <th></th>\n",
              "      <th>user_id</th>\n",
              "      <th>item_id</th>\n",
              "      <th>rating</th>\n",
              "      <th>movie title</th>\n",
              "    </tr>\n",
              "  </thead>\n",
              "  <tbody>\n",
              "    <tr>\n",
              "      <th>0</th>\n",
              "      <td>101</td>\n",
              "      <td>242</td>\n",
              "      <td>2</td>\n",
              "      <td>Toy Story</td>\n",
              "    </tr>\n",
              "    <tr>\n",
              "      <th>1</th>\n",
              "      <td>102</td>\n",
              "      <td>302</td>\n",
              "      <td>1</td>\n",
              "      <td>GoldenEye</td>\n",
              "    </tr>\n",
              "    <tr>\n",
              "      <th>2</th>\n",
              "      <td>103</td>\n",
              "      <td>377</td>\n",
              "      <td>5</td>\n",
              "      <td>Four Rooms</td>\n",
              "    </tr>\n",
              "    <tr>\n",
              "      <th>3</th>\n",
              "      <td>104</td>\n",
              "      <td>51</td>\n",
              "      <td>1</td>\n",
              "      <td>Get Shorty</td>\n",
              "    </tr>\n",
              "    <tr>\n",
              "      <th>4</th>\n",
              "      <td>105</td>\n",
              "      <td>8</td>\n",
              "      <td>5</td>\n",
              "      <td>Copycat</td>\n",
              "    </tr>\n",
              "  </tbody>\n",
              "</table>\n",
              "</div>"
            ],
            "text/plain": [
              "   user_id  item_id  rating  movie title\n",
              "0      101      242       2   Toy Story \n",
              "1      102      302       1    GoldenEye\n",
              "2      103      377       5   Four Rooms\n",
              "3      104       51       1  Get Shorty \n",
              "4      105        8       5     Copycat "
            ]
          },
          "metadata": {
            "tags": []
          },
          "execution_count": 185
        }
      ]
    },
    {
      "cell_type": "code",
      "metadata": {
        "id": "aMeHlDcpW6Ca",
        "colab_type": "code",
        "colab": {},
        "outputId": "dfa447db-9795-46df-b62f-c2bb64e3ede5"
      },
      "source": [
        "crosstab = df_ratings.pivot_table(values='rating', index='user_id', columns='movie title', fill_value=0)\n",
        "\n",
        "l1=[1,3,0,4,0]\n",
        "l2=[0,4,4,4,5]\n",
        "l3=[5,4,0,4,2]\n",
        "l4=[2,1,2,3,0]\n",
        "l5=[3,5,1,0,5]\n",
        "\n",
        "crosstab.iloc[0]=l1\n",
        "crosstab.iloc[1]=l2\n",
        "crosstab.iloc[2]=l3\n",
        "crosstab.iloc[3]=l4\n",
        "crosstab.iloc[4]=l5\n",
        "crosstab"
      ],
      "execution_count": null,
      "outputs": [
        {
          "output_type": "execute_result",
          "data": {
            "text/html": [
              "<div>\n",
              "<style scoped>\n",
              "    .dataframe tbody tr th:only-of-type {\n",
              "        vertical-align: middle;\n",
              "    }\n",
              "\n",
              "    .dataframe tbody tr th {\n",
              "        vertical-align: top;\n",
              "    }\n",
              "\n",
              "    .dataframe thead th {\n",
              "        text-align: right;\n",
              "    }\n",
              "</style>\n",
              "<table border=\"1\" class=\"dataframe\">\n",
              "  <thead>\n",
              "    <tr style=\"text-align: right;\">\n",
              "      <th>movie title</th>\n",
              "      <th>Copycat</th>\n",
              "      <th>Four Rooms</th>\n",
              "      <th>Get Shorty</th>\n",
              "      <th>GoldenEye</th>\n",
              "      <th>Toy Story</th>\n",
              "    </tr>\n",
              "    <tr>\n",
              "      <th>user_id</th>\n",
              "      <th></th>\n",
              "      <th></th>\n",
              "      <th></th>\n",
              "      <th></th>\n",
              "      <th></th>\n",
              "    </tr>\n",
              "  </thead>\n",
              "  <tbody>\n",
              "    <tr>\n",
              "      <th>101</th>\n",
              "      <td>1</td>\n",
              "      <td>3</td>\n",
              "      <td>0</td>\n",
              "      <td>4</td>\n",
              "      <td>0</td>\n",
              "    </tr>\n",
              "    <tr>\n",
              "      <th>102</th>\n",
              "      <td>0</td>\n",
              "      <td>4</td>\n",
              "      <td>4</td>\n",
              "      <td>4</td>\n",
              "      <td>5</td>\n",
              "    </tr>\n",
              "    <tr>\n",
              "      <th>103</th>\n",
              "      <td>5</td>\n",
              "      <td>4</td>\n",
              "      <td>0</td>\n",
              "      <td>4</td>\n",
              "      <td>2</td>\n",
              "    </tr>\n",
              "    <tr>\n",
              "      <th>104</th>\n",
              "      <td>2</td>\n",
              "      <td>1</td>\n",
              "      <td>2</td>\n",
              "      <td>3</td>\n",
              "      <td>0</td>\n",
              "    </tr>\n",
              "    <tr>\n",
              "      <th>105</th>\n",
              "      <td>3</td>\n",
              "      <td>5</td>\n",
              "      <td>1</td>\n",
              "      <td>0</td>\n",
              "      <td>5</td>\n",
              "    </tr>\n",
              "  </tbody>\n",
              "</table>\n",
              "</div>"
            ],
            "text/plain": [
              "movie title  Copycat   Four Rooms  Get Shorty   GoldenEye  Toy Story \n",
              "user_id                                                              \n",
              "101                 1           3            0          4           0\n",
              "102                 0           4            4          4           5\n",
              "103                 5           4            0          4           2\n",
              "104                 2           1            2          3           0\n",
              "105                 3           5            1          0           5"
            ]
          },
          "metadata": {
            "tags": []
          },
          "execution_count": 186
        }
      ]
    },
    {
      "cell_type": "code",
      "metadata": {
        "id": "giuylWY2W6Cb",
        "colab_type": "code",
        "colab": {},
        "outputId": "0d80d306-3c63-4381-d80b-ceb37f5c1c62"
      },
      "source": [
        "x = crosstab.T\n",
        "x\n",
        "x_original= x.copy()\n",
        "x_original"
      ],
      "execution_count": null,
      "outputs": [
        {
          "output_type": "execute_result",
          "data": {
            "text/html": [
              "<div>\n",
              "<style scoped>\n",
              "    .dataframe tbody tr th:only-of-type {\n",
              "        vertical-align: middle;\n",
              "    }\n",
              "\n",
              "    .dataframe tbody tr th {\n",
              "        vertical-align: top;\n",
              "    }\n",
              "\n",
              "    .dataframe thead th {\n",
              "        text-align: right;\n",
              "    }\n",
              "</style>\n",
              "<table border=\"1\" class=\"dataframe\">\n",
              "  <thead>\n",
              "    <tr style=\"text-align: right;\">\n",
              "      <th>user_id</th>\n",
              "      <th>101</th>\n",
              "      <th>102</th>\n",
              "      <th>103</th>\n",
              "      <th>104</th>\n",
              "      <th>105</th>\n",
              "    </tr>\n",
              "    <tr>\n",
              "      <th>movie title</th>\n",
              "      <th></th>\n",
              "      <th></th>\n",
              "      <th></th>\n",
              "      <th></th>\n",
              "      <th></th>\n",
              "    </tr>\n",
              "  </thead>\n",
              "  <tbody>\n",
              "    <tr>\n",
              "      <th>Copycat</th>\n",
              "      <td>1</td>\n",
              "      <td>0</td>\n",
              "      <td>5</td>\n",
              "      <td>2</td>\n",
              "      <td>3</td>\n",
              "    </tr>\n",
              "    <tr>\n",
              "      <th>Four Rooms</th>\n",
              "      <td>3</td>\n",
              "      <td>4</td>\n",
              "      <td>4</td>\n",
              "      <td>1</td>\n",
              "      <td>5</td>\n",
              "    </tr>\n",
              "    <tr>\n",
              "      <th>Get Shorty</th>\n",
              "      <td>0</td>\n",
              "      <td>4</td>\n",
              "      <td>0</td>\n",
              "      <td>2</td>\n",
              "      <td>1</td>\n",
              "    </tr>\n",
              "    <tr>\n",
              "      <th>GoldenEye</th>\n",
              "      <td>4</td>\n",
              "      <td>4</td>\n",
              "      <td>4</td>\n",
              "      <td>3</td>\n",
              "      <td>0</td>\n",
              "    </tr>\n",
              "    <tr>\n",
              "      <th>Toy Story</th>\n",
              "      <td>0</td>\n",
              "      <td>5</td>\n",
              "      <td>2</td>\n",
              "      <td>0</td>\n",
              "      <td>5</td>\n",
              "    </tr>\n",
              "  </tbody>\n",
              "</table>\n",
              "</div>"
            ],
            "text/plain": [
              "user_id      101  102  103  104  105\n",
              "movie title                         \n",
              "Copycat        1    0    5    2    3\n",
              "Four Rooms     3    4    4    1    5\n",
              "Get Shorty     0    4    0    2    1\n",
              "GoldenEye      4    4    4    3    0\n",
              "Toy Story      0    5    2    0    5"
            ]
          },
          "metadata": {
            "tags": []
          },
          "execution_count": 198
        }
      ]
    },
    {
      "cell_type": "code",
      "metadata": {
        "id": "-fqwnvK9W6Cd",
        "colab_type": "code",
        "colab": {},
        "outputId": "3b6d0a00-ceee-43e9-8cef-a5e625f66ff2"
      },
      "source": [
        "x.replace(0, np.NaN, inplace=True)\n",
        "\n",
        "xmean=x.mean(axis = 1, skipna = True)\n",
        "xmean"
      ],
      "execution_count": null,
      "outputs": [
        {
          "output_type": "execute_result",
          "data": {
            "text/plain": [
              "movie title\n",
              "Copycat        2.750000\n",
              "Four Rooms     3.400000\n",
              "Get Shorty     2.333333\n",
              "GoldenEye      3.750000\n",
              "Toy Story      4.000000\n",
              "dtype: float64"
            ]
          },
          "metadata": {
            "tags": []
          },
          "execution_count": 199
        }
      ]
    },
    {
      "cell_type": "code",
      "metadata": {
        "id": "jN-iPb20W6Cf",
        "colab_type": "code",
        "colab": {}
      },
      "source": [
        "x.replace(np.NaN, 0, inplace=True)\n",
        "x1 = x.copy()\n",
        "for i in range(len(x)):\n",
        "    for j in range(len(x)):\n",
        "        if x.iloc[i,j]>0:\n",
        "            x.iloc[i,j]=x.iloc[i,j]-xmean[i]\n",
        "        else:\n",
        "            x1.iloc[i,j]=x.iloc[i,j]\n",
        "\n"
      ],
      "execution_count": null,
      "outputs": []
    },
    {
      "cell_type": "code",
      "metadata": {
        "id": "sxocr1XPW6Ch",
        "colab_type": "code",
        "colab": {},
        "outputId": "2b2155c8-954c-4054-e4f7-8cca778b8139"
      },
      "source": [
        "type(x1)\n",
        "x1#normalized data"
      ],
      "execution_count": null,
      "outputs": [
        {
          "output_type": "execute_result",
          "data": {
            "text/html": [
              "<div>\n",
              "<style scoped>\n",
              "    .dataframe tbody tr th:only-of-type {\n",
              "        vertical-align: middle;\n",
              "    }\n",
              "\n",
              "    .dataframe tbody tr th {\n",
              "        vertical-align: top;\n",
              "    }\n",
              "\n",
              "    .dataframe thead th {\n",
              "        text-align: right;\n",
              "    }\n",
              "</style>\n",
              "<table border=\"1\" class=\"dataframe\">\n",
              "  <thead>\n",
              "    <tr style=\"text-align: right;\">\n",
              "      <th>user_id</th>\n",
              "      <th>101</th>\n",
              "      <th>102</th>\n",
              "      <th>103</th>\n",
              "      <th>104</th>\n",
              "      <th>105</th>\n",
              "    </tr>\n",
              "    <tr>\n",
              "      <th>movie title</th>\n",
              "      <th></th>\n",
              "      <th></th>\n",
              "      <th></th>\n",
              "      <th></th>\n",
              "      <th></th>\n",
              "    </tr>\n",
              "  </thead>\n",
              "  <tbody>\n",
              "    <tr>\n",
              "      <th>Copycat</th>\n",
              "      <td>-1.75</td>\n",
              "      <td>0.000000</td>\n",
              "      <td>2.25</td>\n",
              "      <td>-0.750000</td>\n",
              "      <td>0.250000</td>\n",
              "    </tr>\n",
              "    <tr>\n",
              "      <th>Four Rooms</th>\n",
              "      <td>-0.40</td>\n",
              "      <td>0.600000</td>\n",
              "      <td>0.60</td>\n",
              "      <td>-2.400000</td>\n",
              "      <td>1.600000</td>\n",
              "    </tr>\n",
              "    <tr>\n",
              "      <th>Get Shorty</th>\n",
              "      <td>0.00</td>\n",
              "      <td>1.666667</td>\n",
              "      <td>0.00</td>\n",
              "      <td>-0.333333</td>\n",
              "      <td>-1.333333</td>\n",
              "    </tr>\n",
              "    <tr>\n",
              "      <th>GoldenEye</th>\n",
              "      <td>0.25</td>\n",
              "      <td>0.250000</td>\n",
              "      <td>0.25</td>\n",
              "      <td>-0.750000</td>\n",
              "      <td>0.000000</td>\n",
              "    </tr>\n",
              "    <tr>\n",
              "      <th>Toy Story</th>\n",
              "      <td>0.00</td>\n",
              "      <td>1.000000</td>\n",
              "      <td>-2.00</td>\n",
              "      <td>0.000000</td>\n",
              "      <td>1.000000</td>\n",
              "    </tr>\n",
              "  </tbody>\n",
              "</table>\n",
              "</div>"
            ],
            "text/plain": [
              "user_id       101       102   103       104       105\n",
              "movie title                                          \n",
              "Copycat     -1.75  0.000000  2.25 -0.750000  0.250000\n",
              "Four Rooms  -0.40  0.600000  0.60 -2.400000  1.600000\n",
              "Get Shorty   0.00  1.666667  0.00 -0.333333 -1.333333\n",
              "GoldenEye    0.25  0.250000  0.25 -0.750000  0.000000\n",
              "Toy Story    0.00  1.000000 -2.00  0.000000  1.000000"
            ]
          },
          "metadata": {
            "tags": []
          },
          "execution_count": 204
        }
      ]
    },
    {
      "cell_type": "code",
      "metadata": {
        "id": "aMRER6WxW6Cj",
        "colab_type": "code",
        "colab": {},
        "outputId": "3add4ef3-2718-42d8-8432-ae10c658c4b9"
      },
      "source": [
        "x1.T.corr()#Adjusted similarity matrix "
      ],
      "execution_count": null,
      "outputs": [
        {
          "output_type": "execute_result",
          "data": {
            "text/html": [
              "<div>\n",
              "<style scoped>\n",
              "    .dataframe tbody tr th:only-of-type {\n",
              "        vertical-align: middle;\n",
              "    }\n",
              "\n",
              "    .dataframe tbody tr th {\n",
              "        vertical-align: top;\n",
              "    }\n",
              "\n",
              "    .dataframe thead th {\n",
              "        text-align: right;\n",
              "    }\n",
              "</style>\n",
              "<table border=\"1\" class=\"dataframe\">\n",
              "  <thead>\n",
              "    <tr style=\"text-align: right;\">\n",
              "      <th>movie title</th>\n",
              "      <th>Copycat</th>\n",
              "      <th>Four Rooms</th>\n",
              "      <th>Get Shorty</th>\n",
              "      <th>GoldenEye</th>\n",
              "      <th>Toy Story</th>\n",
              "    </tr>\n",
              "    <tr>\n",
              "      <th>movie title</th>\n",
              "      <th></th>\n",
              "      <th></th>\n",
              "      <th></th>\n",
              "      <th></th>\n",
              "      <th></th>\n",
              "    </tr>\n",
              "  </thead>\n",
              "  <tbody>\n",
              "    <tr>\n",
              "      <th>Copycat</th>\n",
              "      <td>1.000000</td>\n",
              "      <td>0.473686</td>\n",
              "      <td>-0.013041</td>\n",
              "      <td>0.268373</td>\n",
              "      <td>-0.586556</td>\n",
              "    </tr>\n",
              "    <tr>\n",
              "      <th>Four Rooms</th>\n",
              "      <td>0.473686</td>\n",
              "      <td>1.000000</td>\n",
              "      <td>-0.050872</td>\n",
              "      <td>0.761387</td>\n",
              "      <td>0.134595</td>\n",
              "    </tr>\n",
              "    <tr>\n",
              "      <th>Get Shorty</th>\n",
              "      <td>-0.013041</td>\n",
              "      <td>-0.050872</td>\n",
              "      <td>1.000000</td>\n",
              "      <td>0.356348</td>\n",
              "      <td>0.062994</td>\n",
              "    </tr>\n",
              "    <tr>\n",
              "      <th>GoldenEye</th>\n",
              "      <td>0.268373</td>\n",
              "      <td>0.761387</td>\n",
              "      <td>0.356348</td>\n",
              "      <td>1.000000</td>\n",
              "      <td>-0.117851</td>\n",
              "    </tr>\n",
              "    <tr>\n",
              "      <th>Toy Story</th>\n",
              "      <td>-0.586556</td>\n",
              "      <td>0.134595</td>\n",
              "      <td>0.062994</td>\n",
              "      <td>-0.117851</td>\n",
              "      <td>1.000000</td>\n",
              "    </tr>\n",
              "  </tbody>\n",
              "</table>\n",
              "</div>"
            ],
            "text/plain": [
              "movie title  Copycat   Four Rooms  Get Shorty   GoldenEye  Toy Story \n",
              "movie title                                                          \n",
              "Copycat      1.000000    0.473686    -0.013041   0.268373   -0.586556\n",
              "Four Rooms   0.473686    1.000000    -0.050872   0.761387    0.134595\n",
              "Get Shorty  -0.013041   -0.050872     1.000000   0.356348    0.062994\n",
              "GoldenEye    0.268373    0.761387     0.356348   1.000000   -0.117851\n",
              "Toy Story   -0.586556    0.134595     0.062994  -0.117851    1.000000"
            ]
          },
          "metadata": {
            "tags": []
          },
          "execution_count": 205
        }
      ]
    },
    {
      "cell_type": "code",
      "metadata": {
        "id": "9ccoQmEGW6Cl",
        "colab_type": "code",
        "colab": {},
        "outputId": "e5715f2a-2a5e-4a5d-c8ab-434aa080f095"
      },
      "source": [
        "x_original"
      ],
      "execution_count": null,
      "outputs": [
        {
          "output_type": "execute_result",
          "data": {
            "text/html": [
              "<div>\n",
              "<style scoped>\n",
              "    .dataframe tbody tr th:only-of-type {\n",
              "        vertical-align: middle;\n",
              "    }\n",
              "\n",
              "    .dataframe tbody tr th {\n",
              "        vertical-align: top;\n",
              "    }\n",
              "\n",
              "    .dataframe thead th {\n",
              "        text-align: right;\n",
              "    }\n",
              "</style>\n",
              "<table border=\"1\" class=\"dataframe\">\n",
              "  <thead>\n",
              "    <tr style=\"text-align: right;\">\n",
              "      <th>user_id</th>\n",
              "      <th>101</th>\n",
              "      <th>102</th>\n",
              "      <th>103</th>\n",
              "      <th>104</th>\n",
              "      <th>105</th>\n",
              "    </tr>\n",
              "    <tr>\n",
              "      <th>movie title</th>\n",
              "      <th></th>\n",
              "      <th></th>\n",
              "      <th></th>\n",
              "      <th></th>\n",
              "      <th></th>\n",
              "    </tr>\n",
              "  </thead>\n",
              "  <tbody>\n",
              "    <tr>\n",
              "      <th>Copycat</th>\n",
              "      <td>1</td>\n",
              "      <td>0</td>\n",
              "      <td>5</td>\n",
              "      <td>2</td>\n",
              "      <td>3</td>\n",
              "    </tr>\n",
              "    <tr>\n",
              "      <th>Four Rooms</th>\n",
              "      <td>3</td>\n",
              "      <td>4</td>\n",
              "      <td>4</td>\n",
              "      <td>1</td>\n",
              "      <td>5</td>\n",
              "    </tr>\n",
              "    <tr>\n",
              "      <th>Get Shorty</th>\n",
              "      <td>0</td>\n",
              "      <td>4</td>\n",
              "      <td>0</td>\n",
              "      <td>2</td>\n",
              "      <td>1</td>\n",
              "    </tr>\n",
              "    <tr>\n",
              "      <th>GoldenEye</th>\n",
              "      <td>4</td>\n",
              "      <td>4</td>\n",
              "      <td>4</td>\n",
              "      <td>3</td>\n",
              "      <td>0</td>\n",
              "    </tr>\n",
              "    <tr>\n",
              "      <th>Toy Story</th>\n",
              "      <td>0</td>\n",
              "      <td>5</td>\n",
              "      <td>2</td>\n",
              "      <td>0</td>\n",
              "      <td>5</td>\n",
              "    </tr>\n",
              "  </tbody>\n",
              "</table>\n",
              "</div>"
            ],
            "text/plain": [
              "user_id      101  102  103  104  105\n",
              "movie title                         \n",
              "Copycat        1    0    5    2    3\n",
              "Four Rooms     3    4    4    1    5\n",
              "Get Shorty     0    4    0    2    1\n",
              "GoldenEye      4    4    4    3    0\n",
              "Toy Story      0    5    2    0    5"
            ]
          },
          "metadata": {
            "tags": []
          },
          "execution_count": 206
        }
      ]
    },
    {
      "cell_type": "code",
      "metadata": {
        "id": "UVFGZGN-W6Cn",
        "colab_type": "code",
        "colab": {},
        "outputId": "d9304fbd-c917-432f-b7b9-eac0745dda5b"
      },
      "source": [
        "#check how to use TRuncatedSVD\n",
        "X11=np.array([[1,2,3],[1,4,2],[4,1,7],[5,6,8]])\n",
        "print(X11)\n",
        "print(X11.shape)\n",
        "# TRUNCATED SVD\n",
        "\n",
        "svd = TruncatedSVD(n_components=2, n_iter=7, random_state=42)\n",
        "US1=svd.fit_transform(X11)\n",
        "V1=svd.components_\n",
        "S1=svd.singular_values_ \n",
        "US=svd.fit_transform(X)\n",
        "print(US1)\n",
        "print(US1.shape)\n",
        "print(V1)\n",
        "print(V1.shape)\n",
        "print(S1)\n",
        "print(S1.shape)\n",
        "sigma = np.diag(S1)\n",
        "R_hat = np.dot(np.dot(US1, V1),1)\n",
        "print(R_hat)\n",
        "sigma"
      ],
      "execution_count": null,
      "outputs": [
        {
          "output_type": "stream",
          "text": [
            "[[1 2 3]\n",
            " [1 4 2]\n",
            " [4 1 7]\n",
            " [5 6 8]]\n",
            "(4, 3)\n",
            "[[ 3.66997034 -0.34754761]\n",
            " [ 3.82764223 -2.51681397]\n",
            " [ 7.61154768  2.83860088]\n",
            " [11.13470337 -0.96070751]]\n",
            "(4, 2)\n",
            "[[ 0.44571865  0.46215842  0.76664495]\n",
            " [ 0.23882889 -0.88677195  0.39572247]]\n",
            "(2, 3)\n",
            "[14.49264657  3.92883644]\n",
            "(2,)\n",
            "[[1.5527698  2.00430316 2.67603185]\n",
            " [1.10496362 4.00081711 1.93848276]\n",
            " [4.07054862 1.0005492  6.95865276]\n",
            " [4.7335002  5.99792537 8.1561906 ]]\n"
          ],
          "name": "stdout"
        },
        {
          "output_type": "execute_result",
          "data": {
            "text/plain": [
              "array([[14.49264657,  0.        ],\n",
              "       [ 0.        ,  3.92883644]])"
            ]
          },
          "metadata": {
            "tags": []
          },
          "execution_count": 250
        }
      ]
    },
    {
      "cell_type": "code",
      "metadata": {
        "id": "CducAx69W6Cp",
        "colab_type": "code",
        "colab": {}
      },
      "source": [
        "sc.stop()"
      ],
      "execution_count": null,
      "outputs": []
    }
  ]
}
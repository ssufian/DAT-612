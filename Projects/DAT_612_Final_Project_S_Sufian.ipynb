{
  "nbformat": 4,
  "nbformat_minor": 0,
  "metadata": {
    "kernelspec": {
      "display_name": "Python 3",
      "language": "python",
      "name": "python3"
    },
    "language_info": {
      "codemirror_mode": {
        "name": "ipython",
        "version": 3
      },
      "file_extension": ".py",
      "mimetype": "text/x-python",
      "name": "python",
      "nbconvert_exporter": "python",
      "pygments_lexer": "ipython3",
      "version": "3.7.4"
    },
    "colab": {
      "name": "DAT 612 - Final Project S_Sufian.ipynb",
      "provenance": [],
      "collapsed_sections": [],
      "machine_shape": "hm"
    },
    "accelerator": "TPU"
  },
  "cells": [
    {
      "cell_type": "markdown",
      "metadata": {
        "id": "xBV93HoCW6AU",
        "colab_type": "text"
      },
      "source": [
        "# DAT 612 Final Project \n",
        "The Final project will rely more on python packages and libraries instead of R's much-vaunted Recommenderlabs mainly to learn more about other packages besides R's Recommenderlabs package.  To that extent, this is an opportunity to venture out of the book's procedural-driven guidance and discover for ourselves if there are tools out there beside Recomenderlabs one could use to build a recommender systems.  One that has all the nifty built-in libraries as powerful as Recommenderlabs. \n",
        "\n",
        "The goal is to evaluate and create an end-to-end recommender system using the movielens data and determine which algorithms produce the best predictive models.\n",
        "\n",
        "We will attempt multiple recommenders libraries to determine which is most effective. And within data analysis; comparisons of accuracy metrics like RSMEs, ROC and Precision-to-Recall curves will be utilized to determine which ones produces the best result.  \"Home-made\" IBCF, UBCF and SVD methods will be implemented and tested for accuracies and performance against Python’s Scikit-Learn packaged Turicriate & Surprise libraries. \n",
        "\n",
        "The following steps will be applied throughout the project:\n",
        "- Basic data ETLs followed by standard data exploration and visualizations\n",
        "- Basic statistical checks of the underlying data\n",
        "- Training and test split of the datasets\n",
        "- Hyper-parameter tuning via cross-validation\n",
        "- Implement the different algorithms/models \n",
        "- Comparing accuracy across the datasets per the different algorithms\n",
        "- Predictive accuracies will rely on Root mean squared error (RMSE). Comparative analysis will be use to determine which models gives the best results via learning/accuracy curves and computational speeds.\n",
        "\n",
        "Finally, We will perform some random recommendations to see if the recommender systems we have built make some common sense recommendations.\n",
        "\n",
        "The data sources derived from the 2 MovieLens data sets; ratings and movies tables \n",
        "\n",
        "Reference:\n",
        "\n",
        "(1) Movielens Data source was downloaded from Kaggle website: https://www.kaggle.com/prajitdatta/movielens-100k-dataset?\n",
        "\n",
        "(2) BUILDING_A_RECOMMENDATION_SYSTEM_WITH_R by Suresh K. Gorakala & Michele Usuelli"
      ]
    },
    {
      "cell_type": "code",
      "metadata": {
        "id": "v_-2WcjuW6AV",
        "colab_type": "code",
        "colab": {}
      },
      "source": [
        "#Loading libraries\n",
        "import numpy as np, pandas as pd, matplotlib.pyplot as plt\n",
        "\n",
        "import seaborn as sb\n",
        "import seaborn as sns\n",
        "from datetime import datetime\n",
        "from dateutil.parser import parse\n",
        "from shapely.geometry import Point, Polygon\n",
        "%matplotlib inline\n",
        "\n",
        "import matplotlib\n",
        "from scipy.sparse.linalg import svds\n",
        "from numpy.linalg import svd\n",
        "from matplotlib.pyplot import figure\n",
        "from sklearn.metrics import mean_squared_error\n",
        "from math import sqrt\n",
        "#!pip3 install surprise \n",
        "import sklearn\n",
        "#!pip3 install Turicreate\n",
        "from sklearn.decomposition import TruncatedSVD\n",
        "from collections import defaultdict\n",
        "import warnings\n",
        "from sklearn.metrics.pairwise import pairwise_distances \n",
        "warnings.filterwarnings(\"ignore\")\n"
      ],
      "execution_count": null,
      "outputs": []
    },
    {
      "cell_type": "markdown",
      "metadata": {
        "id": "sry2GM9QW6Ab",
        "colab_type": "text"
      },
      "source": [
        "# Loading data tables\n",
        "\n",
        "- Arranging the ratings & Movies tables and preparing the columns for different genres of movie types"
      ]
    },
    {
      "cell_type": "code",
      "metadata": {
        "id": "gs9rtEn0W6Ac",
        "colab_type": "code",
        "colab": {}
      },
      "source": [
        "\n",
        "df = pd.read_csv('https://raw.githubusercontent.com/ssufian/DAT-612/master/Projects/ratings.csv')\n",
        "movies = pd.read_csv('https://raw.githubusercontent.com/ssufian/DAT-612/master/Projects/movies.csv')\n"
      ],
      "execution_count": null,
      "outputs": []
    },
    {
      "cell_type": "code",
      "metadata": {
        "id": "dNEI9TDb-E9d",
        "colab_type": "code",
        "colab": {
          "base_uri": "https://localhost:8080/",
          "height": 353
        },
        "outputId": "72fcd882-728f-486a-de2b-ceeb2ebb02af"
      },
      "source": [
        "# After loading the dataset, we should look at the content of each file (ratings, movies).\n",
        "\n",
        "# Ratings Data\n",
        "print(\"\\nRatings Data :\")\n",
        "print(\"shape : \", df.shape)\n",
        "print(df.head())\n",
        "\n",
        "# Item Data\n",
        "print(\"\\nMovies Data :\")\n",
        "print(\"shape : \", movies.shape)\n",
        "print(movies.head())"
      ],
      "execution_count": null,
      "outputs": [
        {
          "output_type": "stream",
          "text": [
            "\n",
            "Ratings Data :\n",
            "shape :  (1048575, 3)\n",
            "   userId  movieId  rating\n",
            "0       1      296     5.0\n",
            "1       1      306     3.5\n",
            "2       1      307     5.0\n",
            "3       1      665     5.0\n",
            "4       1      899     3.5\n",
            "\n",
            "Movies Data :\n",
            "shape :  (62423, 3)\n",
            "   movieId  ...                                       genres\n",
            "0        1  ...  Adventure|Animation|Children|Comedy|Fantasy\n",
            "1        2  ...                   Adventure|Children|Fantasy\n",
            "2        3  ...                               Comedy|Romance\n",
            "3        4  ...                         Comedy|Drama|Romance\n",
            "4        5  ...                                       Comedy\n",
            "\n",
            "[5 rows x 3 columns]\n"
          ],
          "name": "stdout"
        }
      ]
    },
    {
      "cell_type": "markdown",
      "metadata": {
        "id": "CbMAmBFVW6Ai",
        "colab_type": "text"
      },
      "source": [
        "# Basic Data Preparation\n",
        "- Basic Exploratory analysis"
      ]
    },
    {
      "cell_type": "code",
      "metadata": {
        "id": "bPARNUesW6Ai",
        "colab_type": "code",
        "colab": {
          "base_uri": "https://localhost:8080/",
          "height": 195
        },
        "outputId": "97a58199-f449-475b-c4ad-3e3c7c67a7ec"
      },
      "source": [
        "# merge on movieId=user_id column\n",
        "data = pd.merge(left=movies, right=df, on='movieId')\n",
        "data.head()"
      ],
      "execution_count": null,
      "outputs": [
        {
          "output_type": "execute_result",
          "data": {
            "text/html": [
              "<div>\n",
              "<style scoped>\n",
              "    .dataframe tbody tr th:only-of-type {\n",
              "        vertical-align: middle;\n",
              "    }\n",
              "\n",
              "    .dataframe tbody tr th {\n",
              "        vertical-align: top;\n",
              "    }\n",
              "\n",
              "    .dataframe thead th {\n",
              "        text-align: right;\n",
              "    }\n",
              "</style>\n",
              "<table border=\"1\" class=\"dataframe\">\n",
              "  <thead>\n",
              "    <tr style=\"text-align: right;\">\n",
              "      <th></th>\n",
              "      <th>movieId</th>\n",
              "      <th>title</th>\n",
              "      <th>genres</th>\n",
              "      <th>userId</th>\n",
              "      <th>rating</th>\n",
              "    </tr>\n",
              "  </thead>\n",
              "  <tbody>\n",
              "    <tr>\n",
              "      <th>0</th>\n",
              "      <td>1</td>\n",
              "      <td>Toy Story (1995)</td>\n",
              "      <td>Adventure|Animation|Children|Comedy|Fantasy</td>\n",
              "      <td>2</td>\n",
              "      <td>3.5</td>\n",
              "    </tr>\n",
              "    <tr>\n",
              "      <th>1</th>\n",
              "      <td>1</td>\n",
              "      <td>Toy Story (1995)</td>\n",
              "      <td>Adventure|Animation|Children|Comedy|Fantasy</td>\n",
              "      <td>3</td>\n",
              "      <td>4.0</td>\n",
              "    </tr>\n",
              "    <tr>\n",
              "      <th>2</th>\n",
              "      <td>1</td>\n",
              "      <td>Toy Story (1995)</td>\n",
              "      <td>Adventure|Animation|Children|Comedy|Fantasy</td>\n",
              "      <td>4</td>\n",
              "      <td>3.0</td>\n",
              "    </tr>\n",
              "    <tr>\n",
              "      <th>3</th>\n",
              "      <td>1</td>\n",
              "      <td>Toy Story (1995)</td>\n",
              "      <td>Adventure|Animation|Children|Comedy|Fantasy</td>\n",
              "      <td>5</td>\n",
              "      <td>4.0</td>\n",
              "    </tr>\n",
              "    <tr>\n",
              "      <th>4</th>\n",
              "      <td>1</td>\n",
              "      <td>Toy Story (1995)</td>\n",
              "      <td>Adventure|Animation|Children|Comedy|Fantasy</td>\n",
              "      <td>8</td>\n",
              "      <td>4.0</td>\n",
              "    </tr>\n",
              "  </tbody>\n",
              "</table>\n",
              "</div>"
            ],
            "text/plain": [
              "   movieId             title  ... userId  rating\n",
              "0        1  Toy Story (1995)  ...      2     3.5\n",
              "1        1  Toy Story (1995)  ...      3     4.0\n",
              "2        1  Toy Story (1995)  ...      4     3.0\n",
              "3        1  Toy Story (1995)  ...      5     4.0\n",
              "4        1  Toy Story (1995)  ...      8     4.0\n",
              "\n",
              "[5 rows x 5 columns]"
            ]
          },
          "metadata": {
            "tags": []
          },
          "execution_count": 4
        }
      ]
    },
    {
      "cell_type": "code",
      "metadata": {
        "id": "txxRN-WIW6Ak",
        "colab_type": "code",
        "colab": {
          "base_uri": "https://localhost:8080/",
          "height": 34
        },
        "outputId": "a96205aa-89fa-450d-ab37-e16598128200"
      },
      "source": [
        "data.head(6)\n",
        "data.shape"
      ],
      "execution_count": null,
      "outputs": [
        {
          "output_type": "execute_result",
          "data": {
            "text/plain": [
              "(1048575, 5)"
            ]
          },
          "metadata": {
            "tags": []
          },
          "execution_count": 5
        }
      ]
    },
    {
      "cell_type": "code",
      "metadata": {
        "id": "p2nFM2hqW6Am",
        "colab_type": "code",
        "colab": {
          "base_uri": "https://localhost:8080/",
          "height": 118
        },
        "outputId": "18d1a322-f255-4c85-b85c-c25a176f0ff7"
      },
      "source": [
        "#checking for N/As\n",
        "data.isnull().sum()"
      ],
      "execution_count": null,
      "outputs": [
        {
          "output_type": "execute_result",
          "data": {
            "text/plain": [
              "movieId    0\n",
              "title      0\n",
              "genres     0\n",
              "userId     0\n",
              "rating     0\n",
              "dtype: int64"
            ]
          },
          "metadata": {
            "tags": []
          },
          "execution_count": 6
        }
      ]
    },
    {
      "cell_type": "code",
      "metadata": {
        "id": "E9vjLvhfW6As",
        "colab_type": "code",
        "colab": {
          "base_uri": "https://localhost:8080/",
          "height": 34
        },
        "outputId": "03c0d0c5-49e8-43d7-edbe-2b2451247d87"
      },
      "source": [
        "#checking for no. of unique movies\n",
        "\n",
        "data['movieId'].nunique()"
      ],
      "execution_count": null,
      "outputs": [
        {
          "output_type": "execute_result",
          "data": {
            "text/plain": [
              "22240"
            ]
          },
          "metadata": {
            "tags": []
          },
          "execution_count": 7
        }
      ]
    },
    {
      "cell_type": "markdown",
      "metadata": {
        "id": "wcyq8Ghu1zGI",
        "colab_type": "text"
      },
      "source": [
        "# Exploring Movie Publish Years\n"
      ]
    },
    {
      "cell_type": "code",
      "metadata": {
        "id": "sTeBrLNEW6Au",
        "colab_type": "code",
        "colab": {
          "base_uri": "https://localhost:8080/",
          "height": 34
        },
        "outputId": "c286e3dc-1e98-4cc3-c354-eb6d2094cafa"
      },
      "source": [
        "years = []\n",
        "\n",
        "for title in data['title']:\n",
        "    year_subset = title[-5:-1]\n",
        "    try: years.append(int(year_subset))\n",
        "    except: years.append(9999)\n",
        "        \n",
        "data['moviePubYear'] = years\n",
        "print(len(data[data['moviePubYear'] == 9999]))\n",
        "# Only 555 movies did not have published years tag on it"
      ],
      "execution_count": null,
      "outputs": [
        {
          "output_type": "stream",
          "text": [
            "555\n"
          ],
          "name": "stdout"
        }
      ]
    },
    {
      "cell_type": "markdown",
      "metadata": {
        "id": "7ajns5L619JP",
        "colab_type": "text"
      },
      "source": [
        "# Histogram Function"
      ]
    },
    {
      "cell_type": "code",
      "metadata": {
        "id": "yg0UO7gAW6Aw",
        "colab_type": "code",
        "colab": {}
      },
      "source": [
        "def make_histogram(dataset, attribute, bins=25, bar_color='#3498db', edge_color='#2980b9', title='Title', xlab='X', ylab='Y', sort_index=False):\n",
        "    if attribute == 'moviePubYear':\n",
        "        dataset = dataset[dataset['moviePubYear'] != 9999]\n",
        "        \n",
        "    fig, ax = plt.subplots(figsize=(14, 7))\n",
        "    ax.spines['top'].set_visible(False)\n",
        "    ax.spines['right'].set_visible(False)\n",
        "    ax.set_title(title, fontsize=24, pad=20)\n",
        "    ax.set_xlabel(xlab, fontsize=16, labelpad=20)\n",
        "    ax.set_ylabel(ylab, fontsize=16, labelpad=20)\n",
        "    sns.set_style(\"darkgrid\",{\"axes.facecolor\": \".75\"})\n",
        "    \n",
        "    plt.hist(dataset[attribute], bins=bins, color=bar_color, ec=edge_color, linewidth=2)\n",
        "    \n",
        "    plt.xticks(rotation=0)"
      ],
      "execution_count": null,
      "outputs": []
    },
    {
      "cell_type": "code",
      "metadata": {
        "id": "v34Qvw_2W6Az",
        "colab_type": "code",
        "colab": {
          "base_uri": "https://localhost:8080/",
          "height": 502
        },
        "outputId": "d88c0b67-ef0f-4a8e-9508-dca6a17bb6fc"
      },
      "source": [
        "make_histogram(data, 'moviePubYear', title='Fig1: Movies Releases per Year', xlab='Year', ylab='Counts')"
      ],
      "execution_count": null,
      "outputs": [
        {
          "output_type": "display_data",
          "data": {
            "image/png": "[encoded data removed]",
            "text/plain": [
              "<Figure size 1008x504 with 1 Axes>"
            ]
          },
          "metadata": {
            "tags": []
          }
        }
      ]
    },
    {
      "cell_type": "markdown",
      "metadata": {
        "id": "GFa2h2cn2Pfw",
        "colab_type": "text"
      },
      "source": [
        "Observation1:  Most movies were released between 1990's to late 200's\n",
        "# Rating exploration"
      ]
    },
    {
      "cell_type": "code",
      "metadata": {
        "id": "4ZXIDqrNYMQZ",
        "colab_type": "code",
        "colab": {
          "base_uri": "https://localhost:8080/",
          "height": 502
        },
        "outputId": "2f420789-ee88-4e53-ab45-40031a4cc10c"
      },
      "source": [
        "make_histogram(data, 'rating', title='Fig2: Distribution of Movie Ratings', xlab='Year', ylab='Counts')"
      ],
      "execution_count": null,
      "outputs": [
        {
          "output_type": "display_data",
          "data": {
            "image/png": "[encoded data removed]",
            "text/plain": [
              "<Figure size 1008x504 with 1 Axes>"
            ]
          },
          "metadata": {
            "tags": []
          }
        }
      ]
    },
    {
      "cell_type": "markdown",
      "metadata": {
        "id": "VxLAt1vVgEvb",
        "colab_type": "text"
      },
      "source": [
        "Observation2:  Most movies rated at 4 followed by 3 and 5's\n",
        "# Movie Genre Exploration\n",
        "\n",
        "- Determining the Number of potential Latent Factors (features)"
      ]
    },
    {
      "cell_type": "code",
      "metadata": {
        "id": "rzKV6BtYawv-",
        "colab_type": "code",
        "colab": {
          "base_uri": "https://localhost:8080/",
          "height": 195
        },
        "outputId": "2df5baec-0e57-4222-f53d-decef02df7ed"
      },
      "source": [
        "genre_df = pd.DataFrame(data['genres'].str.split('|').tolist(), index=data['movieId']).stack()\n",
        "genre_df = genre_df.reset_index([0, 'movieId'])\n",
        "genre_df.columns = ['movieId', 'Genre']\n",
        "genre_df.head()"
      ],
      "execution_count": null,
      "outputs": [
        {
          "output_type": "execute_result",
          "data": {
            "text/html": [
              "<div>\n",
              "<style scoped>\n",
              "    .dataframe tbody tr th:only-of-type {\n",
              "        vertical-align: middle;\n",
              "    }\n",
              "\n",
              "    .dataframe tbody tr th {\n",
              "        vertical-align: top;\n",
              "    }\n",
              "\n",
              "    .dataframe thead th {\n",
              "        text-align: right;\n",
              "    }\n",
              "</style>\n",
              "<table border=\"1\" class=\"dataframe\">\n",
              "  <thead>\n",
              "    <tr style=\"text-align: right;\">\n",
              "      <th></th>\n",
              "      <th>movieId</th>\n",
              "      <th>Genre</th>\n",
              "    </tr>\n",
              "  </thead>\n",
              "  <tbody>\n",
              "    <tr>\n",
              "      <th>0</th>\n",
              "      <td>1</td>\n",
              "      <td>Adventure</td>\n",
              "    </tr>\n",
              "    <tr>\n",
              "      <th>1</th>\n",
              "      <td>1</td>\n",
              "      <td>Animation</td>\n",
              "    </tr>\n",
              "    <tr>\n",
              "      <th>2</th>\n",
              "      <td>1</td>\n",
              "      <td>Children</td>\n",
              "    </tr>\n",
              "    <tr>\n",
              "      <th>3</th>\n",
              "      <td>1</td>\n",
              "      <td>Comedy</td>\n",
              "    </tr>\n",
              "    <tr>\n",
              "      <th>4</th>\n",
              "      <td>1</td>\n",
              "      <td>Fantasy</td>\n",
              "    </tr>\n",
              "  </tbody>\n",
              "</table>\n",
              "</div>"
            ],
            "text/plain": [
              "   movieId      Genre\n",
              "0        1  Adventure\n",
              "1        1  Animation\n",
              "2        1   Children\n",
              "3        1     Comedy\n",
              "4        1    Fantasy"
            ]
          },
          "metadata": {
            "tags": []
          },
          "execution_count": 13
        }
      ]
    },
    {
      "cell_type": "markdown",
      "metadata": {
        "id": "vRrdNAp-1QHS",
        "colab_type": "text"
      },
      "source": [
        "# Barchart Function\n"
      ]
    },
    {
      "cell_type": "code",
      "metadata": {
        "id": "oFcfVeA_aw9m",
        "colab_type": "code",
        "colab": {}
      },
      "source": [
        "\n",
        "def make_bar_chart(dataset, attribute, bar_color='#3498db', edge_color='#2980b9', title='Title', xlab='X', ylab='Y', sort_index=False):\n",
        "    if sort_index == False:\n",
        "        xs = dataset[attribute].value_counts().index\n",
        "        ys = dataset[attribute].value_counts().values\n",
        "    else:\n",
        "        xs = dataset[attribute].value_counts().sort_index().index\n",
        "        ys = dataset[attribute].value_counts().sort_index().values\n",
        "        \n",
        "    \n",
        "    fig, ax = plt.subplots(figsize=(14, 7))\n",
        "    ax.spines['top'].set_visible(False)\n",
        "    ax.spines['right'].set_visible(False)\n",
        "    ax.set_title(title, fontsize=24, pad=20)\n",
        "    ax.set_xlabel(xlab, fontsize=16, labelpad=20)\n",
        "    ax.set_ylabel(ylab, fontsize=16, labelpad=20)\n",
        "    \n",
        "    plt.bar(x=xs, height=ys, color=bar_color, edgecolor=edge_color, linewidth=2)\n",
        "    plt.xticks(rotation=45)"
      ],
      "execution_count": null,
      "outputs": []
    },
    {
      "cell_type": "code",
      "metadata": {
        "id": "0oL4AB3Kgqc7",
        "colab_type": "code",
        "colab": {
          "base_uri": "https://localhost:8080/",
          "height": 562
        },
        "outputId": "b64a6f39-d1e0-41a0-8a0a-add1320ffef1"
      },
      "source": [
        "make_bar_chart(genre_df, 'Genre', title='Fig3: Most Popular Movie Genres', xlab='Genre', ylab='Counts')"
      ],
      "execution_count": null,
      "outputs": [
        {
          "output_type": "display_data",
          "data": {
            "image/png": "[encoded data removed]",
            "text/plain": [
              "<Figure size 1008x504 with 1 Axes>"
            ]
          },
          "metadata": {
            "tags": []
          }
        }
      ]
    },
    {
      "cell_type": "markdown",
      "metadata": {
        "id": "q0LZEjy7X-bY",
        "colab_type": "text"
      },
      "source": [
        "Observation3:  19 genres or concepts could be seen when separated into distinct groups of movie types with Drama at the **top**"
      ]
    },
    {
      "cell_type": "code",
      "metadata": {
        "id": "WhSMuVtbgqrI",
        "colab_type": "code",
        "colab": {}
      },
      "source": [
        "values = defaultdict(list)\n",
        "for ind, row in data.iterrows():\n",
        "    for genre in row['genres'].split('|'):\n",
        "        values[genre].append(row['rating'])\n",
        "\n",
        "genre_lst, rating_lst = [], []\n",
        "for key, item in values.items():\n",
        "    if key not in [0, 1]:\n",
        "        genre_lst.append(key)\n",
        "        rating_lst.append(np.mean(item))\n",
        "genres_with_ratings = pd.DataFrame([genre_lst, rating_lst]).T\n",
        "genres_with_ratings.columns = ['Genre', 'Mean_Rating']\n"
      ],
      "execution_count": null,
      "outputs": []
    },
    {
      "cell_type": "code",
      "metadata": {
        "id": "uYGD_FLw1uAB",
        "colab_type": "code",
        "colab": {
          "base_uri": "https://localhost:8080/",
          "height": 195
        },
        "outputId": "4c11b2bd-6ff0-47a6-9ea8-6501b39f42a1"
      },
      "source": [
        "genres_with_ratings.head()"
      ],
      "execution_count": null,
      "outputs": [
        {
          "output_type": "execute_result",
          "data": {
            "text/html": [
              "<div>\n",
              "<style scoped>\n",
              "    .dataframe tbody tr th:only-of-type {\n",
              "        vertical-align: middle;\n",
              "    }\n",
              "\n",
              "    .dataframe tbody tr th {\n",
              "        vertical-align: top;\n",
              "    }\n",
              "\n",
              "    .dataframe thead th {\n",
              "        text-align: right;\n",
              "    }\n",
              "</style>\n",
              "<table border=\"1\" class=\"dataframe\">\n",
              "  <thead>\n",
              "    <tr style=\"text-align: right;\">\n",
              "      <th></th>\n",
              "      <th>Genre</th>\n",
              "      <th>Mean_Rating</th>\n",
              "    </tr>\n",
              "  </thead>\n",
              "  <tbody>\n",
              "    <tr>\n",
              "      <th>0</th>\n",
              "      <td>Adventure</td>\n",
              "      <td>3.51099</td>\n",
              "    </tr>\n",
              "    <tr>\n",
              "      <th>1</th>\n",
              "      <td>Animation</td>\n",
              "      <td>3.61612</td>\n",
              "    </tr>\n",
              "    <tr>\n",
              "      <th>2</th>\n",
              "      <td>Children</td>\n",
              "      <td>3.43191</td>\n",
              "    </tr>\n",
              "    <tr>\n",
              "      <th>3</th>\n",
              "      <td>Comedy</td>\n",
              "      <td>3.42527</td>\n",
              "    </tr>\n",
              "    <tr>\n",
              "      <th>4</th>\n",
              "      <td>Fantasy</td>\n",
              "      <td>3.50468</td>\n",
              "    </tr>\n",
              "  </tbody>\n",
              "</table>\n",
              "</div>"
            ],
            "text/plain": [
              "       Genre Mean_Rating\n",
              "0  Adventure     3.51099\n",
              "1  Animation     3.61612\n",
              "2   Children     3.43191\n",
              "3     Comedy     3.42527\n",
              "4    Fantasy     3.50468"
            ]
          },
          "metadata": {
            "tags": []
          },
          "execution_count": 17
        }
      ]
    },
    {
      "cell_type": "code",
      "metadata": {
        "id": "DROP9UzdxUvO",
        "colab_type": "code",
        "colab": {
          "base_uri": "https://localhost:8080/",
          "height": 524
        },
        "outputId": "9ce7737e-0269-4331-aaa3-2262213787ad"
      },
      "source": [
        "#setting plot size\n",
        "plt.rcParams['figure.figsize']=(12,8)   \n",
        "sns.set_style(\"darkgrid\",{\"axes.facecolor\": \".75\"}) \n",
        " \n",
        "# Draw a horizontal bar chart\n",
        "genres_with_ratings.plot.barh(x=\"Genre\", y=\"Mean_Rating\",color='red');\n",
        "plt.legend('',frameon=False)\n",
        "plt.xticks(rotation=0, horizontalalignment=\"center\")\n",
        "plt.title(\"Fig4: Avg Ratings by Genre\", fontsize=22)\n",
        "plt.xlabel(\"Average Ratings\",fontsize=15)\n",
        "plt.ylabel(\"Genres\",fontsize=15)\n",
        "plt.show();"
      ],
      "execution_count": null,
      "outputs": [
        {
          "output_type": "display_data",
          "data": {
            "image/png": "[encoded data removed]",
            "text/plain": [
              "<Figure size 864x576 with 1 Axes>"
            ]
          },
          "metadata": {
            "tags": []
          }
        }
      ]
    },
    {
      "cell_type": "markdown",
      "metadata": {
        "id": "14I8Kv071DWf",
        "colab_type": "text"
      },
      "source": [
        "Observation4: Film-Noir had the highest average ratins while Horro movies had the lowest\n",
        "# Visualizing the Number of Ratings\n"
      ]
    },
    {
      "cell_type": "code",
      "metadata": {
        "id": "tsphdWDZ8qAq",
        "colab_type": "code",
        "colab": {}
      },
      "source": [
        "num_ratings = pd.DataFrame(data.groupby('movieId').count()['rating']).reset_index()\n",
        "data = pd.merge(left=data, right=num_ratings, on='movieId')\n",
        "data.rename(columns={'rating_x': 'rating', 'rating_y': 'numRatings'}, inplace=True)"
      ],
      "execution_count": null,
      "outputs": []
    },
    {
      "cell_type": "code",
      "metadata": {
        "id": "kgE6tL1H20pq",
        "colab_type": "code",
        "colab": {
          "base_uri": "https://localhost:8080/",
          "height": 343
        },
        "outputId": "4029f1dd-fc13-47e5-a466-10ca9f75cbd5"
      },
      "source": [
        "#showing top 10 number of rated movies\n",
        "data.sort_values(by='numRatings', ascending=False).drop_duplicates('movieId')[:10]"
      ],
      "execution_count": null,
      "outputs": [
        {
          "output_type": "execute_result",
          "data": {
            "text/html": [
              "<div>\n",
              "<style scoped>\n",
              "    .dataframe tbody tr th:only-of-type {\n",
              "        vertical-align: middle;\n",
              "    }\n",
              "\n",
              "    .dataframe tbody tr th {\n",
              "        vertical-align: top;\n",
              "    }\n",
              "\n",
              "    .dataframe thead th {\n",
              "        text-align: right;\n",
              "    }\n",
              "</style>\n",
              "<table border=\"1\" class=\"dataframe\">\n",
              "  <thead>\n",
              "    <tr style=\"text-align: right;\">\n",
              "      <th></th>\n",
              "      <th>movieId</th>\n",
              "      <th>title</th>\n",
              "      <th>genres</th>\n",
              "      <th>userId</th>\n",
              "      <th>rating</th>\n",
              "      <th>moviePubYear</th>\n",
              "      <th>numRatings</th>\n",
              "    </tr>\n",
              "  </thead>\n",
              "  <tbody>\n",
              "    <tr>\n",
              "      <th>107840</th>\n",
              "      <td>356</td>\n",
              "      <td>Forrest Gump (1994)</td>\n",
              "      <td>Comedy|Drama|Romance|War</td>\n",
              "      <td>600</td>\n",
              "      <td>2.0</td>\n",
              "      <td>1994</td>\n",
              "      <td>3518</td>\n",
              "    </tr>\n",
              "    <tr>\n",
              "      <th>93896</th>\n",
              "      <td>318</td>\n",
              "      <td>Shawshank Redemption, The (1994)</td>\n",
              "      <td>Crime|Drama</td>\n",
              "      <td>2013</td>\n",
              "      <td>4.5</td>\n",
              "      <td>1994</td>\n",
              "      <td>3488</td>\n",
              "    </tr>\n",
              "    <tr>\n",
              "      <th>87315</th>\n",
              "      <td>296</td>\n",
              "      <td>Pulp Fiction (1994)</td>\n",
              "      <td>Comedy|Crime|Drama|Thriller</td>\n",
              "      <td>5971</td>\n",
              "      <td>4.0</td>\n",
              "      <td>1994</td>\n",
              "      <td>3418</td>\n",
              "    </tr>\n",
              "    <tr>\n",
              "      <th>176698</th>\n",
              "      <td>593</td>\n",
              "      <td>Silence of the Lambs, The (1991)</td>\n",
              "      <td>Crime|Horror|Thriller</td>\n",
              "      <td>3248</td>\n",
              "      <td>5.0</td>\n",
              "      <td>1991</td>\n",
              "      <td>3227</td>\n",
              "    </tr>\n",
              "    <tr>\n",
              "      <th>488465</th>\n",
              "      <td>2571</td>\n",
              "      <td>Matrix, The (1999)</td>\n",
              "      <td>Action|Sci-Fi|Thriller</td>\n",
              "      <td>5446</td>\n",
              "      <td>1.0</td>\n",
              "      <td>1999</td>\n",
              "      <td>3064</td>\n",
              "    </tr>\n",
              "    <tr>\n",
              "      <th>73014</th>\n",
              "      <td>260</td>\n",
              "      <td>Star Wars: Episode IV - A New Hope (1977)</td>\n",
              "      <td>Action|Adventure|Sci-Fi</td>\n",
              "      <td>2</td>\n",
              "      <td>5.0</td>\n",
              "      <td>1977</td>\n",
              "      <td>2931</td>\n",
              "    </tr>\n",
              "    <tr>\n",
              "      <th>140748</th>\n",
              "      <td>480</td>\n",
              "      <td>Jurassic Park (1993)</td>\n",
              "      <td>Action|Adventure|Sci-Fi|Thriller</td>\n",
              "      <td>1977</td>\n",
              "      <td>5.0</td>\n",
              "      <td>1993</td>\n",
              "      <td>2745</td>\n",
              "    </tr>\n",
              "    <tr>\n",
              "      <th>152876</th>\n",
              "      <td>527</td>\n",
              "      <td>Schindler's List (1993)</td>\n",
              "      <td>Drama|War</td>\n",
              "      <td>3190</td>\n",
              "      <td>1.5</td>\n",
              "      <td>1993</td>\n",
              "      <td>2545</td>\n",
              "    </tr>\n",
              "    <tr>\n",
              "      <th>535421</th>\n",
              "      <td>2959</td>\n",
              "      <td>Fight Club (1999)</td>\n",
              "      <td>Action|Crime|Drama|Thriller</td>\n",
              "      <td>31</td>\n",
              "      <td>2.0</td>\n",
              "      <td>1999</td>\n",
              "      <td>2530</td>\n",
              "    </tr>\n",
              "    <tr>\n",
              "      <th>36974</th>\n",
              "      <td>110</td>\n",
              "      <td>Braveheart (1995)</td>\n",
              "      <td>Action|Drama|War</td>\n",
              "      <td>1922</td>\n",
              "      <td>4.0</td>\n",
              "      <td>1995</td>\n",
              "      <td>2516</td>\n",
              "    </tr>\n",
              "  </tbody>\n",
              "</table>\n",
              "</div>"
            ],
            "text/plain": [
              "        movieId  ... numRatings\n",
              "107840      356  ...       3518\n",
              "93896       318  ...       3488\n",
              "87315       296  ...       3418\n",
              "176698      593  ...       3227\n",
              "488465     2571  ...       3064\n",
              "73014       260  ...       2931\n",
              "140748      480  ...       2745\n",
              "152876      527  ...       2545\n",
              "535421     2959  ...       2530\n",
              "36974       110  ...       2516\n",
              "\n",
              "[10 rows x 7 columns]"
            ]
          },
          "metadata": {
            "tags": []
          },
          "execution_count": 20
        }
      ]
    },
    {
      "cell_type": "code",
      "metadata": {
        "id": "7EtG9t6l7yMI",
        "colab_type": "code",
        "colab": {
          "base_uri": "https://localhost:8080/",
          "height": 502
        },
        "outputId": "f8252a1f-935a-4fb6-ae78-8cd4401a95cb"
      },
      "source": [
        "make_histogram(data, 'numRatings', title='Fig5: Distribution of Ratings', xlab='Number of Ratings', ylab='Counts')"
      ],
      "execution_count": null,
      "outputs": [
        {
          "output_type": "display_data",
          "data": {
            "image/png": "[encoded data removed]",
            "text/plain": [
              "<Figure size 1008x504 with 1 Axes>"
            ]
          },
          "metadata": {
            "tags": []
          }
        }
      ]
    },
    {
      "cell_type": "markdown",
      "metadata": {
        "id": "pB1puuCaCsZE",
        "colab_type": "text"
      },
      "source": [
        "Observation5: As expected most viewers are lazy or have not seen or have not bothered to provide ratings; as such most number of zero ratings are very prevalent\n",
        "# Scatter Plot: Avg ratings vs.No. of Ratings"
      ]
    },
    {
      "cell_type": "code",
      "metadata": {
        "id": "3MiH-vNm_IPF",
        "colab_type": "code",
        "colab": {
          "base_uri": "https://localhost:8080/",
          "height": 502
        },
        "outputId": "760af753-28ab-4fac-e614-9df568718341"
      },
      "source": [
        "#setting up for scatter plot\n",
        "ratings_df = pd.DataFrame()\n",
        "ratings_df['Mean_Rating'] = data.groupby('title')['rating'].mean().values\n",
        "ratings_df['Num_Ratings'] = data.groupby('title')['rating'].count().values\n",
        "#Actual scatter plot\n",
        "fig, ax = plt.subplots(figsize=(14, 7))\n",
        "ax.spines['top'].set_visible(False)\n",
        "ax.spines['right'].set_visible(False)\n",
        "ax.set_title('Fig6: Rating vs. Number of Ratings', fontsize=24, pad=20)\n",
        "ax.set_xlabel('Rating', fontsize=16, labelpad=20)\n",
        "ax.set_ylabel('Number of Ratings', fontsize=16, labelpad=20)\n",
        "\n",
        "plt.scatter(ratings_df['Mean_Rating'], ratings_df['Num_Ratings'], alpha=0.5,color='cyan');"
      ],
      "execution_count": null,
      "outputs": [
        {
          "output_type": "display_data",
          "data": {
            "image/png": "[encoded data removed]",
            "text/plain": [
              "<Figure size 1008x504 with 1 Axes>"
            ]
          },
          "metadata": {
            "tags": []
          }
        }
      ]
    },
    {
      "cell_type": "markdown",
      "metadata": {
        "id": "mUFHKpN6ZFSE",
        "colab_type": "text"
      },
      "source": [
        "Observation5: Also as expected, as ratings increases so does the number of raters"
      ]
    },
    {
      "cell_type": "markdown",
      "metadata": {
        "id": "6j6nChC7QBmC",
        "colab_type": "text"
      },
      "source": [
        "# Now to investigate python libraries in order to create an equivalently robust Recommender System using 2 Different Python Packages:\n",
        "- Turicreate Package\n",
        "- Surprise Package"
      ]
    },
    {
      "cell_type": "markdown",
      "metadata": {
        "id": "kZ9GG10Aw_dN",
        "colab_type": "text"
      },
      "source": [
        "# (1) Turicreate library\n",
        "- Popularity Model\n",
        "- IBCF Model\n",
        "- SVD Model\n",
        "- ALS Model"
      ]
    },
    {
      "cell_type": "markdown",
      "metadata": {
        "id": "ct8sTfK1iyPE",
        "colab_type": "text"
      },
      "source": [
        "# Train & Test Data Sets\n",
        "- Downloaded Training & Testing Data Sets from https://www.kaggle.com/prajitdatta/movielens-100k-datase"
      ]
    },
    {
      "cell_type": "code",
      "metadata": {
        "id": "a3vEjXfi1_ZN",
        "colab_type": "code",
        "colab": {
          "base_uri": "https://localhost:8080/",
          "height": 34
        },
        "outputId": "fc8491d4-7861-46ef-b7ed-4c0461e6b017"
      },
      "source": [
        "r_cols = ['user_id', 'movie_id', 'rating', 'unix_timestamp']\n",
        "ratings_train = pd.read_csv('https://raw.githubusercontent.com/ssufian/DAT-612/master/Projects/ub.base', sep='\\t', names=r_cols, encoding='latin-1')\n",
        "ratings_test = pd.read_csv('https://raw.githubusercontent.com/ssufian/DAT-612/master/Projects/ub.test', sep='\\t', names=r_cols, encoding='latin-1')\n",
        "#renaming columns\n",
        "ratings_train.rename(columns={'user_id': 'userId', 'movie_id': 'movieId'}, inplace=True)\n",
        "ratings_test.rename(columns={'user_id': 'userId', 'movie_id': 'movieId'}, inplace=True)\n",
        "#discarding timestamp columns\n",
        "ratings_train = ratings_train.drop(ratings_train.columns[[3]], axis=1) \n",
        "ratings_test = ratings_test.drop(ratings_test.columns[[3]], axis=1) \n",
        "ratings_train.shape, ratings_test.shape"
      ],
      "execution_count": null,
      "outputs": [
        {
          "output_type": "execute_result",
          "data": {
            "text/plain": [
              "((90570, 3), (9430, 3))"
            ]
          },
          "metadata": {
            "tags": []
          },
          "execution_count": 23
        }
      ]
    },
    {
      "cell_type": "code",
      "metadata": {
        "id": "3qRcq2yI1_1l",
        "colab_type": "code",
        "colab": {}
      },
      "source": [
        "#!pip3 install Turicreate\n",
        "import turicreate as tc\n",
        "train_data = tc.SFrame(ratings_train)\n",
        "test_data = tc.SFrame(ratings_test)\n",
        "tc.config.set_runtime_config('TURI_DEFAULT_NUM_PYLAMBDA_WORKERS', 40)"
      ],
      "execution_count": null,
      "outputs": []
    },
    {
      "cell_type": "markdown",
      "metadata": {
        "id": "7G6y-KomXmBr",
        "colab_type": "text"
      },
      "source": [
        "# Baseline Model (Popularity Model) Turicreate\n",
        "\n",
        "- Building a simple popularity and collaborative filtering model using Turicreate"
      ]
    },
    {
      "cell_type": "code",
      "metadata": {
        "id": "bZqZHJbF1_0Z",
        "colab_type": "code",
        "colab": {
          "base_uri": "https://localhost:8080/",
          "height": 84
        },
        "outputId": "17b272a6-8b7b-44aa-f017-87ddd7d8b21a"
      },
      "source": [
        "#Popular model (Baseline model)\n",
        "popularity_model = tc.popularity_recommender.create(train_data, user_id='userId', item_id='movieId', target='rating')"
      ],
      "execution_count": null,
      "outputs": [
        {
          "output_type": "display_data",
          "data": {
            "text/html": [
              "<pre>Preparing data set.</pre>"
            ],
            "text/plain": [
              "Preparing data set."
            ]
          },
          "metadata": {
            "tags": []
          }
        },
        {
          "output_type": "display_data",
          "data": {
            "text/html": [
              "<pre>    Data has 90570 observations with 943 users and 1675 items.</pre>"
            ],
            "text/plain": [
              "    Data has 90570 observations with 943 users and 1675 items."
            ]
          },
          "metadata": {
            "tags": []
          }
        },
        {
          "output_type": "display_data",
          "data": {
            "text/html": [
              "<pre>    Data prepared in: 0.081488s</pre>"
            ],
            "text/plain": [
              "    Data prepared in: 0.081488s"
            ]
          },
          "metadata": {
            "tags": []
          }
        },
        {
          "output_type": "display_data",
          "data": {
            "text/html": [
              "<pre>90570 observations to process; with 1675 unique items.</pre>"
            ],
            "text/plain": [
              "90570 observations to process; with 1675 unique items."
            ]
          },
          "metadata": {
            "tags": []
          }
        }
      ]
    },
    {
      "cell_type": "code",
      "metadata": {
        "id": "e-fPJMTWTqYN",
        "colab_type": "code",
        "colab": {
          "base_uri": "https://localhost:8080/",
          "height": 958
        },
        "outputId": "172a9ca7-6c17-4315-d0c9-35c3c8bffa40"
      },
      "source": [
        "#Evaluate Popularity Model\n",
        "popularity_model_tc=popularity_model.evaluate(test_data, target='rating')"
      ],
      "execution_count": null,
      "outputs": [
        {
          "output_type": "stream",
          "text": [
            "\n",
            "Precision and recall summary statistics by cutoff\n",
            "+--------+------------------------+------------------------+\n",
            "| cutoff |     mean_precision     |      mean_recall       |\n",
            "+--------+------------------------+------------------------+\n",
            "|   1    |          0.0           |          0.0           |\n",
            "|   2    |          0.0           |          0.0           |\n",
            "|   3    |          0.0           |          0.0           |\n",
            "|   4    |          0.0           |          0.0           |\n",
            "|   5    | 0.00021208907741251324 | 0.00010604453870625662 |\n",
            "|   6    | 0.00017674089784376103 | 0.00010604453870625662 |\n",
            "|   7    | 0.0003029843963035903  | 0.00021208907741251316 |\n",
            "|   8    | 0.00026511134676564165 | 0.00021208907741251305 |\n",
            "|   9    | 0.00023565453045834803 | 0.00021208907741251327 |\n",
            "|   10   | 0.00021208907741251327 | 0.00021208907741251327 |\n",
            "+--------+------------------------+------------------------+\n",
            "[10 rows x 3 columns]\n",
            "\n",
            "\n",
            "Overall RMSE: 1.0488549712631716\n",
            "\n",
            "Per User RMSE (best)\n",
            "+--------+---------------------+-------+\n",
            "| userId |         rmse        | count |\n",
            "+--------+---------------------+-------+\n",
            "|  552   | 0.33115526796531647 |   10  |\n",
            "+--------+---------------------+-------+\n",
            "[1 rows x 3 columns]\n",
            "\n",
            "\n",
            "Per User RMSE (worst)\n",
            "+--------+-------------------+-------+\n",
            "| userId |        rmse       | count |\n",
            "+--------+-------------------+-------+\n",
            "|  519   | 2.189553569735979 |   10  |\n",
            "+--------+-------------------+-------+\n",
            "[1 rows x 3 columns]\n",
            "\n",
            "\n",
            "Per Item RMSE (best)\n",
            "+---------+------+-------+\n",
            "| movieId | rmse | count |\n",
            "+---------+------+-------+\n",
            "|   1000  | 0.0  |   1   |\n",
            "+---------+------+-------+\n",
            "[1 rows x 3 columns]\n",
            "\n",
            "\n",
            "Per Item RMSE (worst)\n",
            "+---------+------+-------+\n",
            "| movieId | rmse | count |\n",
            "+---------+------+-------+\n",
            "|   1617  | 4.0  |   1   |\n",
            "+---------+------+-------+\n",
            "[1 rows x 3 columns]\n",
            "\n"
          ],
          "name": "stdout"
        }
      ]
    },
    {
      "cell_type": "markdown",
      "metadata": {
        "id": "IoQ6W48MOK-0",
        "colab_type": "text"
      },
      "source": [
        "#Summary of Popularity Model Turicreate"
      ]
    },
    {
      "cell_type": "code",
      "metadata": {
        "id": "4cAJljF9Fyap",
        "colab_type": "code",
        "colab": {
          "base_uri": "https://localhost:8080/",
          "height": 77
        },
        "outputId": "2c0ea415-d11e-401d-997a-321c48d41b1b"
      },
      "source": [
        "rsme_pop_tc=popularity_model_tc['rmse_overall']\n",
        "precision_recall_df_tcpop=pd.DataFrame (popularity_model_tc['precision_recall_overall']) #converting to Dataframe\n",
        "precision_recall_df_tcpop['f1-score'] = 2*(precision_recall_df_tcpop['precision'] * precision_recall_df_tcpop['recall'])/(precision_recall_df_tcpop['precision'] + precision_recall_df_tcpop['recall'])#calculating an f1-score\n",
        "f1_score_pop_tc=precision_recall_df_tcpop[['f1-score']].mean(axis=0)*1 #scale to full percentage value\n",
        "f1_score_pop_tc_1=f1_score_pop_tc.mean()\n",
        "# initialize list of lists \n",
        "data_pop_tc = [['Turicreate', 'Popularity', rsme_pop_tc,f1_score_pop_tc_1]] \n",
        "# Create the summary table\n",
        "summary_df_pop_tc = pd.DataFrame(data_pop_tc, columns = ['Library', 'Algorithm','RSME','f1-score'])   \n",
        "# print summary \n",
        "summary_df_pop_tc\n"
      ],
      "execution_count": null,
      "outputs": [
        {
          "output_type": "execute_result",
          "data": {
            "text/html": [
              "<div>\n",
              "<style scoped>\n",
              "    .dataframe tbody tr th:only-of-type {\n",
              "        vertical-align: middle;\n",
              "    }\n",
              "\n",
              "    .dataframe tbody tr th {\n",
              "        vertical-align: top;\n",
              "    }\n",
              "\n",
              "    .dataframe thead th {\n",
              "        text-align: right;\n",
              "    }\n",
              "</style>\n",
              "<table border=\"1\" class=\"dataframe\">\n",
              "  <thead>\n",
              "    <tr style=\"text-align: right;\">\n",
              "      <th></th>\n",
              "      <th>Library</th>\n",
              "      <th>Algorithm</th>\n",
              "      <th>RSME</th>\n",
              "      <th>f1-score</th>\n",
              "    </tr>\n",
              "  </thead>\n",
              "  <tbody>\n",
              "    <tr>\n",
              "      <th>0</th>\n",
              "      <td>Turicreate</td>\n",
              "      <td>Popularity</td>\n",
              "      <td>1.048855</td>\n",
              "      <td>0.009772</td>\n",
              "    </tr>\n",
              "  </tbody>\n",
              "</table>\n",
              "</div>"
            ],
            "text/plain": [
              "      Library   Algorithm      RSME  f1-score\n",
              "0  Turicreate  Popularity  1.048855  0.009772"
            ]
          },
          "metadata": {
            "tags": []
          },
          "execution_count": 31
        }
      ]
    },
    {
      "cell_type": "code",
      "metadata": {
        "id": "usCHzibuvBva",
        "colab_type": "code",
        "colab": {
          "base_uri": "https://localhost:8080/",
          "height": 513
        },
        "outputId": "20ba2965-2568-48ed-f1a5-d8f6817c9ab3"
      },
      "source": [
        "#Precision-Recall Chart\n",
        "sns.set_style(\"darkgrid\",{\"axes.facecolor\": \".75\"}) \n",
        "ax =precision_recall_df_tcpop.plot(x='recall', y='precision', legend=False,title='Precision-Recall of Popularity Model Turicreate')\n",
        "ax.set_xlabel(\"recall\")\n",
        "ax.set_ylabel(\"precision\")\n",
        "plt.show()"
      ],
      "execution_count": null,
      "outputs": [
        {
          "output_type": "display_data",
          "data": {
            "image/png": "[encoded data removed]",
            "text/plain": [
              "<Figure size 864x576 with 1 Axes>"
            ]
          },
          "metadata": {
            "tags": []
          }
        }
      ]
    },
    {
      "cell_type": "markdown",
      "metadata": {
        "id": "M4IQ2UaTYFeu",
        "colab_type": "text"
      },
      "source": [
        "# IBCF Model Turicreate\n",
        "- After building a popularity model, we will now build a collaborative filtering model\n",
        "- Train item similarity model (IBCF) and make top 5 recommendations for the first 5 users"
      ]
    },
    {
      "cell_type": "code",
      "metadata": {
        "id": "-dCI0uG71_sp",
        "colab_type": "code",
        "colab": {
          "base_uri": "https://localhost:8080/",
          "height": 370
        },
        "outputId": "9602900d-c45d-4bcb-f440-a1d493bee50e"
      },
      "source": [
        "#Training the model- IBCF\n",
        "item_sim_model = tc.item_similarity_recommender.create(train_data, user_id='userId', item_id='movieId', target='rating', similarity_type='cosine')"
      ],
      "execution_count": null,
      "outputs": [
        {
          "output_type": "display_data",
          "data": {
            "text/html": [
              "<pre>Preparing data set.</pre>"
            ],
            "text/plain": [
              "Preparing data set."
            ]
          },
          "metadata": {
            "tags": []
          }
        },
        {
          "output_type": "display_data",
          "data": {
            "text/html": [
              "<pre>    Data has 90570 observations with 943 users and 1675 items.</pre>"
            ],
            "text/plain": [
              "    Data has 90570 observations with 943 users and 1675 items."
            ]
          },
          "metadata": {
            "tags": []
          }
        },
        {
          "output_type": "display_data",
          "data": {
            "text/html": [
              "<pre>    Data prepared in: 0.091181s</pre>"
            ],
            "text/plain": [
              "    Data prepared in: 0.091181s"
            ]
          },
          "metadata": {
            "tags": []
          }
        },
        {
          "output_type": "display_data",
          "data": {
            "text/html": [
              "<pre>Training model from provided data.</pre>"
            ],
            "text/plain": [
              "Training model from provided data."
            ]
          },
          "metadata": {
            "tags": []
          }
        },
        {
          "output_type": "display_data",
          "data": {
            "text/html": [
              "<pre>Gathering per-item and per-user statistics.</pre>"
            ],
            "text/plain": [
              "Gathering per-item and per-user statistics."
            ]
          },
          "metadata": {
            "tags": []
          }
        },
        {
          "output_type": "display_data",
          "data": {
            "text/html": [
              "<pre>+--------------------------------+------------+</pre>"
            ],
            "text/plain": [
              "+--------------------------------+------------+"
            ]
          },
          "metadata": {
            "tags": []
          }
        },
        {
          "output_type": "display_data",
          "data": {
            "text/html": [
              "<pre>| Elapsed Time (Item Statistics) | % Complete |</pre>"
            ],
            "text/plain": [
              "| Elapsed Time (Item Statistics) | % Complete |"
            ]
          },
          "metadata": {
            "tags": []
          }
        },
        {
          "output_type": "display_data",
          "data": {
            "text/html": [
              "<pre>+--------------------------------+------------+</pre>"
            ],
            "text/plain": [
              "+--------------------------------+------------+"
            ]
          },
          "metadata": {
            "tags": []
          }
        },
        {
          "output_type": "display_data",
          "data": {
            "text/html": [
              "<pre>| 10.087ms                       | 100        |</pre>"
            ],
            "text/plain": [
              "| 10.087ms                       | 100        |"
            ]
          },
          "metadata": {
            "tags": []
          }
        },
        {
          "output_type": "display_data",
          "data": {
            "text/html": [
              "<pre>+--------------------------------+------------+</pre>"
            ],
            "text/plain": [
              "+--------------------------------+------------+"
            ]
          },
          "metadata": {
            "tags": []
          }
        },
        {
          "output_type": "display_data",
          "data": {
            "text/html": [
              "<pre>Setting up lookup tables.</pre>"
            ],
            "text/plain": [
              "Setting up lookup tables."
            ]
          },
          "metadata": {
            "tags": []
          }
        },
        {
          "output_type": "display_data",
          "data": {
            "text/html": [
              "<pre>Processing data in one pass using dense lookup tables.</pre>"
            ],
            "text/plain": [
              "Processing data in one pass using dense lookup tables."
            ]
          },
          "metadata": {
            "tags": []
          }
        },
        {
          "output_type": "display_data",
          "data": {
            "text/html": [
              "<pre>+-------------------------------------+------------------+-----------------+</pre>"
            ],
            "text/plain": [
              "+-------------------------------------+------------------+-----------------+"
            ]
          },
          "metadata": {
            "tags": []
          }
        },
        {
          "output_type": "display_data",
          "data": {
            "text/html": [
              "<pre>| Elapsed Time (Constructing Lookups) | Total % Complete | Items Processed |</pre>"
            ],
            "text/plain": [
              "| Elapsed Time (Constructing Lookups) | Total % Complete | Items Processed |"
            ]
          },
          "metadata": {
            "tags": []
          }
        },
        {
          "output_type": "display_data",
          "data": {
            "text/html": [
              "<pre>+-------------------------------------+------------------+-----------------+</pre>"
            ],
            "text/plain": [
              "+-------------------------------------+------------------+-----------------+"
            ]
          },
          "metadata": {
            "tags": []
          }
        },
        {
          "output_type": "display_data",
          "data": {
            "text/html": [
              "<pre>| 16.479ms                            | 0                | 0               |</pre>"
            ],
            "text/plain": [
              "| 16.479ms                            | 0                | 0               |"
            ]
          },
          "metadata": {
            "tags": []
          }
        },
        {
          "output_type": "display_data",
          "data": {
            "text/html": [
              "<pre>| 52.915ms                            | 100              | 1675            |</pre>"
            ],
            "text/plain": [
              "| 52.915ms                            | 100              | 1675            |"
            ]
          },
          "metadata": {
            "tags": []
          }
        },
        {
          "output_type": "display_data",
          "data": {
            "text/html": [
              "<pre>+-------------------------------------+------------------+-----------------+</pre>"
            ],
            "text/plain": [
              "+-------------------------------------+------------------+-----------------+"
            ]
          },
          "metadata": {
            "tags": []
          }
        },
        {
          "output_type": "display_data",
          "data": {
            "text/html": [
              "<pre>Finalizing lookup tables.</pre>"
            ],
            "text/plain": [
              "Finalizing lookup tables."
            ]
          },
          "metadata": {
            "tags": []
          }
        },
        {
          "output_type": "display_data",
          "data": {
            "text/html": [
              "<pre>Generating candidate set for working with new users.</pre>"
            ],
            "text/plain": [
              "Generating candidate set for working with new users."
            ]
          },
          "metadata": {
            "tags": []
          }
        },
        {
          "output_type": "display_data",
          "data": {
            "text/html": [
              "<pre>Finished training in 1.08319s</pre>"
            ],
            "text/plain": [
              "Finished training in 1.08319s"
            ]
          },
          "metadata": {
            "tags": []
          }
        }
      ]
    },
    {
      "cell_type": "code",
      "metadata": {
        "id": "CjSIh4ZkYbf0",
        "colab_type": "code",
        "colab": {
          "base_uri": "https://localhost:8080/",
          "height": 958
        },
        "outputId": "b78ff57f-6f77-4284-9a92-7053fdbca032"
      },
      "source": [
        "# Evaluation of Turicreate's IBCF Model\n",
        "eval_IBCR_tc = item_sim_model.evaluate(test_data)"
      ],
      "execution_count": null,
      "outputs": [
        {
          "output_type": "stream",
          "text": [
            "\n",
            "Precision and recall summary statistics by cutoff\n",
            "+--------+---------------------+----------------------+\n",
            "| cutoff |    mean_precision   |     mean_recall      |\n",
            "+--------+---------------------+----------------------+\n",
            "|   1    | 0.34040296924708385 | 0.034040296924708426 |\n",
            "|   2    |  0.2948038176033936 | 0.05896076352067871  |\n",
            "|   3    | 0.26935312831389224 | 0.08080593849416749  |\n",
            "|   4    |  0.2449628844114528 | 0.09798515376458108  |\n",
            "|   5    | 0.22990455991516437 | 0.11495227995758218  |\n",
            "|   6    | 0.21615411806291973 |  0.1296924708377519  |\n",
            "|   7    | 0.20390849871231623 |  0.1427359490986214  |\n",
            "|   8    | 0.19353128313891832 |  0.1548250265111346  |\n",
            "|   9    |  0.1855779427359492 | 0.16702014846235433  |\n",
            "|   10   |  0.1783669141039237 |  0.1783669141039237  |\n",
            "+--------+---------------------+----------------------+\n",
            "[10 rows x 3 columns]\n",
            "\n",
            "\n",
            "Overall RMSE: 3.375871715704556\n",
            "\n",
            "Per User RMSE (best)\n",
            "+--------+------------------+-------+\n",
            "| userId |       rmse       | count |\n",
            "+--------+------------------+-------+\n",
            "|  445   | 1.86790558312185 |   10  |\n",
            "+--------+------------------+-------+\n",
            "[1 rows x 3 columns]\n",
            "\n",
            "\n",
            "Per User RMSE (worst)\n",
            "+--------+-------------------+-------+\n",
            "| userId |        rmse       | count |\n",
            "+--------+-------------------+-------+\n",
            "|  688   | 4.723033788170123 |   10  |\n",
            "+--------+-------------------+-------+\n",
            "[1 rows x 3 columns]\n",
            "\n",
            "\n",
            "Per Item RMSE (best)\n",
            "+---------+--------------------+-------+\n",
            "| movieId |        rmse        | count |\n",
            "+---------+--------------------+-------+\n",
            "|   773   | 0.8695694966749712 |   1   |\n",
            "+---------+--------------------+-------+\n",
            "[1 rows x 3 columns]\n",
            "\n",
            "\n",
            "Per Item RMSE (worst)\n",
            "+---------+------+-------+\n",
            "| movieId | rmse | count |\n",
            "+---------+------+-------+\n",
            "|   1381  | 5.0  |   1   |\n",
            "+---------+------+-------+\n",
            "[1 rows x 3 columns]\n",
            "\n"
          ],
          "name": "stdout"
        }
      ]
    },
    {
      "cell_type": "markdown",
      "metadata": {
        "id": "ncbb0GVGZaOP",
        "colab_type": "text"
      },
      "source": [
        "#Summary of IBCF Model Turicreate"
      ]
    },
    {
      "cell_type": "code",
      "metadata": {
        "id": "aIj7uJCAZlxC",
        "colab_type": "code",
        "colab": {
          "base_uri": "https://localhost:8080/",
          "height": 77
        },
        "outputId": "e718fa84-2da0-45f1-f806-b8a13e4c9d63"
      },
      "source": [
        "rsme_IBCF_tc=eval_IBCR_tc['rmse_overall']\n",
        "precision_recall_df_tcIBCF=pd.DataFrame (eval_IBCR_tc['precision_recall_overall']) #converting to Dataframe\n",
        "precision_recall_df_tcIBCF['f1-score'] = 2*(precision_recall_df_tcIBCF['precision'] * precision_recall_df_tcIBCF['recall'])/(precision_recall_df_tcIBCF['precision'] + precision_recall_df_tcIBCF['recall'])#calculating an f1-score\n",
        "f1_score_IBCF_tc=precision_recall_df_tcIBCF[['f1-score']].mean(axis=0)*1 #scale to full percentage value\n",
        "f1_score_IBCF_tc_IBCF=f1_score_IBCF_tc.mean()\n",
        "# initialize list of lists \n",
        "data_IBCF_tc = [['Turicreate', 'IBCF', rsme_IBCF_tc,f1_score_IBCF_tc_IBCF]] \n",
        "# Create the summary table\n",
        "summary_df_IBCF_tc = pd.DataFrame(data_IBCF_tc, columns = ['Library', 'Algorithm','RSME','f1-score'])   \n",
        "# print summary \n",
        "summary_df_IBCF_tc"
      ],
      "execution_count": null,
      "outputs": [
        {
          "output_type": "execute_result",
          "data": {
            "text/html": [
              "<div>\n",
              "<style scoped>\n",
              "    .dataframe tbody tr th:only-of-type {\n",
              "        vertical-align: middle;\n",
              "    }\n",
              "\n",
              "    .dataframe tbody tr th {\n",
              "        vertical-align: top;\n",
              "    }\n",
              "\n",
              "    .dataframe thead th {\n",
              "        text-align: right;\n",
              "    }\n",
              "</style>\n",
              "<table border=\"1\" class=\"dataframe\">\n",
              "  <thead>\n",
              "    <tr style=\"text-align: right;\">\n",
              "      <th></th>\n",
              "      <th>Library</th>\n",
              "      <th>Algorithm</th>\n",
              "      <th>RSME</th>\n",
              "      <th>f1-score</th>\n",
              "    </tr>\n",
              "  </thead>\n",
              "  <tbody>\n",
              "    <tr>\n",
              "      <th>0</th>\n",
              "      <td>Turicreate</td>\n",
              "      <td>IBCF</td>\n",
              "      <td>3.375872</td>\n",
              "      <td>0.15362</td>\n",
              "    </tr>\n",
              "  </tbody>\n",
              "</table>\n",
              "</div>"
            ],
            "text/plain": [
              "      Library Algorithm      RSME  f1-score\n",
              "0  Turicreate      IBCF  3.375872   0.15362"
            ]
          },
          "metadata": {
            "tags": []
          },
          "execution_count": 35
        }
      ]
    },
    {
      "cell_type": "code",
      "metadata": {
        "id": "Fmb4TiyYcPrF",
        "colab_type": "code",
        "colab": {
          "base_uri": "https://localhost:8080/",
          "height": 513
        },
        "outputId": "cdcb8fe7-a199-484d-c9fd-bff61ba8eea8"
      },
      "source": [
        "#Precision-Recall Chart\n",
        "sns.set_style(\"darkgrid\",{\"axes.facecolor\": \".75\"}) \n",
        "ax =precision_recall_df_tcIBCF.plot(x='recall', y='precision', legend=False,title='Precision-Recall of IBCF Model Turicreate')\n",
        "ax.set_xlabel(\"recall\")\n",
        "ax.set_ylabel(\"precision\")\n",
        "plt.show()"
      ],
      "execution_count": null,
      "outputs": [
        {
          "output_type": "display_data",
          "data": {
            "image/png": "[encoded data removed]",
            "text/plain": [
              "<Figure size 864x576 with 1 Axes>"
            ]
          },
          "metadata": {
            "tags": []
          }
        }
      ]
    },
    {
      "cell_type": "markdown",
      "metadata": {
        "id": "oPi8xf9ekM89",
        "colab_type": "text"
      },
      "source": [
        "# SVD Model Turicreate\n",
        "- After building a popularity & IBCF model, we will now build an SVD model\n",
        "- Train SVD and make top 5 recommendations for the first 5 users"
      ]
    },
    {
      "cell_type": "code",
      "metadata": {
        "id": "FteUmj_nPJkT",
        "colab_type": "code",
        "colab": {
          "base_uri": "https://localhost:8080/",
          "height": 857
        },
        "outputId": "23ac7d88-1018-4b50-c1ad-d85931244606"
      },
      "source": [
        "svd_model = tc.factorization_recommender.create(train_data, user_id='userId', item_id='movieId', target='rating')"
      ],
      "execution_count": null,
      "outputs": [
        {
          "output_type": "display_data",
          "data": {
            "text/html": [
              "<pre>Preparing data set.</pre>"
            ],
            "text/plain": [
              "Preparing data set."
            ]
          },
          "metadata": {
            "tags": []
          }
        },
        {
          "output_type": "display_data",
          "data": {
            "text/html": [
              "<pre>    Data has 90570 observations with 943 users and 1675 items.</pre>"
            ],
            "text/plain": [
              "    Data has 90570 observations with 943 users and 1675 items."
            ]
          },
          "metadata": {
            "tags": []
          }
        },
        {
          "output_type": "display_data",
          "data": {
            "text/html": [
              "<pre>    Data prepared in: 0.083421s</pre>"
            ],
            "text/plain": [
              "    Data prepared in: 0.083421s"
            ]
          },
          "metadata": {
            "tags": []
          }
        },
        {
          "output_type": "display_data",
          "data": {
            "text/html": [
              "<pre>Training factorization_recommender for recommendations.</pre>"
            ],
            "text/plain": [
              "Training factorization_recommender for recommendations."
            ]
          },
          "metadata": {
            "tags": []
          }
        },
        {
          "output_type": "display_data",
          "data": {
            "text/html": [
              "<pre>+--------------------------------+--------------------------------------------------+----------+</pre>"
            ],
            "text/plain": [
              "+--------------------------------+--------------------------------------------------+----------+"
            ]
          },
          "metadata": {
            "tags": []
          }
        },
        {
          "output_type": "display_data",
          "data": {
            "text/html": [
              "<pre>| Parameter                      | Description                                      | Value    |</pre>"
            ],
            "text/plain": [
              "| Parameter                      | Description                                      | Value    |"
            ]
          },
          "metadata": {
            "tags": []
          }
        },
        {
          "output_type": "display_data",
          "data": {
            "text/html": [
              "<pre>+--------------------------------+--------------------------------------------------+----------+</pre>"
            ],
            "text/plain": [
              "+--------------------------------+--------------------------------------------------+----------+"
            ]
          },
          "metadata": {
            "tags": []
          }
        },
        {
          "output_type": "display_data",
          "data": {
            "text/html": [
              "<pre>| num_factors                    | Factor Dimension                                 | 8        |</pre>"
            ],
            "text/plain": [
              "| num_factors                    | Factor Dimension                                 | 8        |"
            ]
          },
          "metadata": {
            "tags": []
          }
        },
        {
          "output_type": "display_data",
          "data": {
            "text/html": [
              "<pre>| regularization                 | L2 Regularization on Factors                     | 1e-08    |</pre>"
            ],
            "text/plain": [
              "| regularization                 | L2 Regularization on Factors                     | 1e-08    |"
            ]
          },
          "metadata": {
            "tags": []
          }
        },
        {
          "output_type": "display_data",
          "data": {
            "text/html": [
              "<pre>| solver                         | Solver used for training                         | sgd      |</pre>"
            ],
            "text/plain": [
              "| solver                         | Solver used for training                         | sgd      |"
            ]
          },
          "metadata": {
            "tags": []
          }
        },
        {
          "output_type": "display_data",
          "data": {
            "text/html": [
              "<pre>| linear_regularization          | L2 Regularization on Linear Coefficients         | 1e-10    |</pre>"
            ],
            "text/plain": [
              "| linear_regularization          | L2 Regularization on Linear Coefficients         | 1e-10    |"
            ]
          },
          "metadata": {
            "tags": []
          }
        },
        {
          "output_type": "display_data",
          "data": {
            "text/html": [
              "<pre>| max_iterations                 | Maximum Number of Iterations                     | 50       |</pre>"
            ],
            "text/plain": [
              "| max_iterations                 | Maximum Number of Iterations                     | 50       |"
            ]
          },
          "metadata": {
            "tags": []
          }
        },
        {
          "output_type": "display_data",
          "data": {
            "text/html": [
              "<pre>+--------------------------------+--------------------------------------------------+----------+</pre>"
            ],
            "text/plain": [
              "+--------------------------------+--------------------------------------------------+----------+"
            ]
          },
          "metadata": {
            "tags": []
          }
        },
        {
          "output_type": "display_data",
          "data": {
            "text/html": [
              "<pre>  Optimizing model using SGD; tuning step size.</pre>"
            ],
            "text/plain": [
              "  Optimizing model using SGD; tuning step size."
            ]
          },
          "metadata": {
            "tags": []
          }
        },
        {
          "output_type": "display_data",
          "data": {
            "text/html": [
              "<pre>  Using 11321 / 90570 points for tuning the step size.</pre>"
            ],
            "text/plain": [
              "  Using 11321 / 90570 points for tuning the step size."
            ]
          },
          "metadata": {
            "tags": []
          }
        },
        {
          "output_type": "display_data",
          "data": {
            "text/html": [
              "<pre>+---------+-------------------+------------------------------------------+</pre>"
            ],
            "text/plain": [
              "+---------+-------------------+------------------------------------------+"
            ]
          },
          "metadata": {
            "tags": []
          }
        },
        {
          "output_type": "display_data",
          "data": {
            "text/html": [
              "<pre>| Attempt | Initial Step Size | Estimated Objective Value                |</pre>"
            ],
            "text/plain": [
              "| Attempt | Initial Step Size | Estimated Objective Value                |"
            ]
          },
          "metadata": {
            "tags": []
          }
        },
        {
          "output_type": "display_data",
          "data": {
            "text/html": [
              "<pre>+---------+-------------------+------------------------------------------+</pre>"
            ],
            "text/plain": [
              "+---------+-------------------+------------------------------------------+"
            ]
          },
          "metadata": {
            "tags": []
          }
        },
        {
          "output_type": "display_data",
          "data": {
            "text/html": [
              "<pre>| 0       | 25                | Not Viable                               |</pre>"
            ],
            "text/plain": [
              "| 0       | 25                | Not Viable                               |"
            ]
          },
          "metadata": {
            "tags": []
          }
        },
        {
          "output_type": "display_data",
          "data": {
            "text/html": [
              "<pre>| 1       | 6.25              | Not Viable                               |</pre>"
            ],
            "text/plain": [
              "| 1       | 6.25              | Not Viable                               |"
            ]
          },
          "metadata": {
            "tags": []
          }
        },
        {
          "output_type": "display_data",
          "data": {
            "text/html": [
              "<pre>| 2       | 1.5625            | Not Viable                               |</pre>"
            ],
            "text/plain": [
              "| 2       | 1.5625            | Not Viable                               |"
            ]
          },
          "metadata": {
            "tags": []
          }
        },
        {
          "output_type": "display_data",
          "data": {
            "text/html": [
              "<pre>| 3       | 0.390625          | Not Viable                               |</pre>"
            ],
            "text/plain": [
              "| 3       | 0.390625          | Not Viable                               |"
            ]
          },
          "metadata": {
            "tags": []
          }
        },
        {
          "output_type": "display_data",
          "data": {
            "text/html": [
              "<pre>| 4       | 0.0976562         | 0.699652                                 |</pre>"
            ],
            "text/plain": [
              "| 4       | 0.0976562         | 0.699652                                 |"
            ]
          },
          "metadata": {
            "tags": []
          }
        },
        {
          "output_type": "display_data",
          "data": {
            "text/html": [
              "<pre>| 5       | 0.0488281         | 0.721878                                 |</pre>"
            ],
            "text/plain": [
              "| 5       | 0.0488281         | 0.721878                                 |"
            ]
          },
          "metadata": {
            "tags": []
          }
        },
        {
          "output_type": "display_data",
          "data": {
            "text/html": [
              "<pre>| 6       | 0.0244141         | 0.76665                                  |</pre>"
            ],
            "text/plain": [
              "| 6       | 0.0244141         | 0.76665                                  |"
            ]
          },
          "metadata": {
            "tags": []
          }
        },
        {
          "output_type": "display_data",
          "data": {
            "text/html": [
              "<pre>| 7       | 0.012207          | 0.830865                                 |</pre>"
            ],
            "text/plain": [
              "| 7       | 0.012207          | 0.830865                                 |"
            ]
          },
          "metadata": {
            "tags": []
          }
        },
        {
          "output_type": "display_data",
          "data": {
            "text/html": [
              "<pre>+---------+-------------------+------------------------------------------+</pre>"
            ],
            "text/plain": [
              "+---------+-------------------+------------------------------------------+"
            ]
          },
          "metadata": {
            "tags": []
          }
        },
        {
          "output_type": "display_data",
          "data": {
            "text/html": [
              "<pre>| Final   | 0.0976562         | 0.699652                                 |</pre>"
            ],
            "text/plain": [
              "| Final   | 0.0976562         | 0.699652                                 |"
            ]
          },
          "metadata": {
            "tags": []
          }
        },
        {
          "output_type": "display_data",
          "data": {
            "text/html": [
              "<pre>+---------+-------------------+------------------------------------------+</pre>"
            ],
            "text/plain": [
              "+---------+-------------------+------------------------------------------+"
            ]
          },
          "metadata": {
            "tags": []
          }
        },
        {
          "output_type": "display_data",
          "data": {
            "text/html": [
              "<pre>Starting Optimization.</pre>"
            ],
            "text/plain": [
              "Starting Optimization."
            ]
          },
          "metadata": {
            "tags": []
          }
        },
        {
          "output_type": "display_data",
          "data": {
            "text/html": [
              "<pre>+---------+--------------+-------------------+-----------------------+-------------+</pre>"
            ],
            "text/plain": [
              "+---------+--------------+-------------------+-----------------------+-------------+"
            ]
          },
          "metadata": {
            "tags": []
          }
        },
        {
          "output_type": "display_data",
          "data": {
            "text/html": [
              "<pre>| Iter.   | Elapsed Time | Approx. Objective | Approx. Training RMSE | Step Size   |</pre>"
            ],
            "text/plain": [
              "| Iter.   | Elapsed Time | Approx. Objective | Approx. Training RMSE | Step Size   |"
            ]
          },
          "metadata": {
            "tags": []
          }
        },
        {
          "output_type": "display_data",
          "data": {
            "text/html": [
              "<pre>+---------+--------------+-------------------+-----------------------+-------------+</pre>"
            ],
            "text/plain": [
              "+---------+--------------+-------------------+-----------------------+-------------+"
            ]
          },
          "metadata": {
            "tags": []
          }
        },
        {
          "output_type": "display_data",
          "data": {
            "text/html": [
              "<pre>| Initial | 72us         | 1.26718           | 1.12569               |             |</pre>"
            ],
            "text/plain": [
              "| Initial | 72us         | 1.26718           | 1.12569               |             |"
            ]
          },
          "metadata": {
            "tags": []
          }
        },
        {
          "output_type": "display_data",
          "data": {
            "text/html": [
              "<pre>+---------+--------------+-------------------+-----------------------+-------------+</pre>"
            ],
            "text/plain": [
              "+---------+--------------+-------------------+-----------------------+-------------+"
            ]
          },
          "metadata": {
            "tags": []
          }
        },
        {
          "output_type": "display_data",
          "data": {
            "text/html": [
              "<pre>| 1       | 356.15ms     | 1.06089           | 1.02999               | 0.0976562   |</pre>"
            ],
            "text/plain": [
              "| 1       | 356.15ms     | 1.06089           | 1.02999               | 0.0976562   |"
            ]
          },
          "metadata": {
            "tags": []
          }
        },
        {
          "output_type": "display_data",
          "data": {
            "text/html": [
              "<pre>| 2       | 678.052ms    | 0.91638           | 0.957272              | 0.0580668   |</pre>"
            ],
            "text/plain": [
              "| 2       | 678.052ms    | 0.91638           | 0.957272              | 0.0580668   |"
            ]
          },
          "metadata": {
            "tags": []
          }
        },
        {
          "output_type": "display_data",
          "data": {
            "text/html": [
              "<pre>| 3       | 995.642ms    | 0.8173            | 0.904038              | 0.042841    |</pre>"
            ],
            "text/plain": [
              "| 3       | 995.642ms    | 0.8173            | 0.904038              | 0.042841    |"
            ]
          },
          "metadata": {
            "tags": []
          }
        },
        {
          "output_type": "display_data",
          "data": {
            "text/html": [
              "<pre>| 4       | 1.28s        | 0.738544          | 0.859375              | 0.0345267   |</pre>"
            ],
            "text/plain": [
              "| 4       | 1.28s        | 0.738544          | 0.859375              | 0.0345267   |"
            ]
          },
          "metadata": {
            "tags": []
          }
        },
        {
          "output_type": "display_data",
          "data": {
            "text/html": [
              "<pre>| 5       | 1.59s        | 0.687941          | 0.829408              | 0.029206    |</pre>"
            ],
            "text/plain": [
              "| 5       | 1.59s        | 0.687941          | 0.829408              | 0.029206    |"
            ]
          },
          "metadata": {
            "tags": []
          }
        },
        {
          "output_type": "display_data",
          "data": {
            "text/html": [
              "<pre>| 10      | 3.05s        | 0.594713          | 0.771155              | 0.017366    |</pre>"
            ],
            "text/plain": [
              "| 10      | 3.05s        | 0.594713          | 0.771155              | 0.017366    |"
            ]
          },
          "metadata": {
            "tags": []
          }
        },
        {
          "output_type": "display_data",
          "data": {
            "text/html": [
              "<pre>| 20      | 6.02s        | 0.547265          | 0.739746              | 0.0103259   |</pre>"
            ],
            "text/plain": [
              "| 20      | 6.02s        | 0.547265          | 0.739746              | 0.0103259   |"
            ]
          },
          "metadata": {
            "tags": []
          }
        },
        {
          "output_type": "display_data",
          "data": {
            "text/html": [
              "<pre>| 30      | 9.24s        | 0.528892          | 0.727219              | 0.00761832  |</pre>"
            ],
            "text/plain": [
              "| 30      | 9.24s        | 0.528892          | 0.727219              | 0.00761832  |"
            ]
          },
          "metadata": {
            "tags": []
          }
        },
        {
          "output_type": "display_data",
          "data": {
            "text/html": [
              "<pre>| 40      | 12.63s       | 0.518912          | 0.720323              | 0.00613981  |</pre>"
            ],
            "text/plain": [
              "| 40      | 12.63s       | 0.518912          | 0.720323              | 0.00613981  |"
            ]
          },
          "metadata": {
            "tags": []
          }
        },
        {
          "output_type": "display_data",
          "data": {
            "text/html": [
              "<pre>| 50      | 16.02s       | 0.512352          | 0.715753              | 0.00519365  |</pre>"
            ],
            "text/plain": [
              "| 50      | 16.02s       | 0.512352          | 0.715753              | 0.00519365  |"
            ]
          },
          "metadata": {
            "tags": []
          }
        },
        {
          "output_type": "display_data",
          "data": {
            "text/html": [
              "<pre>+---------+--------------+-------------------+-----------------------+-------------+</pre>"
            ],
            "text/plain": [
              "+---------+--------------+-------------------+-----------------------+-------------+"
            ]
          },
          "metadata": {
            "tags": []
          }
        },
        {
          "output_type": "display_data",
          "data": {
            "text/html": [
              "<pre>Optimization Complete: Maximum number of passes through the data reached.</pre>"
            ],
            "text/plain": [
              "Optimization Complete: Maximum number of passes through the data reached."
            ]
          },
          "metadata": {
            "tags": []
          }
        },
        {
          "output_type": "display_data",
          "data": {
            "text/html": [
              "<pre>Computing final objective value and training RMSE.</pre>"
            ],
            "text/plain": [
              "Computing final objective value and training RMSE."
            ]
          },
          "metadata": {
            "tags": []
          }
        },
        {
          "output_type": "display_data",
          "data": {
            "text/html": [
              "<pre>       Final objective value: 0.489182</pre>"
            ],
            "text/plain": [
              "       Final objective value: 0.489182"
            ]
          },
          "metadata": {
            "tags": []
          }
        },
        {
          "output_type": "display_data",
          "data": {
            "text/html": [
              "<pre>       Final training RMSE: 0.69938</pre>"
            ],
            "text/plain": [
              "       Final training RMSE: 0.69938"
            ]
          },
          "metadata": {
            "tags": []
          }
        }
      ]
    },
    {
      "cell_type": "code",
      "metadata": {
        "id": "9NaAHrl2kbgk",
        "colab_type": "code",
        "colab": {
          "base_uri": "https://localhost:8080/",
          "height": 958
        },
        "outputId": "ebec53cb-8e41-419b-9425-4ec00d522037"
      },
      "source": [
        "#Evaluating SVD \n",
        "eval_SVD_tc= svd_model.evaluate(test_data)"
      ],
      "execution_count": null,
      "outputs": [
        {
          "output_type": "stream",
          "text": [
            "\n",
            "Precision and recall summary statistics by cutoff\n",
            "+--------+----------------------+-----------------------+\n",
            "| cutoff |    mean_precision    |      mean_recall      |\n",
            "+--------+----------------------+-----------------------+\n",
            "|   1    | 0.009544008483563097 | 0.0009544008483563097 |\n",
            "|   2    |  0.0095440084835631  | 0.0019088016967126198 |\n",
            "|   3    | 0.011311417462000711 | 0.0033934252386002128 |\n",
            "|   4    | 0.013785790031813362 |  0.005514316012725346 |\n",
            "|   5    | 0.013573700954400835 |  0.006786850477200418 |\n",
            "|   6    | 0.014316012725344643 |  0.00858960763520678  |\n",
            "|   7    | 0.013785790031813367 |  0.00965005302226934  |\n",
            "|   8    | 0.014050901378579003 |  0.011240721102863187 |\n",
            "|   9    | 0.014728408153646731 |  0.013255567338282061 |\n",
            "|   10   | 0.015482502651113452 |  0.015482502651113452 |\n",
            "+--------+----------------------+-----------------------+\n",
            "[10 rows x 3 columns]\n",
            "\n",
            "\n",
            "Overall RMSE: 1.0881275827081647\n",
            "\n",
            "Per User RMSE (best)\n",
            "+--------+---------------------+-------+\n",
            "| userId |         rmse        | count |\n",
            "+--------+---------------------+-------+\n",
            "|  118   | 0.32132571293513995 |   10  |\n",
            "+--------+---------------------+-------+\n",
            "[1 rows x 3 columns]\n",
            "\n",
            "\n",
            "Per User RMSE (worst)\n",
            "+--------+-------------------+-------+\n",
            "| userId |        rmse       | count |\n",
            "+--------+-------------------+-------+\n",
            "|  739   | 2.759275008507183 |   10  |\n",
            "+--------+-------------------+-------+\n",
            "[1 rows x 3 columns]\n",
            "\n",
            "\n",
            "Per Item RMSE (best)\n",
            "+---------+-----------------------+-------+\n",
            "| movieId |          rmse         | count |\n",
            "+---------+-----------------------+-------+\n",
            "|   1244  | 0.0005590313131391689 |   1   |\n",
            "+---------+-----------------------+-------+\n",
            "[1 rows x 3 columns]\n",
            "\n",
            "\n",
            "Per Item RMSE (worst)\n",
            "+---------+-------------------+-------+\n",
            "| movieId |        rmse       | count |\n",
            "+---------+-------------------+-------+\n",
            "|   1503  | 4.278854966813844 |   1   |\n",
            "+---------+-------------------+-------+\n",
            "[1 rows x 3 columns]\n",
            "\n"
          ],
          "name": "stdout"
        }
      ]
    },
    {
      "cell_type": "markdown",
      "metadata": {
        "id": "-5JeCd5EecGX",
        "colab_type": "text"
      },
      "source": [
        "#Summary of SVD Model Turicreate"
      ]
    },
    {
      "cell_type": "code",
      "metadata": {
        "id": "pjiQZjrzek1P",
        "colab_type": "code",
        "colab": {
          "base_uri": "https://localhost:8080/",
          "height": 77
        },
        "outputId": "0b002bdd-89f4-4f20-a31f-aa4dc022e593"
      },
      "source": [
        "rsme_SVD_tc=eval_SVD_tc['rmse_overall']\n",
        "precision_recall_df_tcSVD=pd.DataFrame (eval_SVD_tc['precision_recall_overall']) #converting to Dataframe\n",
        "precision_recall_df_tcSVD['f1-score'] = 2*(precision_recall_df_tcSVD['precision'] * precision_recall_df_tcSVD['recall'])/(precision_recall_df_tcSVD['precision'] + precision_recall_df_tcSVD['recall'])#calculating an f1-score\n",
        "f1_score_SVD_tc=precision_recall_df_tcSVD[['f1-score']].mean(axis=0)*1 #scale to full percentage value\n",
        "f1_score_SVD_tc_SVD=f1_score_SVD_tc.mean()\n",
        "# initialize list of lists \n",
        "data_SVD_tc = [['Turicreate', 'SVD', rsme_SVD_tc,f1_score_SVD_tc_SVD]] \n",
        "# Create the summary table\n",
        "summary_df_SVD_tc = pd.DataFrame(data_SVD_tc, columns = ['Library', 'Algorithm','RSME','f1-score'])   \n",
        "# print summary \n",
        "summary_df_SVD_tc"
      ],
      "execution_count": null,
      "outputs": [
        {
          "output_type": "execute_result",
          "data": {
            "text/html": [
              "<div>\n",
              "<style scoped>\n",
              "    .dataframe tbody tr th:only-of-type {\n",
              "        vertical-align: middle;\n",
              "    }\n",
              "\n",
              "    .dataframe tbody tr th {\n",
              "        vertical-align: top;\n",
              "    }\n",
              "\n",
              "    .dataframe thead th {\n",
              "        text-align: right;\n",
              "    }\n",
              "</style>\n",
              "<table border=\"1\" class=\"dataframe\">\n",
              "  <thead>\n",
              "    <tr style=\"text-align: right;\">\n",
              "      <th></th>\n",
              "      <th>Library</th>\n",
              "      <th>Algorithm</th>\n",
              "      <th>RSME</th>\n",
              "      <th>f1-score</th>\n",
              "    </tr>\n",
              "  </thead>\n",
              "  <tbody>\n",
              "    <tr>\n",
              "      <th>0</th>\n",
              "      <td>Turicreate</td>\n",
              "      <td>SVD</td>\n",
              "      <td>1.088128</td>\n",
              "      <td>0.015329</td>\n",
              "    </tr>\n",
              "  </tbody>\n",
              "</table>\n",
              "</div>"
            ],
            "text/plain": [
              "      Library Algorithm      RSME  f1-score\n",
              "0  Turicreate       SVD  1.088128  0.015329"
            ]
          },
          "metadata": {
            "tags": []
          },
          "execution_count": 39
        }
      ]
    },
    {
      "cell_type": "code",
      "metadata": {
        "id": "IZNiYnoKelDg",
        "colab_type": "code",
        "colab": {
          "base_uri": "https://localhost:8080/",
          "height": 513
        },
        "outputId": "bc12470c-7e34-43b7-a2a1-7496c19ed41d"
      },
      "source": [
        "#Precision-Recall Chart\n",
        "sns.set_style(\"darkgrid\",{\"axes.facecolor\": \".75\"}) \n",
        "ax =precision_recall_df_tcSVD.plot(x='recall', y='precision', legend=False,title='Precision-Recall of SVD Model Turicreate')\n",
        "ax.set_xlabel(\"recall\")\n",
        "ax.set_ylabel(\"precision\")\n",
        "plt.show()"
      ],
      "execution_count": null,
      "outputs": [
        {
          "output_type": "display_data",
          "data": {
            "image/png": "[encoded data removed]",
            "text/plain": [
              "<Figure size 864x576 with 1 Axes>"
            ]
          },
          "metadata": {
            "tags": []
          }
        }
      ]
    },
    {
      "cell_type": "markdown",
      "metadata": {
        "id": "S1vJeMegv-CA",
        "colab_type": "text"
      },
      "source": [
        "# ALS Model Turicreate\n",
        "- After building a Popularity, IBCF & SVD model, we will now build our last model:  ALS \n",
        "- Train ALS and make top 5 recommendations for the first 5 users"
      ]
    },
    {
      "cell_type": "code",
      "metadata": {
        "id": "IXuxViE9kbXt",
        "colab_type": "code",
        "colab": {
          "base_uri": "https://localhost:8080/",
          "height": 1000
        },
        "outputId": "ee464c2c-3435-432b-d34b-68baa2c4be23"
      },
      "source": [
        "als_model  = tc.factorization_recommender.create(train_data, user_id='userId', item_id='movieId', target='rating',solver = 'als')"
      ],
      "execution_count": null,
      "outputs": [
        {
          "output_type": "display_data",
          "data": {
            "text/html": [
              "<pre>Preparing data set.</pre>"
            ],
            "text/plain": [
              "Preparing data set."
            ]
          },
          "metadata": {
            "tags": []
          }
        },
        {
          "output_type": "display_data",
          "data": {
            "text/html": [
              "<pre>    Data has 90570 observations with 943 users and 1675 items.</pre>"
            ],
            "text/plain": [
              "    Data has 90570 observations with 943 users and 1675 items."
            ]
          },
          "metadata": {
            "tags": []
          }
        },
        {
          "output_type": "display_data",
          "data": {
            "text/html": [
              "<pre>    Data prepared in: 0.087363s</pre>"
            ],
            "text/plain": [
              "    Data prepared in: 0.087363s"
            ]
          },
          "metadata": {
            "tags": []
          }
        },
        {
          "output_type": "display_data",
          "data": {
            "text/html": [
              "<pre>Training factorization_recommender for recommendations.</pre>"
            ],
            "text/plain": [
              "Training factorization_recommender for recommendations."
            ]
          },
          "metadata": {
            "tags": []
          }
        },
        {
          "output_type": "display_data",
          "data": {
            "text/html": [
              "<pre>+------------------------------+--------------------------------------------------+----------+</pre>"
            ],
            "text/plain": [
              "+------------------------------+--------------------------------------------------+----------+"
            ]
          },
          "metadata": {
            "tags": []
          }
        },
        {
          "output_type": "display_data",
          "data": {
            "text/html": [
              "<pre>| Parameter                    | Description                                      | Value    |</pre>"
            ],
            "text/plain": [
              "| Parameter                    | Description                                      | Value    |"
            ]
          },
          "metadata": {
            "tags": []
          }
        },
        {
          "output_type": "display_data",
          "data": {
            "text/html": [
              "<pre>+------------------------------+--------------------------------------------------+----------+</pre>"
            ],
            "text/plain": [
              "+------------------------------+--------------------------------------------------+----------+"
            ]
          },
          "metadata": {
            "tags": []
          }
        },
        {
          "output_type": "display_data",
          "data": {
            "text/html": [
              "<pre>| num_factors                  | Factor Dimension                                 | 8        |</pre>"
            ],
            "text/plain": [
              "| num_factors                  | Factor Dimension                                 | 8        |"
            ]
          },
          "metadata": {
            "tags": []
          }
        },
        {
          "output_type": "display_data",
          "data": {
            "text/html": [
              "<pre>| regularization               | L2 Regularization on Factors                     | 1e-08    |</pre>"
            ],
            "text/plain": [
              "| regularization               | L2 Regularization on Factors                     | 1e-08    |"
            ]
          },
          "metadata": {
            "tags": []
          }
        },
        {
          "output_type": "display_data",
          "data": {
            "text/html": [
              "<pre>| max_iterations               | Maximum Number of Iterations                     | 50       |</pre>"
            ],
            "text/plain": [
              "| max_iterations               | Maximum Number of Iterations                     | 50       |"
            ]
          },
          "metadata": {
            "tags": []
          }
        },
        {
          "output_type": "display_data",
          "data": {
            "text/html": [
              "<pre>| solver                       | Solver used for training                         | als      |</pre>"
            ],
            "text/plain": [
              "| solver                       | Solver used for training                         | als      |"
            ]
          },
          "metadata": {
            "tags": []
          }
        },
        {
          "output_type": "display_data",
          "data": {
            "text/html": [
              "<pre>+------------------------------+--------------------------------------------------+----------+</pre>"
            ],
            "text/plain": [
              "+------------------------------+--------------------------------------------------+----------+"
            ]
          },
          "metadata": {
            "tags": []
          }
        },
        {
          "output_type": "display_data",
          "data": {
            "text/html": [
              "<pre>+---------+--------------+------------------------+</pre>"
            ],
            "text/plain": [
              "+---------+--------------+------------------------+"
            ]
          },
          "metadata": {
            "tags": []
          }
        },
        {
          "output_type": "display_data",
          "data": {
            "text/html": [
              "<pre>| Iter.   | Elapsed time | RMSE                   |</pre>"
            ],
            "text/plain": [
              "| Iter.   | Elapsed time | RMSE                   |"
            ]
          },
          "metadata": {
            "tags": []
          }
        },
        {
          "output_type": "display_data",
          "data": {
            "text/html": [
              "<pre>+---------+--------------+------------------------+</pre>"
            ],
            "text/plain": [
              "+---------+--------------+------------------------+"
            ]
          },
          "metadata": {
            "tags": []
          }
        },
        {
          "output_type": "display_data",
          "data": {
            "text/html": [
              "<pre>| Initial | 54us         | NA                     |</pre>"
            ],
            "text/plain": [
              "| Initial | 54us         | NA                     |"
            ]
          },
          "metadata": {
            "tags": []
          }
        },
        {
          "output_type": "display_data",
          "data": {
            "text/html": [
              "<pre>+---------+--------------+------------------------+</pre>"
            ],
            "text/plain": [
              "+---------+--------------+------------------------+"
            ]
          },
          "metadata": {
            "tags": []
          }
        },
        {
          "output_type": "display_data",
          "data": {
            "text/html": [
              "<pre>| 0       | 71.624ms     | 0.943955               |</pre>"
            ],
            "text/plain": [
              "| 0       | 71.624ms     | 0.943955               |"
            ]
          },
          "metadata": {
            "tags": []
          }
        },
        {
          "output_type": "display_data",
          "data": {
            "text/html": [
              "<pre>| 1       | 139.786ms    | 0.792234               |</pre>"
            ],
            "text/plain": [
              "| 1       | 139.786ms    | 0.792234               |"
            ]
          },
          "metadata": {
            "tags": []
          }
        },
        {
          "output_type": "display_data",
          "data": {
            "text/html": [
              "<pre>| 2       | 208.712ms    | 0.760631               |</pre>"
            ],
            "text/plain": [
              "| 2       | 208.712ms    | 0.760631               |"
            ]
          },
          "metadata": {
            "tags": []
          }
        },
        {
          "output_type": "display_data",
          "data": {
            "text/html": [
              "<pre>| 3       | 262.665ms    | 0.747184               |</pre>"
            ],
            "text/plain": [
              "| 3       | 262.665ms    | 0.747184               |"
            ]
          },
          "metadata": {
            "tags": []
          }
        },
        {
          "output_type": "display_data",
          "data": {
            "text/html": [
              "<pre>| 4       | 307.397ms    | 0.73956                |</pre>"
            ],
            "text/plain": [
              "| 4       | 307.397ms    | 0.73956                |"
            ]
          },
          "metadata": {
            "tags": []
          }
        },
        {
          "output_type": "display_data",
          "data": {
            "text/html": [
              "<pre>| 5       | 354.802ms    | 0.734478               |</pre>"
            ],
            "text/plain": [
              "| 5       | 354.802ms    | 0.734478               |"
            ]
          },
          "metadata": {
            "tags": []
          }
        },
        {
          "output_type": "display_data",
          "data": {
            "text/html": [
              "<pre>| 6       | 402.24ms     | 0.730752               |</pre>"
            ],
            "text/plain": [
              "| 6       | 402.24ms     | 0.730752               |"
            ]
          },
          "metadata": {
            "tags": []
          }
        },
        {
          "output_type": "display_data",
          "data": {
            "text/html": [
              "<pre>| 7       | 434.155ms    | 0.727889               |</pre>"
            ],
            "text/plain": [
              "| 7       | 434.155ms    | 0.727889               |"
            ]
          },
          "metadata": {
            "tags": []
          }
        },
        {
          "output_type": "display_data",
          "data": {
            "text/html": [
              "<pre>| 8       | 469.098ms    | 0.725601               |</pre>"
            ],
            "text/plain": [
              "| 8       | 469.098ms    | 0.725601               |"
            ]
          },
          "metadata": {
            "tags": []
          }
        },
        {
          "output_type": "display_data",
          "data": {
            "text/html": [
              "<pre>| 9       | 505.919ms    | 0.723673               |</pre>"
            ],
            "text/plain": [
              "| 9       | 505.919ms    | 0.723673               |"
            ]
          },
          "metadata": {
            "tags": []
          }
        },
        {
          "output_type": "display_data",
          "data": {
            "text/html": [
              "<pre>| 10      | 537.13ms     | 0.722036               |</pre>"
            ],
            "text/plain": [
              "| 10      | 537.13ms     | 0.722036               |"
            ]
          },
          "metadata": {
            "tags": []
          }
        },
        {
          "output_type": "display_data",
          "data": {
            "text/html": [
              "<pre>| 11      | 578.979ms    | 0.720659               |</pre>"
            ],
            "text/plain": [
              "| 11      | 578.979ms    | 0.720659               |"
            ]
          },
          "metadata": {
            "tags": []
          }
        },
        {
          "output_type": "display_data",
          "data": {
            "text/html": [
              "<pre>| 12      | 625.263ms    | 0.719499               |</pre>"
            ],
            "text/plain": [
              "| 12      | 625.263ms    | 0.719499               |"
            ]
          },
          "metadata": {
            "tags": []
          }
        },
        {
          "output_type": "display_data",
          "data": {
            "text/html": [
              "<pre>| 13      | 651.588ms    | 0.71851                |</pre>"
            ],
            "text/plain": [
              "| 13      | 651.588ms    | 0.71851                |"
            ]
          },
          "metadata": {
            "tags": []
          }
        },
        {
          "output_type": "display_data",
          "data": {
            "text/html": [
              "<pre>| 14      | 669.917ms    | 0.717653               |</pre>"
            ],
            "text/plain": [
              "| 14      | 669.917ms    | 0.717653               |"
            ]
          },
          "metadata": {
            "tags": []
          }
        },
        {
          "output_type": "display_data",
          "data": {
            "text/html": [
              "<pre>| 15      | 689.349ms    | 0.716921               |</pre>"
            ],
            "text/plain": [
              "| 15      | 689.349ms    | 0.716921               |"
            ]
          },
          "metadata": {
            "tags": []
          }
        },
        {
          "output_type": "display_data",
          "data": {
            "text/html": [
              "<pre>| 16      | 718.577ms    | 0.716286               |</pre>"
            ],
            "text/plain": [
              "| 16      | 718.577ms    | 0.716286               |"
            ]
          },
          "metadata": {
            "tags": []
          }
        },
        {
          "output_type": "display_data",
          "data": {
            "text/html": [
              "<pre>| 17      | 745.702ms    | 0.715729               |</pre>"
            ],
            "text/plain": [
              "| 17      | 745.702ms    | 0.715729               |"
            ]
          },
          "metadata": {
            "tags": []
          }
        },
        {
          "output_type": "display_data",
          "data": {
            "text/html": [
              "<pre>| 18      | 763.246ms    | 0.715237               |</pre>"
            ],
            "text/plain": [
              "| 18      | 763.246ms    | 0.715237               |"
            ]
          },
          "metadata": {
            "tags": []
          }
        },
        {
          "output_type": "display_data",
          "data": {
            "text/html": [
              "<pre>| 19      | 778.555ms    | 0.714802               |</pre>"
            ],
            "text/plain": [
              "| 19      | 778.555ms    | 0.714802               |"
            ]
          },
          "metadata": {
            "tags": []
          }
        },
        {
          "output_type": "display_data",
          "data": {
            "text/html": [
              "<pre>| 20      | 793.371ms    | 0.714415               |</pre>"
            ],
            "text/plain": [
              "| 20      | 793.371ms    | 0.714415               |"
            ]
          },
          "metadata": {
            "tags": []
          }
        },
        {
          "output_type": "display_data",
          "data": {
            "text/html": [
              "<pre>| 21      | 827.326ms    | 0.714062               |</pre>"
            ],
            "text/plain": [
              "| 21      | 827.326ms    | 0.714062               |"
            ]
          },
          "metadata": {
            "tags": []
          }
        },
        {
          "output_type": "display_data",
          "data": {
            "text/html": [
              "<pre>| 22      | 868.86ms     | 0.71371                |</pre>"
            ],
            "text/plain": [
              "| 22      | 868.86ms     | 0.71371                |"
            ]
          },
          "metadata": {
            "tags": []
          }
        },
        {
          "output_type": "display_data",
          "data": {
            "text/html": [
              "<pre>| 23      | 921.179ms    | 0.713405               |</pre>"
            ],
            "text/plain": [
              "| 23      | 921.179ms    | 0.713405               |"
            ]
          },
          "metadata": {
            "tags": []
          }
        },
        {
          "output_type": "display_data",
          "data": {
            "text/html": [
              "<pre>| 24      | 944.19ms     | 0.713127               |</pre>"
            ],
            "text/plain": [
              "| 24      | 944.19ms     | 0.713127               |"
            ]
          },
          "metadata": {
            "tags": []
          }
        },
        {
          "output_type": "display_data",
          "data": {
            "text/html": [
              "<pre>| 25      | 962.53ms     | 0.712869               |</pre>"
            ],
            "text/plain": [
              "| 25      | 962.53ms     | 0.712869               |"
            ]
          },
          "metadata": {
            "tags": []
          }
        },
        {
          "output_type": "display_data",
          "data": {
            "text/html": [
              "<pre>| 26      | 978.275ms    | 0.712624               |</pre>"
            ],
            "text/plain": [
              "| 26      | 978.275ms    | 0.712624               |"
            ]
          },
          "metadata": {
            "tags": []
          }
        },
        {
          "output_type": "display_data",
          "data": {
            "text/html": [
              "<pre>| 27      | 1.03s        | 0.712394               |</pre>"
            ],
            "text/plain": [
              "| 27      | 1.03s        | 0.712394               |"
            ]
          },
          "metadata": {
            "tags": []
          }
        },
        {
          "output_type": "display_data",
          "data": {
            "text/html": [
              "<pre>| 28      | 1.07s        | 0.712175               |</pre>"
            ],
            "text/plain": [
              "| 28      | 1.07s        | 0.712175               |"
            ]
          },
          "metadata": {
            "tags": []
          }
        },
        {
          "output_type": "display_data",
          "data": {
            "text/html": [
              "<pre>| 29      | 1.10s        | 0.711962               |</pre>"
            ],
            "text/plain": [
              "| 29      | 1.10s        | 0.711962               |"
            ]
          },
          "metadata": {
            "tags": []
          }
        },
        {
          "output_type": "display_data",
          "data": {
            "text/html": [
              "<pre>| 30      | 1.12s        | 0.711745               |</pre>"
            ],
            "text/plain": [
              "| 30      | 1.12s        | 0.711745               |"
            ]
          },
          "metadata": {
            "tags": []
          }
        },
        {
          "output_type": "display_data",
          "data": {
            "text/html": [
              "<pre>| 31      | 1.14s        | 0.711555               |</pre>"
            ],
            "text/plain": [
              "| 31      | 1.14s        | 0.711555               |"
            ]
          },
          "metadata": {
            "tags": []
          }
        },
        {
          "output_type": "display_data",
          "data": {
            "text/html": [
              "<pre>| 32      | 1.16s        | 0.711376               |</pre>"
            ],
            "text/plain": [
              "| 32      | 1.16s        | 0.711376               |"
            ]
          },
          "metadata": {
            "tags": []
          }
        },
        {
          "output_type": "display_data",
          "data": {
            "text/html": [
              "<pre>| 33      | 1.18s        | 0.711209               |</pre>"
            ],
            "text/plain": [
              "| 33      | 1.18s        | 0.711209               |"
            ]
          },
          "metadata": {
            "tags": []
          }
        },
        {
          "output_type": "display_data",
          "data": {
            "text/html": [
              "<pre>| 34      | 1.21s        | 0.711052               |</pre>"
            ],
            "text/plain": [
              "| 34      | 1.21s        | 0.711052               |"
            ]
          },
          "metadata": {
            "tags": []
          }
        },
        {
          "output_type": "display_data",
          "data": {
            "text/html": [
              "<pre>| 35      | 1.23s        | 0.710903               |</pre>"
            ],
            "text/plain": [
              "| 35      | 1.23s        | 0.710903               |"
            ]
          },
          "metadata": {
            "tags": []
          }
        },
        {
          "output_type": "display_data",
          "data": {
            "text/html": [
              "<pre>| 36      | 1.25s        | 0.71076                |</pre>"
            ],
            "text/plain": [
              "| 36      | 1.25s        | 0.71076                |"
            ]
          },
          "metadata": {
            "tags": []
          }
        },
        {
          "output_type": "display_data",
          "data": {
            "text/html": [
              "<pre>| 37      | 1.28s        | 0.710623               |</pre>"
            ],
            "text/plain": [
              "| 37      | 1.28s        | 0.710623               |"
            ]
          },
          "metadata": {
            "tags": []
          }
        },
        {
          "output_type": "display_data",
          "data": {
            "text/html": [
              "<pre>| 38      | 1.29s        | 0.710491               |</pre>"
            ],
            "text/plain": [
              "| 38      | 1.29s        | 0.710491               |"
            ]
          },
          "metadata": {
            "tags": []
          }
        },
        {
          "output_type": "display_data",
          "data": {
            "text/html": [
              "<pre>| 39      | 1.32s        | 0.710363               |</pre>"
            ],
            "text/plain": [
              "| 39      | 1.32s        | 0.710363               |"
            ]
          },
          "metadata": {
            "tags": []
          }
        },
        {
          "output_type": "display_data",
          "data": {
            "text/html": [
              "<pre>| 40      | 1.34s        | 0.710238               |</pre>"
            ],
            "text/plain": [
              "| 40      | 1.34s        | 0.710238               |"
            ]
          },
          "metadata": {
            "tags": []
          }
        },
        {
          "output_type": "display_data",
          "data": {
            "text/html": [
              "<pre>| 41      | 1.38s        | 0.710117               |</pre>"
            ],
            "text/plain": [
              "| 41      | 1.38s        | 0.710117               |"
            ]
          },
          "metadata": {
            "tags": []
          }
        },
        {
          "output_type": "display_data",
          "data": {
            "text/html": [
              "<pre>| 42      | 1.41s        | 0.709998               |</pre>"
            ],
            "text/plain": [
              "| 42      | 1.41s        | 0.709998               |"
            ]
          },
          "metadata": {
            "tags": []
          }
        },
        {
          "output_type": "display_data",
          "data": {
            "text/html": [
              "<pre>| 43      | 1.46s        | 0.709884               |</pre>"
            ],
            "text/plain": [
              "| 43      | 1.46s        | 0.709884               |"
            ]
          },
          "metadata": {
            "tags": []
          }
        },
        {
          "output_type": "display_data",
          "data": {
            "text/html": [
              "<pre>| 44      | 1.48s        | 0.709774               |</pre>"
            ],
            "text/plain": [
              "| 44      | 1.48s        | 0.709774               |"
            ]
          },
          "metadata": {
            "tags": []
          }
        },
        {
          "output_type": "display_data",
          "data": {
            "text/html": [
              "<pre>| 45      | 1.50s        | 0.709669               |</pre>"
            ],
            "text/plain": [
              "| 45      | 1.50s        | 0.709669               |"
            ]
          },
          "metadata": {
            "tags": []
          }
        },
        {
          "output_type": "display_data",
          "data": {
            "text/html": [
              "<pre>| 46      | 1.52s        | 0.709568               |</pre>"
            ],
            "text/plain": [
              "| 46      | 1.52s        | 0.709568               |"
            ]
          },
          "metadata": {
            "tags": []
          }
        },
        {
          "output_type": "display_data",
          "data": {
            "text/html": [
              "<pre>| 47      | 1.54s        | 0.709472               |</pre>"
            ],
            "text/plain": [
              "| 47      | 1.54s        | 0.709472               |"
            ]
          },
          "metadata": {
            "tags": []
          }
        },
        {
          "output_type": "display_data",
          "data": {
            "text/html": [
              "<pre>| 48      | 1.59s        | 0.70938                |</pre>"
            ],
            "text/plain": [
              "| 48      | 1.59s        | 0.70938                |"
            ]
          },
          "metadata": {
            "tags": []
          }
        },
        {
          "output_type": "display_data",
          "data": {
            "text/html": [
              "<pre>| 49      | 1.60s        | 0.709292               |</pre>"
            ],
            "text/plain": [
              "| 49      | 1.60s        | 0.709292               |"
            ]
          },
          "metadata": {
            "tags": []
          }
        },
        {
          "output_type": "display_data",
          "data": {
            "text/html": [
              "<pre>| FINAL   | 1.60s        | 0.709292               |</pre>"
            ],
            "text/plain": [
              "| FINAL   | 1.60s        | 0.709292               |"
            ]
          },
          "metadata": {
            "tags": []
          }
        },
        {
          "output_type": "display_data",
          "data": {
            "text/html": [
              "<pre>+---------+--------------+------------------------+</pre>"
            ],
            "text/plain": [
              "+---------+--------------+------------------------+"
            ]
          },
          "metadata": {
            "tags": []
          }
        },
        {
          "output_type": "display_data",
          "data": {
            "text/html": [
              "<pre>Optimization Complete: Iteration limit reached.</pre>"
            ],
            "text/plain": [
              "Optimization Complete: Iteration limit reached."
            ]
          },
          "metadata": {
            "tags": []
          }
        }
      ]
    },
    {
      "cell_type": "code",
      "metadata": {
        "id": "V7z-3TYyPJFY",
        "colab_type": "code",
        "colab": {
          "base_uri": "https://localhost:8080/",
          "height": 958
        },
        "outputId": "2ca08035-1ecb-410e-bd7f-c36ffaacd39b"
      },
      "source": [
        "#Evaluating ALS\n",
        "eval_als_tc= als_model.evaluate(test_data)"
      ],
      "execution_count": null,
      "outputs": [
        {
          "output_type": "stream",
          "text": [
            "\n",
            "Precision and recall summary statistics by cutoff\n",
            "+--------+-----------------------+------------------------+\n",
            "| cutoff |     mean_precision    |      mean_recall       |\n",
            "+--------+-----------------------+------------------------+\n",
            "|   1    | 0.0010604453870625666 | 0.00010604453870625658 |\n",
            "|   2    | 0.0010604453870625666 | 0.00021208907741251327 |\n",
            "|   3    |  0.001060445387062566 | 0.00031813361611876984 |\n",
            "|   4    |  0.001060445387062567 | 0.0004241781548250264  |\n",
            "|   5    | 0.0008483563096500532 | 0.0004241781548250266  |\n",
            "|   6    | 0.0010604453870625662 | 0.0006362672322375399  |\n",
            "|   7    | 0.0012119375852143617 | 0.0008483563096500531  |\n",
            "|   8    |  0.001193001060445386 | 0.0009544008483563108  |\n",
            "|   9    | 0.0011782726522917408 | 0.0010604453870625666  |\n",
            "|   10   |  0.001166489925768823 |  0.001166489925768823  |\n",
            "+--------+-----------------------+------------------------+\n",
            "[10 rows x 3 columns]\n",
            "\n",
            "\n",
            "Overall RMSE: 2.77291542360188\n",
            "\n",
            "Per User RMSE (best)\n",
            "+--------+--------------------+-------+\n",
            "| userId |        rmse        | count |\n",
            "+--------+--------------------+-------+\n",
            "|  291   | 0.2730506338545986 |   10  |\n",
            "+--------+--------------------+-------+\n",
            "[1 rows x 3 columns]\n",
            "\n",
            "\n",
            "Per User RMSE (worst)\n",
            "+--------+--------------------+-------+\n",
            "| userId |        rmse        | count |\n",
            "+--------+--------------------+-------+\n",
            "|  731   | 34.758986454101226 |   10  |\n",
            "+--------+--------------------+-------+\n",
            "[1 rows x 3 columns]\n",
            "\n",
            "\n",
            "Per Item RMSE (best)\n",
            "+---------+-----------------------+-------+\n",
            "| movieId |          rmse         | count |\n",
            "+---------+-----------------------+-------+\n",
            "|   1109  | 0.0012362009828512655 |   1   |\n",
            "+---------+-----------------------+-------+\n",
            "[1 rows x 3 columns]\n",
            "\n",
            "\n",
            "Per Item RMSE (worst)\n",
            "+---------+-------------------+-------+\n",
            "| movieId |        rmse       | count |\n",
            "+---------+-------------------+-------+\n",
            "|   1503  | 108.0179876082594 |   1   |\n",
            "+---------+-------------------+-------+\n",
            "[1 rows x 3 columns]\n",
            "\n"
          ],
          "name": "stdout"
        }
      ]
    },
    {
      "cell_type": "markdown",
      "metadata": {
        "id": "daxKkSGLgX1G",
        "colab_type": "text"
      },
      "source": [
        "#Summary of ALS Model Turicreate"
      ]
    },
    {
      "cell_type": "code",
      "metadata": {
        "id": "bT0ZQPvGIGNl",
        "colab_type": "code",
        "colab": {
          "base_uri": "https://localhost:8080/",
          "height": 77
        },
        "outputId": "9b58abf7-f492-4519-8cb6-4301b8e8b36c"
      },
      "source": [
        "rsme_als_tc=eval_als_tc['rmse_overall']\n",
        "precision_recall_df_tcals=pd.DataFrame(eval_als_tc['precision_recall_overall']) #converting to Dataframe\n",
        "precision_recall_df_tcals['f1-score'] = 2*(precision_recall_df_tcals['precision'] * precision_recall_df_tcals['recall'])/(precision_recall_df_tcals['precision'] + precision_recall_df_tcals['recall'])#calculating an f1-score\n",
        "f1_score_als_tc=precision_recall_df_tcals[['f1-score']].mean(axis=0)*1 #scale to full percentage value\n",
        "f1_score_als_tc_als=f1_score_als_tc.mean()\n",
        "# initialize list of lists \n",
        "data_als_tc = [['Turicreate', 'ALS', rsme_als_tc,f1_score_als_tc_als]] \n",
        "# Create the summary table\n",
        "summary_df_als_tc = pd.DataFrame(data_als_tc, columns = ['Library', 'Algorithm','RSME','f1-score'])   \n",
        "# print summary \n",
        "summary_df_als_tc\n"
      ],
      "execution_count": null,
      "outputs": [
        {
          "output_type": "execute_result",
          "data": {
            "text/html": [
              "<div>\n",
              "<style scoped>\n",
              "    .dataframe tbody tr th:only-of-type {\n",
              "        vertical-align: middle;\n",
              "    }\n",
              "\n",
              "    .dataframe tbody tr th {\n",
              "        vertical-align: top;\n",
              "    }\n",
              "\n",
              "    .dataframe thead th {\n",
              "        text-align: right;\n",
              "    }\n",
              "</style>\n",
              "<table border=\"1\" class=\"dataframe\">\n",
              "  <thead>\n",
              "    <tr style=\"text-align: right;\">\n",
              "      <th></th>\n",
              "      <th>Library</th>\n",
              "      <th>Algorithm</th>\n",
              "      <th>RSME</th>\n",
              "      <th>f1-score</th>\n",
              "    </tr>\n",
              "  </thead>\n",
              "  <tbody>\n",
              "    <tr>\n",
              "      <th>0</th>\n",
              "      <td>Turicreate</td>\n",
              "      <td>ALS</td>\n",
              "      <td>2.772915</td>\n",
              "      <td>0.001028</td>\n",
              "    </tr>\n",
              "  </tbody>\n",
              "</table>\n",
              "</div>"
            ],
            "text/plain": [
              "      Library Algorithm      RSME  f1-score\n",
              "0  Turicreate       ALS  2.772915  0.001028"
            ]
          },
          "metadata": {
            "tags": []
          },
          "execution_count": 43
        }
      ]
    },
    {
      "cell_type": "code",
      "metadata": {
        "id": "UGu1bAVdIGf6",
        "colab_type": "code",
        "colab": {
          "base_uri": "https://localhost:8080/",
          "height": 513
        },
        "outputId": "d75c3fd3-4a9d-40d8-d1da-c667bd1d318f"
      },
      "source": [
        "#Precision-Recall Chart\n",
        "sns.set_style(\"darkgrid\",{\"axes.facecolor\": \".75\"}) \n",
        "ax =precision_recall_df_tcals.plot(x='recall', y='precision', legend=False,title='Precision-Recall of ALS Model Turicreate')\n",
        "ax.set_xlabel(\"recall\")\n",
        "ax.set_ylabel(\"precision\")\n",
        "plt.show()"
      ],
      "execution_count": null,
      "outputs": [
        {
          "output_type": "display_data",
          "data": {
            "image/png": "[encoded data removed]",
            "text/plain": [
              "<Figure size 864x576 with 1 Axes>"
            ]
          },
          "metadata": {
            "tags": []
          }
        }
      ]
    },
    {
      "cell_type": "markdown",
      "metadata": {
        "id": "jk0NSVdWwcyu",
        "colab_type": "text"
      },
      "source": [
        "# (2) The Surprise Library\n",
        " \n",
        "- RSME will be the accuracy metric across all models\n",
        "- The Best RSME will be used for further evaluation & recommendation purposes"
      ]
    },
    {
      "cell_type": "code",
      "metadata": {
        "id": "lu2ZvlRZxzGB",
        "colab_type": "code",
        "colab": {}
      },
      "source": [
        "#!pip3 install surprise\n",
        "import surprise\n",
        "from surprise import SVD, KNNBaseline, KNNBasic, KNNWithMeans, KNNWithZScore, BaselineOnly\n",
        "from sklearn.metrics.pairwise import cosine_similarity\n",
        "from sklearn.metrics import mean_squared_error\n",
        "from math import sqrt\n",
        "from sklearn.metrics.pairwise import pairwise_distances \n",
        "from surprise.model_selection import cross_validate,KFold\n",
        "from surprise import accuracy\n",
        "from surprise import Reader, Dataset\n",
        "from surprise.model_selection import train_test_split\n",
        "import time\n",
        "import os\n"
      ],
      "execution_count": null,
      "outputs": []
    },
    {
      "cell_type": "code",
      "metadata": {
        "id": "r-kinW7qLexH",
        "colab_type": "code",
        "colab": {}
      },
      "source": [
        "# Surprise needs df() method & a Reader object to load a dataset from a pandas dataframe\n",
        "reader = Reader()\n",
        "data_surprise = Dataset.load_from_df(df[['userId', 'movieId', 'rating']], reader)"
      ],
      "execution_count": null,
      "outputs": []
    },
    {
      "cell_type": "markdown",
      "metadata": {
        "id": "ylM9ZHn_GmLN",
        "colab_type": "text"
      },
      "source": [
        "# Iterating over all the common Models in Surprise Package\n",
        "- Model with best RSME will be train for prediction using ALS"
      ]
    },
    {
      "cell_type": "code",
      "metadata": {
        "id": "D3QyQapD8Rpc",
        "colab_type": "code",
        "colab": {
          "base_uri": "https://localhost:8080/",
          "height": 420
        },
        "outputId": "7b79cdc2-27b8-47ed-84fc-438e7bb0a3a5"
      },
      "source": [
        "benchmark = []\n",
        "# Iterate over all algorithms\n",
        "for algorithm in [SVD(), KNNBasic(), KNNWithMeans(), BaselineOnly(),KNNBaseline()]:\n",
        "    # Perform cross validation\n",
        "    results = cross_validate(algorithm, data_surprise, measures=['RMSE'], cv=3, verbose=False)\n",
        "     # Get results & append algorithm name\n",
        "    tmp = pd.DataFrame.from_dict(results).mean(axis=0)\n",
        "    tmp = tmp.append(pd.Series([str(algorithm).split(' ')[0].split('.')[-1]], index=['Algorithm']))\n",
        "    benchmark.append(tmp)"
      ],
      "execution_count": null,
      "outputs": [
        {
          "output_type": "stream",
          "text": [
            "Computing the msd similarity matrix...\n",
            "Done computing similarity matrix.\n",
            "Computing the msd similarity matrix...\n",
            "Done computing similarity matrix.\n",
            "Computing the msd similarity matrix...\n",
            "Done computing similarity matrix.\n",
            "Computing the msd similarity matrix...\n",
            "Done computing similarity matrix.\n",
            "Computing the msd similarity matrix...\n",
            "Done computing similarity matrix.\n",
            "Computing the msd similarity matrix...\n",
            "Done computing similarity matrix.\n",
            "Estimating biases using als...\n",
            "Estimating biases using als...\n",
            "Estimating biases using als...\n",
            "Estimating biases using als...\n",
            "Computing the msd similarity matrix...\n",
            "Done computing similarity matrix.\n",
            "Estimating biases using als...\n",
            "Computing the msd similarity matrix...\n",
            "Done computing similarity matrix.\n",
            "Estimating biases using als...\n",
            "Computing the msd similarity matrix...\n",
            "Done computing similarity matrix.\n"
          ],
          "name": "stdout"
        }
      ]
    },
    {
      "cell_type": "code",
      "metadata": {
        "id": "ib11EWhiQRbL",
        "colab_type": "code",
        "colab": {
          "base_uri": "https://localhost:8080/",
          "height": 225
        },
        "outputId": "0e652456-97d9-4729-ff89-67508649c99e"
      },
      "source": [
        "#Benchmarking the best RSMEs\n",
        "benchmark_surprise =pd.DataFrame(benchmark).set_index('Algorithm').sort_values('test_rmse')\n",
        "benchmark_surprise_df= benchmark_surprise .rename_axis(index='Algorithm', columns=\"Surprise Library\")\n",
        "benchmark_surprise_df\n"
      ],
      "execution_count": null,
      "outputs": [
        {
          "output_type": "execute_result",
          "data": {
            "text/html": [
              "<div>\n",
              "<style scoped>\n",
              "    .dataframe tbody tr th:only-of-type {\n",
              "        vertical-align: middle;\n",
              "    }\n",
              "\n",
              "    .dataframe tbody tr th {\n",
              "        vertical-align: top;\n",
              "    }\n",
              "\n",
              "    .dataframe thead th {\n",
              "        text-align: right;\n",
              "    }\n",
              "</style>\n",
              "<table border=\"1\" class=\"dataframe\">\n",
              "  <thead>\n",
              "    <tr style=\"text-align: right;\">\n",
              "      <th>Surprise Library</th>\n",
              "      <th>test_rmse</th>\n",
              "      <th>fit_time</th>\n",
              "      <th>test_time</th>\n",
              "    </tr>\n",
              "    <tr>\n",
              "      <th>Algorithm</th>\n",
              "      <th></th>\n",
              "      <th></th>\n",
              "      <th></th>\n",
              "    </tr>\n",
              "  </thead>\n",
              "  <tbody>\n",
              "    <tr>\n",
              "      <th>SVD</th>\n",
              "      <td>0.845517</td>\n",
              "      <td>38.652363</td>\n",
              "      <td>3.749910</td>\n",
              "    </tr>\n",
              "    <tr>\n",
              "      <th>KNNBaseline</th>\n",
              "      <td>0.858729</td>\n",
              "      <td>24.321308</td>\n",
              "      <td>150.330441</td>\n",
              "    </tr>\n",
              "    <tr>\n",
              "      <th>BaselineOnly</th>\n",
              "      <td>0.867356</td>\n",
              "      <td>3.711752</td>\n",
              "      <td>3.578935</td>\n",
              "    </tr>\n",
              "    <tr>\n",
              "      <th>KNNWithMeans</th>\n",
              "      <td>0.882348</td>\n",
              "      <td>21.857745</td>\n",
              "      <td>144.011021</td>\n",
              "    </tr>\n",
              "    <tr>\n",
              "      <th>KNNBasic</th>\n",
              "      <td>0.911056</td>\n",
              "      <td>22.009556</td>\n",
              "      <td>140.372704</td>\n",
              "    </tr>\n",
              "  </tbody>\n",
              "</table>\n",
              "</div>"
            ],
            "text/plain": [
              "Surprise Library  test_rmse   fit_time   test_time\n",
              "Algorithm                                         \n",
              "SVD                0.845517  38.652363    3.749910\n",
              "KNNBaseline        0.858729  24.321308  150.330441\n",
              "BaselineOnly       0.867356   3.711752    3.578935\n",
              "KNNWithMeans       0.882348  21.857745  144.011021\n",
              "KNNBasic           0.911056  22.009556  140.372704"
            ]
          },
          "metadata": {
            "tags": []
          },
          "execution_count": 72
        }
      ]
    },
    {
      "cell_type": "markdown",
      "metadata": {
        "id": "W_MM8KsDUDlZ",
        "colab_type": "text"
      },
      "source": [
        "# Train and Predict Surprise Algorithm\n",
        "\n",
        "- SVD model had the best RSME, therefore, we will train and predict with this\n",
        "model using Stochastic Gradient Descent Method (SGD) to get better RSME?\n",
        "- Note: Could not re-use Turicreate's Train/Test split data sets in Surprise because the set-up is different in this particular package\n",
        "- Using a 10% test size to mimic closely to the Turicreate's Train/Test split Schema ratio"
      ]
    },
    {
      "cell_type": "code",
      "metadata": {
        "id": "oqlPrpjRFTto",
        "colab_type": "code",
        "colab": {
          "base_uri": "https://localhost:8080/",
          "height": 538
        },
        "outputId": "7062a673-ffcb-4df9-8f07-4eb1577f82fa"
      },
      "source": [
        "#Creating training and test data sets in Surprise\n",
        "trainset, testset = train_test_split(data_surprise , test_size=0.10)\n",
        "\n",
        "#SVD Model Surprise\n",
        "algo = SVD(random_state=0, n_factors=200, n_epochs=30, verbose=True)\n",
        "\n",
        "start_time = time.time()\n",
        "algo.fit(trainset);\n",
        "\n",
        "train_time = time.time() - start_time\n",
        "print(\"Took {} seconds for training.\".format(train_time))\n"
      ],
      "execution_count": null,
      "outputs": [
        {
          "output_type": "stream",
          "text": [
            "Processing epoch 0\n",
            "Processing epoch 1\n",
            "Processing epoch 2\n",
            "Processing epoch 3\n",
            "Processing epoch 4\n",
            "Processing epoch 5\n",
            "Processing epoch 6\n",
            "Processing epoch 7\n",
            "Processing epoch 8\n",
            "Processing epoch 9\n",
            "Processing epoch 10\n",
            "Processing epoch 11\n",
            "Processing epoch 12\n",
            "Processing epoch 13\n",
            "Processing epoch 14\n",
            "Processing epoch 15\n",
            "Processing epoch 16\n",
            "Processing epoch 17\n",
            "Processing epoch 18\n",
            "Processing epoch 19\n",
            "Processing epoch 20\n",
            "Processing epoch 21\n",
            "Processing epoch 22\n",
            "Processing epoch 23\n",
            "Processing epoch 24\n",
            "Processing epoch 25\n",
            "Processing epoch 26\n",
            "Processing epoch 27\n",
            "Processing epoch 28\n",
            "Processing epoch 29\n",
            "Took 132.55686235427856 seconds for training.\n"
          ],
          "name": "stdout"
        }
      ]
    },
    {
      "cell_type": "code",
      "metadata": {
        "id": "8ELJgRtMFTr6",
        "colab_type": "code",
        "colab": {}
      },
      "source": [
        "#Making prediction in Surprise\n",
        "predictions = algo.test(testset)\n",
        "predictions[0:5] #raw output of predictions from Surprise package"
      ],
      "execution_count": null,
      "outputs": []
    },
    {
      "cell_type": "code",
      "metadata": {
        "id": "CptoivBcFTlI",
        "colab_type": "code",
        "colab": {
          "base_uri": "https://localhost:8080/",
          "height": 50
        },
        "outputId": "123aa2b2-be97-4de7-a4b2-87ea26441d2f"
      },
      "source": [
        "#Evaluating accuracy in Surprise\n",
        "accuracy.rmse(predictions)"
      ],
      "execution_count": null,
      "outputs": [
        {
          "output_type": "stream",
          "text": [
            "RMSE: 0.8306\n"
          ],
          "name": "stdout"
        },
        {
          "output_type": "execute_result",
          "data": {
            "text/plain": [
              "0.8305930742862689"
            ]
          },
          "metadata": {
            "tags": []
          },
          "execution_count": 75
        }
      ]
    },
    {
      "cell_type": "markdown",
      "metadata": {
        "id": "dibbScIGDYku",
        "colab_type": "text"
      },
      "source": [
        "- Stochastic Gradient Descent Method (SGD) did not improve the SVD Surpise model significantly even after increasing the n-factors & iterations (epochs)"
      ]
    },
    {
      "cell_type": "markdown",
      "metadata": {
        "id": "YEBYxIHfU1Z_",
        "colab_type": "text"
      },
      "source": [
        "# Building collaborative filtering models from scratch: IBCF & UBCF\n",
        "\n",
        "- These *Home made* Item-based & User based collaborative filtering recipes were inspired from the following blogs:\n",
        "\n",
        "1) https://blog.cambridgespark.com/nowadays-recommender-systems-are-used-to-personalize-your-experience-on-the-web-telling-you-what-120f39b89c3c\n",
        "\n",
        "2) https://medium.com/sfu-cspmp/recommendation-systems-user-based-collaborative-filtering-using-n-nearest-neighbors-bf7361dc24e0"
      ]
    },
    {
      "cell_type": "code",
      "metadata": {
        "id": "nFtaAZr-S0Tn",
        "colab_type": "code",
        "colab": {}
      },
      "source": [
        "#calculate the number of unique users and movies from original ratings matrix\n",
        "n_users = df.userId.unique().shape[0]\n",
        "n_items = df.movieId.unique().shape[0]"
      ],
      "execution_count": null,
      "outputs": []
    },
    {
      "cell_type": "code",
      "metadata": {
        "id": "EgmcKsSSS598",
        "colab_type": "code",
        "colab": {}
      },
      "source": [
        "#create 2 user item matrices of type np arrays for training and for testing\n",
        "train_data_matrix = np.zeros((n_users, n_items))\n",
        "for line in ratings_train.itertuples():\n",
        "    train_data_matrix[line[1]-1, line[2]-1] = line[3]\n",
        "\n",
        "test_data_matrix = np.zeros((n_users, n_items))\n",
        "for line in ratings_test.itertuples():\n",
        "    test_data_matrix[line[1]-1, line[2]-1] = line[3]"
      ],
      "execution_count": null,
      "outputs": []
    },
    {
      "cell_type": "code",
      "metadata": {
        "id": "H0obA-llS58H",
        "colab_type": "code",
        "colab": {}
      },
      "source": [
        "#Calculate Cosine Similarity\n",
        "user_similarity = pairwise_distances(train_data_matrix, metric='cosine')\n",
        "item_similarity = pairwise_distances(train_data_matrix.T, metric='cosine')"
      ],
      "execution_count": null,
      "outputs": []
    },
    {
      "cell_type": "markdown",
      "metadata": {
        "id": "2dl3PS12UK3f",
        "colab_type": "text"
      },
      "source": [
        "# Making Predictions with IBCF & UBCF"
      ]
    },
    {
      "cell_type": "code",
      "metadata": {
        "id": "wXRInrj8S50O",
        "colab_type": "code",
        "colab": {}
      },
      "source": [
        "#Prediction Function\n",
        "def predict(ratings, similarity, type='user'):\n",
        "    if type == 'user':\n",
        "        mean_user_rating = ratings.mean(axis=1)\n",
        "        #We use np.newaxis so that mean_user_rating has same format as ratings\n",
        "        ratings_diff = (ratings - mean_user_rating[:, np.newaxis])\n",
        "        pred = mean_user_rating[:, np.newaxis] + similarity.dot(ratings_diff) / np.array([np.abs(similarity).sum(axis=1)]).T\n",
        "    elif type == 'item':\n",
        "        pred = ratings.dot(similarity) / np.array([np.abs(similarity).sum(axis=1)])\n",
        "    return pred"
      ],
      "execution_count": null,
      "outputs": []
    },
    {
      "cell_type": "code",
      "metadata": {
        "id": "q_t-4JRoS5yg",
        "colab_type": "code",
        "colab": {}
      },
      "source": [
        "#Making Prediction\n",
        "user_prediction = predict(train_data_matrix, user_similarity, type='user')\n",
        "item_prediction = predict(train_data_matrix, item_similarity, type='item')"
      ],
      "execution_count": null,
      "outputs": []
    },
    {
      "cell_type": "markdown",
      "metadata": {
        "id": "gDjOXdhWT6EC",
        "colab_type": "text"
      },
      "source": [
        "# Evaluation of IBCF & UBCF Models\n",
        "\n",
        "- Calculating its RSMEs"
      ]
    },
    {
      "cell_type": "code",
      "metadata": {
        "id": "NuVgbdN_S5u-",
        "colab_type": "code",
        "colab": {}
      },
      "source": [
        "#Function to compute RSMEs\n",
        "def rsme(prediction, ground_truth):\n",
        "  prediction = prediction[ground_truth.nonzero()].flatten()\n",
        "  ground_truth= ground_truth[ground_truth.nonzero()].flatten()\n",
        "  return sqrt(mean_squared_error(prediction,ground_truth))"
      ],
      "execution_count": null,
      "outputs": []
    },
    {
      "cell_type": "code",
      "metadata": {
        "id": "HIr9hCXCS5tL",
        "colab_type": "code",
        "colab": {
          "base_uri": "https://localhost:8080/",
          "height": 50
        },
        "outputId": "a821d753-2263-4c47-8986-e03f1a945c88"
      },
      "source": [
        "print('User-Based CF RSME:' + str(rsme(user_prediction ,test_data_matrix)))\n",
        "print('Item-Based CF RSME:' + str(rsme(item_prediction ,test_data_matrix)))"
      ],
      "execution_count": null,
      "outputs": [
        {
          "output_type": "stream",
          "text": [
            "User-Based CF RSME:3.6786858618357567\n",
            "Item-Based CF RSME:3.7506771657664837\n"
          ],
          "name": "stdout"
        }
      ]
    },
    {
      "cell_type": "markdown",
      "metadata": {
        "id": "SXBledV77W_D",
        "colab_type": "text"
      },
      "source": [
        "# Lastly, a *Homemade* Truncated SVD was implemented to complete the anaylsis\n",
        "- Using Scikit-Learn to easily run the SVD decomposition into 19 latent factors, i.e. the 19 most popular different genre types from Figure 3\n",
        "- Using **Un-normalized **Utility-Matrix as starting baseline to perform Truncated SVD Analysis"
      ]
    },
    {
      "cell_type": "code",
      "metadata": {
        "id": "CrUfWDbJPI_j",
        "colab_type": "code",
        "colab": {
          "base_uri": "https://localhost:8080/",
          "height": 195
        },
        "outputId": "4b66491c-d492-4f7e-dfea-04ce5d086653"
      },
      "source": [
        "movie_names = movies[['movieId', 'title']]\n",
        "combined_movies_data = pd.merge(df, movie_names, on='movieId')\n",
        "combined_movies_data.head()"
      ],
      "execution_count": null,
      "outputs": [
        {
          "output_type": "execute_result",
          "data": {
            "text/html": [
              "<div>\n",
              "<style scoped>\n",
              "    .dataframe tbody tr th:only-of-type {\n",
              "        vertical-align: middle;\n",
              "    }\n",
              "\n",
              "    .dataframe tbody tr th {\n",
              "        vertical-align: top;\n",
              "    }\n",
              "\n",
              "    .dataframe thead th {\n",
              "        text-align: right;\n",
              "    }\n",
              "</style>\n",
              "<table border=\"1\" class=\"dataframe\">\n",
              "  <thead>\n",
              "    <tr style=\"text-align: right;\">\n",
              "      <th></th>\n",
              "      <th>userId</th>\n",
              "      <th>movieId</th>\n",
              "      <th>rating</th>\n",
              "      <th>title</th>\n",
              "    </tr>\n",
              "  </thead>\n",
              "  <tbody>\n",
              "    <tr>\n",
              "      <th>0</th>\n",
              "      <td>1</td>\n",
              "      <td>296</td>\n",
              "      <td>5.0</td>\n",
              "      <td>Pulp Fiction (1994)</td>\n",
              "    </tr>\n",
              "    <tr>\n",
              "      <th>1</th>\n",
              "      <td>3</td>\n",
              "      <td>296</td>\n",
              "      <td>5.0</td>\n",
              "      <td>Pulp Fiction (1994)</td>\n",
              "    </tr>\n",
              "    <tr>\n",
              "      <th>2</th>\n",
              "      <td>4</td>\n",
              "      <td>296</td>\n",
              "      <td>4.0</td>\n",
              "      <td>Pulp Fiction (1994)</td>\n",
              "    </tr>\n",
              "    <tr>\n",
              "      <th>3</th>\n",
              "      <td>5</td>\n",
              "      <td>296</td>\n",
              "      <td>4.0</td>\n",
              "      <td>Pulp Fiction (1994)</td>\n",
              "    </tr>\n",
              "    <tr>\n",
              "      <th>4</th>\n",
              "      <td>7</td>\n",
              "      <td>296</td>\n",
              "      <td>4.0</td>\n",
              "      <td>Pulp Fiction (1994)</td>\n",
              "    </tr>\n",
              "  </tbody>\n",
              "</table>\n",
              "</div>"
            ],
            "text/plain": [
              "   userId  movieId  rating                title\n",
              "0       1      296     5.0  Pulp Fiction (1994)\n",
              "1       3      296     5.0  Pulp Fiction (1994)\n",
              "2       4      296     4.0  Pulp Fiction (1994)\n",
              "3       5      296     4.0  Pulp Fiction (1994)\n",
              "4       7      296     4.0  Pulp Fiction (1994)"
            ]
          },
          "metadata": {
            "tags": []
          },
          "execution_count": 93
        }
      ]
    },
    {
      "cell_type": "markdown",
      "metadata": {
        "id": "nsqVtYnsVORJ",
        "colab_type": "text"
      },
      "source": [
        "# Pivot data\n",
        "\n",
        "- Create a Utility Matrix"
      ]
    },
    {
      "cell_type": "code",
      "metadata": {
        "id": "rqz3OysF1_kn",
        "colab_type": "code",
        "colab": {}
      },
      "source": [
        "#User-Item Matrix\n",
        "rating_crosstab = combined_movies_data.pivot_table(values='rating', index='userId', columns='title', fill_value=0)\n",
        "rating_crosstab.head()"
      ],
      "execution_count": null,
      "outputs": []
    },
    {
      "cell_type": "code",
      "metadata": {
        "id": "o9r4wkil1_jU",
        "colab_type": "code",
        "colab": {
          "base_uri": "https://localhost:8080/",
          "height": 34
        },
        "outputId": "6c6d0f7a-d348-46c1-e848-720b93e8e970"
      },
      "source": [
        "rating_crosstab.shape #checking shape only"
      ],
      "execution_count": null,
      "outputs": [
        {
          "output_type": "execute_result",
          "data": {
            "text/plain": [
              "(7045, 22226)"
            ]
          },
          "metadata": {
            "tags": []
          },
          "execution_count": 95
        }
      ]
    },
    {
      "cell_type": "markdown",
      "metadata": {
        "id": "uZgV0U01Vi1O",
        "colab_type": "text"
      },
      "source": [
        "# Transposing Table \n",
        "- Making an Item-Item based Table\n",
        "- Transpose of Utility Matrix makes rows into movies & columns into users"
      ]
    },
    {
      "cell_type": "code",
      "metadata": {
        "id": "9X5A77rgVa7R",
        "colab_type": "code",
        "colab": {}
      },
      "source": [
        "#Transpose of Utility Matrix \n",
        "# X is now the Item-Item Matrix\n",
        "X = rating_crosstab.T\n",
        "X.head()"
      ],
      "execution_count": null,
      "outputs": []
    },
    {
      "cell_type": "code",
      "metadata": {
        "id": "1rG-JOBzW6BF",
        "colab_type": "code",
        "colab": {}
      },
      "source": [
        "#Fitting using SVD fit function\n",
        "SVD = TruncatedSVD(n_components=19, random_state=5)# no. of component reflects the 19 popular genres from Figure 3\n",
        "US = SVD.fit_transform(X)"
      ],
      "execution_count": null,
      "outputs": []
    },
    {
      "cell_type": "code",
      "metadata": {
        "id": "jM69SB0SW6BH",
        "colab_type": "code",
        "colab": {}
      },
      "source": [
        "# Components of Truncated SVD decompositions\n",
        "V=SVD.components_\n",
        "S=SVD.singular_values_ \n"
      ],
      "execution_count": null,
      "outputs": []
    },
    {
      "cell_type": "code",
      "metadata": {
        "id": "Ei6eF_c7W6BJ",
        "colab_type": "code",
        "colab": {
          "base_uri": "https://localhost:8080/",
          "height": 168
        },
        "outputId": "e4733611-9f99-4356-8d88-0e1e15af79d1"
      },
      "source": [
        "print(SVD.explained_variance_ratio_)\n",
        "\n",
        "print(SVD.explained_variance_ratio_.sum())\n",
        "\n",
        "print(SVD.singular_values_)"
      ],
      "execution_count": null,
      "outputs": [
        {
          "output_type": "stream",
          "text": [
            "[0.1709174  0.04140253 0.02255414 0.01834604 0.01310272 0.01220618\n",
            " 0.01210197 0.00830936 0.00737263 0.00600173 0.00574443 0.00561504\n",
            " 0.0053616  0.00486073 0.00425798 0.00399086 0.00373938 0.00358966\n",
            " 0.0033958 ]\n",
            "0.35287016488969386\n",
            "[1623.53535391  761.24674545  565.52498996  521.72269687  441.82085731\n",
            "  413.43904411  413.30138312  341.17361809  321.89525836  290.3289482\n",
            "  285.31944747  280.80787037  273.90536109  260.79374624  244.35652549\n",
            "  237.00556378  230.46567818  224.55165045  219.98369457]\n"
          ],
          "name": "stdout"
        }
      ]
    },
    {
      "cell_type": "code",
      "metadata": {
        "id": "D4vTpE3hW6BL",
        "colab_type": "code",
        "colab": {
          "base_uri": "https://localhost:8080/",
          "height": 527
        },
        "outputId": "38c49600-f56e-46d9-8a3d-16b831e42ab5"
      },
      "source": [
        "# converting matrix to dataframe for plotting purposes only\n",
        "var_ = pd.DataFrame(SVD.explained_variance_ratio_*100)\n",
        "var_.columns = ['variance']\n",
        "var_.index.names = ['factors']\n",
        "#setting plot size\n",
        "plt.rcParams['figure.figsize']=(12,8)\n",
        "my_colors = 'rgbkymc'    \n",
        "sns.set_style(\"darkgrid\",{\"axes.facecolor\": \".75\"}) \n",
        " \n",
        "var_[:20].plot(kind=\"bar\",color=my_colors)\n",
        "plt.legend('',frameon=False)\n",
        "plt.xticks(rotation=90, horizontalalignment=\"center\")\n",
        "plt.title(\"Fig7: Strength of 19 Latent factors (19 genres) in decreasing order\", fontsize=22)\n",
        "plt.xlabel(\"Latent Factors, Singular Values\",fontsize=15)\n",
        "plt.ylabel(\"Percent Variance Explained\",fontsize=15)\n",
        "plt.show()"
      ],
      "execution_count": 221,
      "outputs": [
        {
          "output_type": "display_data",
          "data": {
            "image/png": "[encoded data removed]",
            "text/plain": [
              "<Figure size 864x576 with 1 Axes>"
            ]
          },
          "metadata": {
            "tags": []
          }
        }
      ]
    },
    {
      "cell_type": "code",
      "metadata": {
        "id": "HG_35REJa2T1",
        "colab_type": "code",
        "colab": {}
      },
      "source": [
        "#Conversion of original utility matrix into numpy array format\n",
        "R = rating_crosstab.to_numpy()"
      ],
      "execution_count": null,
      "outputs": []
    },
    {
      "cell_type": "code",
      "metadata": {
        "id": "AFsW6JcCa2jS",
        "colab_type": "code",
        "colab": {}
      },
      "source": [
        "#Manually decomposing the Matrices\n",
        "U, singularValues, V = svd(R, full_matrices=False)"
      ],
      "execution_count": null,
      "outputs": []
    },
    {
      "cell_type": "code",
      "metadata": {
        "id": "ONxM8OI_f-M0",
        "colab_type": "code",
        "colab": {
          "base_uri": "https://localhost:8080/",
          "height": 67
        },
        "outputId": "6ad501c3-182b-4eca-f93c-4a4c053e9c80"
      },
      "source": [
        "#checking out shapes \n",
        "print(U.shape)\n",
        "print(singularValues.shape)\n",
        "print(V.shape)"
      ],
      "execution_count": null,
      "outputs": [
        {
          "output_type": "stream",
          "text": [
            "(7045, 7045)\n",
            "(7045,)\n",
            "(7045, 22226)\n"
          ],
          "name": "stdout"
        }
      ]
    },
    {
      "cell_type": "code",
      "metadata": {
        "id": "JntLYZYXf-lG",
        "colab_type": "code",
        "colab": {}
      },
      "source": [
        "Sigma = np.diag(singularValues) #making singular value matrix, a diagonal matrix"
      ],
      "execution_count": null,
      "outputs": []
    },
    {
      "cell_type": "code",
      "metadata": {
        "id": "IEHE3R0wf-wG",
        "colab_type": "code",
        "colab": {}
      },
      "source": [
        "#subsetting U,V and Singular Matrix to get only the first Top 19 Singular values of importance(genres)\n",
        "# picking up only the first 20 columns of U\n",
        "Ucolumns = U[: , 0:19]\n",
        "Ucolumns\n",
        "# picking up only the first 20 rows of V^t\n",
        "Vrows = V[0:19,:]\n",
        "Vrows\n",
        "# picking up only the first 20 columns & rows of the Singular Matrix; Sigma\n",
        "Sigma2 = Sigma [0:19 , 0:19]"
      ],
      "execution_count": null,
      "outputs": []
    },
    {
      "cell_type": "markdown",
      "metadata": {
        "id": "bwEbuJ3Hh4PN",
        "colab_type": "text"
      },
      "source": [
        "# R' Predicted Ratings Matrix"
      ]
    },
    {
      "cell_type": "code",
      "metadata": {
        "id": "GakIXtZpf-em",
        "colab_type": "code",
        "colab": {}
      },
      "source": [
        "# Predicted matrix via dot product\n",
        "Rprime = np.dot(Ucolumns, np.dot(Sigma2, Vrows))"
      ],
      "execution_count": null,
      "outputs": []
    },
    {
      "cell_type": "code",
      "metadata": {
        "id": "-iz3XzN2gdNH",
        "colab_type": "code",
        "colab": {
          "base_uri": "https://localhost:8080/",
          "height": 50
        },
        "outputId": "3b94bede-274b-4da7-b86d-4ff2fc9c1c78"
      },
      "source": [
        "#RSME computation\n",
        "rmse_visual = sqrt(mean_squared_error(R, Rprime))\n",
        "print(\"The RSME of the 'Home-made' SVD Decompoistion :\")  \n",
        "print(rmse_visual)"
      ],
      "execution_count": null,
      "outputs": [
        {
          "output_type": "stream",
          "text": [
            "The RSME of the 'Home-made' SVD Decompoistion :\n",
            "0.24052143818702512\n"
          ],
          "name": "stdout"
        }
      ]
    },
    {
      "cell_type": "markdown",
      "metadata": {
        "id": "TT0jR9eZuKXB",
        "colab_type": "text"
      },
      "source": [
        "# Results of analysis:\n",
        "- Using RSME as a common accuracy benchmark: SVD models from the various libraries were the best overall.  Therefore, forward recommendations will be made only from the SVD models from each library\n",
        "\n",
        "1.   SVD Turicreate\n",
        "2.   SVD Surprise\n",
        "3.   \"Home-made\" SVD\n",
        "\n"
      ]
    },
    {
      "cell_type": "markdown",
      "metadata": {
        "id": "0oPqAZwSviD7",
        "colab_type": "text"
      },
      "source": [
        "# Recommendation of SVD Turicreate Library\n",
        "- Using the Top 2 best RSMEs\n",
        "- Popularity Model (RSME: 1.05)* \n",
        "- SVD Model (RSME: 1.09)\n",
        "\n",
        " **Although the Turicreate's Popularity model had a slightly better RSME, it's recommendation was not personalized**.  So it was better to use the SVD as it has a personalized recommendation, i.e., not all ratings were fictiously ranked as 5"
      ]
    },
    {
      "cell_type": "code",
      "metadata": {
        "id": "c7VyOH46uF2w",
        "colab_type": "code",
        "colab": {
          "base_uri": "https://localhost:8080/",
          "height": 538
        },
        "outputId": "e25d73e5-aedb-4c54-ee7f-deb9bfbbc575"
      },
      "source": [
        "# (1) Sample of Recomendations using SVD Turicreate from several users \n",
        "svd_model_recomm = svd_model.recommend(users=[1,2,3,4,5],k=5)\n",
        "svd_model_recomm.print_rows(num_rows=25)"
      ],
      "execution_count": null,
      "outputs": [
        {
          "output_type": "stream",
          "text": [
            "+--------+---------+--------------------+------+\n",
            "| userId | movieId |       score        | rank |\n",
            "+--------+---------+--------------------+------+\n",
            "|   1    |   512   | 5.9772432452981885 |  1   |\n",
            "|   1    |   647   | 5.6786428100412305 |  2   |\n",
            "|   1    |   641   | 5.517927706891816  |  3   |\n",
            "|   1    |   1405  | 5.464299262220186  |  4   |\n",
            "|   1    |   1473  | 5.452668250257295  |  5   |\n",
            "|   2    |   1142  | 6.261413118520897  |  1   |\n",
            "|   2    |   641   | 5.904053232351464  |  2   |\n",
            "|   2    |   605   | 5.897570869604271  |  3   |\n",
            "|   2    |   661   | 5.894659063497704  |  4   |\n",
            "|   2    |   197   | 5.767032406011742  |  5   |\n",
            "|   3    |   1268  | 5.529076100045961  |  1   |\n",
            "|   3    |   1019  | 5.442131519967836  |  2   |\n",
            "|   3    |   295   | 5.374753237420839  |  3   |\n",
            "|   3    |   1143  | 5.227024794275087  |  4   |\n",
            "|   3    |   962   | 5.111362934762758  |  5   |\n",
            "|   4    |   344   | 6.8112422234361585 |  1   |\n",
            "|   4    |   486   | 6.525071025544923  |  2   |\n",
            "|   4    |   107   |  6.34911024635486  |  3   |\n",
            "|   4    |   133   |  6.27447736328296  |  4   |\n",
            "|   4    |   936   | 6.255179525071901  |  5   |\n",
            "|   5    |   906   | 6.028716207200807  |  1   |\n",
            "|   5    |   512   | 5.864787936860841  |  2   |\n",
            "|   5    |   613   | 5.751664758378785  |  3   |\n",
            "|   5    |   875   |  5.65215504234485  |  4   |\n",
            "|   5    |   919   | 5.640114665681642  |  5   |\n",
            "+--------+---------+--------------------+------+\n",
            "[25 rows x 4 columns]\n",
            "\n"
          ],
          "name": "stdout"
        }
      ]
    },
    {
      "cell_type": "code",
      "metadata": {
        "id": "0vc1lFTYuFwW",
        "colab_type": "code",
        "colab": {}
      },
      "source": [
        "svd_model_recomm_df = pd.DataFrame(svd_model_recomm)#converting to Dataframe\n",
        "recommend_movies_SVD_tc = pd.merge(svd_model_recomm_df, data, on='movieId')"
      ],
      "execution_count": null,
      "outputs": []
    },
    {
      "cell_type": "code",
      "metadata": {
        "id": "uqdJp9__uFte",
        "colab_type": "code",
        "colab": {
          "base_uri": "https://localhost:8080/",
          "height": 195
        },
        "outputId": "a8427098-eb63-40a4-e6b6-d4374769f5b8"
      },
      "source": [
        "#Sort by highest rated movies from recommended SVD list\n",
        "recommend_movies_SVD_tc.sort_values(by=['rating'], inplace=True, ascending=False)\n",
        "recommend_movies_SVD_tc.head() "
      ],
      "execution_count": null,
      "outputs": [
        {
          "output_type": "execute_result",
          "data": {
            "text/html": [
              "<div>\n",
              "<style scoped>\n",
              "    .dataframe tbody tr th:only-of-type {\n",
              "        vertical-align: middle;\n",
              "    }\n",
              "\n",
              "    .dataframe tbody tr th {\n",
              "        vertical-align: top;\n",
              "    }\n",
              "\n",
              "    .dataframe thead th {\n",
              "        text-align: right;\n",
              "    }\n",
              "</style>\n",
              "<table border=\"1\" class=\"dataframe\">\n",
              "  <thead>\n",
              "    <tr style=\"text-align: right;\">\n",
              "      <th></th>\n",
              "      <th>userId_x</th>\n",
              "      <th>movieId</th>\n",
              "      <th>score</th>\n",
              "      <th>rank</th>\n",
              "      <th>title</th>\n",
              "      <th>genres</th>\n",
              "      <th>userId_y</th>\n",
              "      <th>rating</th>\n",
              "      <th>moviePubYear</th>\n",
              "      <th>numRatings</th>\n",
              "    </tr>\n",
              "  </thead>\n",
              "  <tbody>\n",
              "    <tr>\n",
              "      <th>1468</th>\n",
              "      <td>3</td>\n",
              "      <td>1019</td>\n",
              "      <td>5.442132</td>\n",
              "      <td>2</td>\n",
              "      <td>20,000 Leagues Under the Sea (1954)</td>\n",
              "      <td>Adventure|Drama|Sci-Fi</td>\n",
              "      <td>1392</td>\n",
              "      <td>5.0</td>\n",
              "      <td>1954</td>\n",
              "      <td>238</td>\n",
              "    </tr>\n",
              "    <tr>\n",
              "      <th>2904</th>\n",
              "      <td>4</td>\n",
              "      <td>344</td>\n",
              "      <td>6.811242</td>\n",
              "      <td>1</td>\n",
              "      <td>Ace Ventura: Pet Detective (1994)</td>\n",
              "      <td>Comedy</td>\n",
              "      <td>5071</td>\n",
              "      <td>5.0</td>\n",
              "      <td>1994</td>\n",
              "      <td>1676</td>\n",
              "    </tr>\n",
              "    <tr>\n",
              "      <th>4433</th>\n",
              "      <td>5</td>\n",
              "      <td>919</td>\n",
              "      <td>5.640115</td>\n",
              "      <td>5</td>\n",
              "      <td>Wizard of Oz, The (1939)</td>\n",
              "      <td>Adventure|Children|Fantasy|Musical</td>\n",
              "      <td>3623</td>\n",
              "      <td>5.0</td>\n",
              "      <td>1939</td>\n",
              "      <td>1048</td>\n",
              "    </tr>\n",
              "    <tr>\n",
              "      <th>2821</th>\n",
              "      <td>4</td>\n",
              "      <td>344</td>\n",
              "      <td>6.811242</td>\n",
              "      <td>1</td>\n",
              "      <td>Ace Ventura: Pet Detective (1994)</td>\n",
              "      <td>Comedy</td>\n",
              "      <td>4722</td>\n",
              "      <td>5.0</td>\n",
              "      <td>1994</td>\n",
              "      <td>1676</td>\n",
              "    </tr>\n",
              "    <tr>\n",
              "      <th>4930</th>\n",
              "      <td>5</td>\n",
              "      <td>919</td>\n",
              "      <td>5.640115</td>\n",
              "      <td>5</td>\n",
              "      <td>Wizard of Oz, The (1939)</td>\n",
              "      <td>Adventure|Children|Fantasy|Musical</td>\n",
              "      <td>6969</td>\n",
              "      <td>5.0</td>\n",
              "      <td>1939</td>\n",
              "      <td>1048</td>\n",
              "    </tr>\n",
              "  </tbody>\n",
              "</table>\n",
              "</div>"
            ],
            "text/plain": [
              "      userId_x  movieId     score  ...  rating moviePubYear numRatings\n",
              "1468         3     1019  5.442132  ...     5.0         1954        238\n",
              "2904         4      344  6.811242  ...     5.0         1994       1676\n",
              "4433         5      919  5.640115  ...     5.0         1939       1048\n",
              "2821         4      344  6.811242  ...     5.0         1994       1676\n",
              "4930         5      919  5.640115  ...     5.0         1939       1048\n",
              "\n",
              "[5 rows x 10 columns]"
            ]
          },
          "metadata": {
            "tags": []
          },
          "execution_count": 185
        }
      ]
    },
    {
      "cell_type": "code",
      "metadata": {
        "id": "JuI_GGqgwbfI",
        "colab_type": "code",
        "colab": {
          "base_uri": "https://localhost:8080/",
          "height": 698
        },
        "outputId": "1063a26e-5e67-4aaa-e0e6-b79455a2f7cd"
      },
      "source": [
        "view_unique_title_SVD_tc= pd.DataFrame(recommend_movies_SVD_tc.title.unique())\n",
        "view_unique_title_SVD_tc.rename(columns={0: 'Movies'}, inplace=True)\n",
        "view_unique_title_SVD_tc"
      ],
      "execution_count": null,
      "outputs": [
        {
          "output_type": "execute_result",
          "data": {
            "text/html": [
              "<div>\n",
              "<style scoped>\n",
              "    .dataframe tbody tr th:only-of-type {\n",
              "        vertical-align: middle;\n",
              "    }\n",
              "\n",
              "    .dataframe tbody tr th {\n",
              "        vertical-align: top;\n",
              "    }\n",
              "\n",
              "    .dataframe thead th {\n",
              "        text-align: right;\n",
              "    }\n",
              "</style>\n",
              "<table border=\"1\" class=\"dataframe\">\n",
              "  <thead>\n",
              "    <tr style=\"text-align: right;\">\n",
              "      <th></th>\n",
              "      <th>Movies</th>\n",
              "    </tr>\n",
              "  </thead>\n",
              "  <tbody>\n",
              "    <tr>\n",
              "      <th>0</th>\n",
              "      <td>20,000 Leagues Under the Sea (1954)</td>\n",
              "    </tr>\n",
              "    <tr>\n",
              "      <th>1</th>\n",
              "      <td>Ace Ventura: Pet Detective (1994)</td>\n",
              "    </tr>\n",
              "    <tr>\n",
              "      <th>2</th>\n",
              "      <td>Wizard of Oz, The (1939)</td>\n",
              "    </tr>\n",
              "    <tr>\n",
              "      <th>3</th>\n",
              "      <td>Puppet Masters, The (1994)</td>\n",
              "    </tr>\n",
              "    <tr>\n",
              "      <th>4</th>\n",
              "      <td>One Fine Day (1996)</td>\n",
              "    </tr>\n",
              "    <tr>\n",
              "      <th>5</th>\n",
              "      <td>Muppet Treasure Island (1996)</td>\n",
              "    </tr>\n",
              "    <tr>\n",
              "      <th>6</th>\n",
              "      <td>Courage Under Fire (1996)</td>\n",
              "    </tr>\n",
              "    <tr>\n",
              "      <th>7</th>\n",
              "      <td>James and the Giant Peach (1996)</td>\n",
              "    </tr>\n",
              "    <tr>\n",
              "      <th>8</th>\n",
              "      <td>Ninotchka (1939)</td>\n",
              "    </tr>\n",
              "    <tr>\n",
              "      <th>9</th>\n",
              "      <td>Beavis and Butt-Head Do America (1996)</td>\n",
              "    </tr>\n",
              "    <tr>\n",
              "      <th>10</th>\n",
              "      <td>Gaslight (1944)</td>\n",
              "    </tr>\n",
              "    <tr>\n",
              "      <th>11</th>\n",
              "      <td>Jane Eyre (1996)</td>\n",
              "    </tr>\n",
              "    <tr>\n",
              "      <th>12</th>\n",
              "      <td>Nothing to Lose (1994)</td>\n",
              "    </tr>\n",
              "    <tr>\n",
              "      <th>13</th>\n",
              "      <td>They Made Me a Criminal (1939)</td>\n",
              "    </tr>\n",
              "    <tr>\n",
              "      <th>14</th>\n",
              "      <td>Pump Up the Volume (1990)</td>\n",
              "    </tr>\n",
              "    <tr>\n",
              "      <th>15</th>\n",
              "      <td>Life with Mikey (1993)</td>\n",
              "    </tr>\n",
              "    <tr>\n",
              "      <th>16</th>\n",
              "      <td>Get Over It (1996)</td>\n",
              "    </tr>\n",
              "    <tr>\n",
              "      <th>17</th>\n",
              "      <td>Best Men (1997)</td>\n",
              "    </tr>\n",
              "    <tr>\n",
              "      <th>18</th>\n",
              "      <td>Little Indian, Big City (Un indien dans la vil...</td>\n",
              "    </tr>\n",
              "    <tr>\n",
              "      <th>19</th>\n",
              "      <td>Pyromaniac's Love Story, A (1995)</td>\n",
              "    </tr>\n",
              "    <tr>\n",
              "      <th>20</th>\n",
              "      <td>Three Lives and Only One Death (Trois vies &amp; u...</td>\n",
              "    </tr>\n",
              "    <tr>\n",
              "      <th>21</th>\n",
              "      <td>Stars Fell on Henrietta, The (1995)</td>\n",
              "    </tr>\n",
              "  </tbody>\n",
              "</table>\n",
              "</div>"
            ],
            "text/plain": [
              "                                               Movies\n",
              "0                 20,000 Leagues Under the Sea (1954)\n",
              "1                   Ace Ventura: Pet Detective (1994)\n",
              "2                            Wizard of Oz, The (1939)\n",
              "3                          Puppet Masters, The (1994)\n",
              "4                                 One Fine Day (1996)\n",
              "5                       Muppet Treasure Island (1996)\n",
              "6                           Courage Under Fire (1996)\n",
              "7                    James and the Giant Peach (1996)\n",
              "8                                    Ninotchka (1939)\n",
              "9              Beavis and Butt-Head Do America (1996)\n",
              "10                                    Gaslight (1944)\n",
              "11                                   Jane Eyre (1996)\n",
              "12                             Nothing to Lose (1994)\n",
              "13                     They Made Me a Criminal (1939)\n",
              "14                          Pump Up the Volume (1990)\n",
              "15                             Life with Mikey (1993)\n",
              "16                                 Get Over It (1996)\n",
              "17                                    Best Men (1997)\n",
              "18  Little Indian, Big City (Un indien dans la vil...\n",
              "19                  Pyromaniac's Love Story, A (1995)\n",
              "20  Three Lives and Only One Death (Trois vies & u...\n",
              "21                Stars Fell on Henrietta, The (1995)"
            ]
          },
          "metadata": {
            "tags": []
          },
          "execution_count": 188
        }
      ]
    },
    {
      "cell_type": "markdown",
      "metadata": {
        "id": "J4xjoEMVC5Et",
        "colab_type": "text"
      },
      "source": [
        "# Recommendation of SVD Surprise Library\n",
        "# Data table of Top 10 and Bottom 10 predictions Surprise Package\n",
        "- Predictions in detailed Tablular format\n",
        "- This nice function borrowed from a blog by Nicolas Hug: https://nbviewer.jupyter.org/github/NicolasHug/Surprise/blob/master/examples/notebooks/KNNBasic_analysis.ipynb"
      ]
    },
    {
      "cell_type": "code",
      "metadata": {
        "id": "1y-Cyn5VyPoE",
        "colab_type": "code",
        "colab": {}
      },
      "source": [
        "def get_Iu(uid):\n",
        "    \"\"\" return the number of items rated by given user\n",
        "    args: \n",
        "      uid: the id of the user\n",
        "    returns: \n",
        "      the number of items rated by the user\n",
        "    \"\"\"\n",
        "    try:\n",
        "        return len(trainset.ur[trainset.to_inner_uid(uid)])\n",
        "    except ValueError: # user was not part of the trainset\n",
        "        return 0\n",
        "    \n",
        "def get_Ui(iid):\n",
        "    \"\"\" return number of users that have rated given item\n",
        "    args:\n",
        "      iid: the raw id of the item\n",
        "    returns:\n",
        "      the number of users that have rated the item.\n",
        "    \"\"\"\n",
        "    try: \n",
        "        return len(trainset.ir[trainset.to_inner_iid(iid)])\n",
        "    except ValueError:\n",
        "        return 0\n",
        "    \n",
        "df1 = pd.DataFrame(predictions, columns=['uid', 'iid', 'r_ui', 'est', 'details'])\n",
        "df1['Iu'] = df1.uid.apply(get_Iu)\n",
        "df1['Ui'] = df1.iid.apply(get_Ui)\n",
        "df1['err'] = abs(df1.est - df1.r_ui)\n",
        "best_predictions = df1.sort_values(by='err')[:10]\n",
        "worst_predictions = df1.sort_values(by='err')[-10:]"
      ],
      "execution_count": null,
      "outputs": []
    },
    {
      "cell_type": "code",
      "metadata": {
        "id": "a6DfyImI5Le_",
        "colab_type": "code",
        "colab": {
          "base_uri": "https://localhost:8080/",
          "height": 195
        },
        "outputId": "784b3b18-c288-4331-d347-2de02fb36626"
      },
      "source": [
        "#Overall Prediction from Surprise Package\n",
        "df1.head()"
      ],
      "execution_count": null,
      "outputs": [
        {
          "output_type": "execute_result",
          "data": {
            "text/html": [
              "<div>\n",
              "<style scoped>\n",
              "    .dataframe tbody tr th:only-of-type {\n",
              "        vertical-align: middle;\n",
              "    }\n",
              "\n",
              "    .dataframe tbody tr th {\n",
              "        vertical-align: top;\n",
              "    }\n",
              "\n",
              "    .dataframe thead th {\n",
              "        text-align: right;\n",
              "    }\n",
              "</style>\n",
              "<table border=\"1\" class=\"dataframe\">\n",
              "  <thead>\n",
              "    <tr style=\"text-align: right;\">\n",
              "      <th></th>\n",
              "      <th>uid</th>\n",
              "      <th>iid</th>\n",
              "      <th>r_ui</th>\n",
              "      <th>est</th>\n",
              "      <th>details</th>\n",
              "      <th>Iu</th>\n",
              "      <th>Ui</th>\n",
              "      <th>err</th>\n",
              "    </tr>\n",
              "  </thead>\n",
              "  <tbody>\n",
              "    <tr>\n",
              "      <th>0</th>\n",
              "      <td>4152</td>\n",
              "      <td>318</td>\n",
              "      <td>5.0</td>\n",
              "      <td>4.216895</td>\n",
              "      <td>{'was_impossible': False}</td>\n",
              "      <td>406</td>\n",
              "      <td>3138</td>\n",
              "      <td>0.783105</td>\n",
              "    </tr>\n",
              "    <tr>\n",
              "      <th>1</th>\n",
              "      <td>3274</td>\n",
              "      <td>2174</td>\n",
              "      <td>4.0</td>\n",
              "      <td>4.429163</td>\n",
              "      <td>{'was_impossible': False}</td>\n",
              "      <td>530</td>\n",
              "      <td>775</td>\n",
              "      <td>0.429163</td>\n",
              "    </tr>\n",
              "    <tr>\n",
              "      <th>2</th>\n",
              "      <td>3765</td>\n",
              "      <td>6440</td>\n",
              "      <td>4.0</td>\n",
              "      <td>4.139689</td>\n",
              "      <td>{'was_impossible': False}</td>\n",
              "      <td>32</td>\n",
              "      <td>157</td>\n",
              "      <td>0.139689</td>\n",
              "    </tr>\n",
              "    <tr>\n",
              "      <th>3</th>\n",
              "      <td>3028</td>\n",
              "      <td>3107</td>\n",
              "      <td>4.0</td>\n",
              "      <td>4.049894</td>\n",
              "      <td>{'was_impossible': False}</td>\n",
              "      <td>508</td>\n",
              "      <td>275</td>\n",
              "      <td>0.049894</td>\n",
              "    </tr>\n",
              "    <tr>\n",
              "      <th>4</th>\n",
              "      <td>5019</td>\n",
              "      <td>2858</td>\n",
              "      <td>4.0</td>\n",
              "      <td>3.661529</td>\n",
              "      <td>{'was_impossible': False}</td>\n",
              "      <td>284</td>\n",
              "      <td>1986</td>\n",
              "      <td>0.338471</td>\n",
              "    </tr>\n",
              "  </tbody>\n",
              "</table>\n",
              "</div>"
            ],
            "text/plain": [
              "    uid   iid  r_ui       est                    details   Iu    Ui       err\n",
              "0  4152   318   5.0  4.216895  {'was_impossible': False}  406  3138  0.783105\n",
              "1  3274  2174   4.0  4.429163  {'was_impossible': False}  530   775  0.429163\n",
              "2  3765  6440   4.0  4.139689  {'was_impossible': False}   32   157  0.139689\n",
              "3  3028  3107   4.0  4.049894  {'was_impossible': False}  508   275  0.049894\n",
              "4  5019  2858   4.0  3.661529  {'was_impossible': False}  284  1986  0.338471"
            ]
          },
          "metadata": {
            "tags": []
          },
          "execution_count": 191
        }
      ]
    },
    {
      "cell_type": "code",
      "metadata": {
        "id": "Zsh_KYMB5LWM",
        "colab_type": "code",
        "colab": {
          "base_uri": "https://localhost:8080/",
          "height": 343
        },
        "outputId": "d9b4b9d8-379d-46da-c1e2-3e3cd7655df9"
      },
      "source": [
        "#Overall Best Prediction from Surprise Package\n",
        "best_predictions"
      ],
      "execution_count": null,
      "outputs": [
        {
          "output_type": "execute_result",
          "data": {
            "text/html": [
              "<div>\n",
              "<style scoped>\n",
              "    .dataframe tbody tr th:only-of-type {\n",
              "        vertical-align: middle;\n",
              "    }\n",
              "\n",
              "    .dataframe tbody tr th {\n",
              "        vertical-align: top;\n",
              "    }\n",
              "\n",
              "    .dataframe thead th {\n",
              "        text-align: right;\n",
              "    }\n",
              "</style>\n",
              "<table border=\"1\" class=\"dataframe\">\n",
              "  <thead>\n",
              "    <tr style=\"text-align: right;\">\n",
              "      <th></th>\n",
              "      <th>uid</th>\n",
              "      <th>iid</th>\n",
              "      <th>r_ui</th>\n",
              "      <th>est</th>\n",
              "      <th>details</th>\n",
              "      <th>Iu</th>\n",
              "      <th>Ui</th>\n",
              "      <th>err</th>\n",
              "    </tr>\n",
              "  </thead>\n",
              "  <tbody>\n",
              "    <tr>\n",
              "      <th>26333</th>\n",
              "      <td>648</td>\n",
              "      <td>57640</td>\n",
              "      <td>1.0</td>\n",
              "      <td>1.0</td>\n",
              "      <td>{'was_impossible': False}</td>\n",
              "      <td>613</td>\n",
              "      <td>172</td>\n",
              "      <td>0.0</td>\n",
              "    </tr>\n",
              "    <tr>\n",
              "      <th>77446</th>\n",
              "      <td>6185</td>\n",
              "      <td>79132</td>\n",
              "      <td>5.0</td>\n",
              "      <td>5.0</td>\n",
              "      <td>{'was_impossible': False}</td>\n",
              "      <td>31</td>\n",
              "      <td>1470</td>\n",
              "      <td>0.0</td>\n",
              "    </tr>\n",
              "    <tr>\n",
              "      <th>34342</th>\n",
              "      <td>1039</td>\n",
              "      <td>104879</td>\n",
              "      <td>5.0</td>\n",
              "      <td>5.0</td>\n",
              "      <td>{'was_impossible': False}</td>\n",
              "      <td>37</td>\n",
              "      <td>212</td>\n",
              "      <td>0.0</td>\n",
              "    </tr>\n",
              "    <tr>\n",
              "      <th>77801</th>\n",
              "      <td>5126</td>\n",
              "      <td>2194</td>\n",
              "      <td>5.0</td>\n",
              "      <td>5.0</td>\n",
              "      <td>{'was_impossible': False}</td>\n",
              "      <td>828</td>\n",
              "      <td>595</td>\n",
              "      <td>0.0</td>\n",
              "    </tr>\n",
              "    <tr>\n",
              "      <th>77950</th>\n",
              "      <td>3379</td>\n",
              "      <td>2959</td>\n",
              "      <td>5.0</td>\n",
              "      <td>5.0</td>\n",
              "      <td>{'was_impossible': False}</td>\n",
              "      <td>117</td>\n",
              "      <td>2288</td>\n",
              "      <td>0.0</td>\n",
              "    </tr>\n",
              "    <tr>\n",
              "      <th>77971</th>\n",
              "      <td>1869</td>\n",
              "      <td>3508</td>\n",
              "      <td>5.0</td>\n",
              "      <td>5.0</td>\n",
              "      <td>{'was_impossible': False}</td>\n",
              "      <td>419</td>\n",
              "      <td>132</td>\n",
              "      <td>0.0</td>\n",
              "    </tr>\n",
              "    <tr>\n",
              "      <th>78187</th>\n",
              "      <td>1494</td>\n",
              "      <td>1207</td>\n",
              "      <td>5.0</td>\n",
              "      <td>5.0</td>\n",
              "      <td>{'was_impossible': False}</td>\n",
              "      <td>152</td>\n",
              "      <td>620</td>\n",
              "      <td>0.0</td>\n",
              "    </tr>\n",
              "    <tr>\n",
              "      <th>8795</th>\n",
              "      <td>5852</td>\n",
              "      <td>193</td>\n",
              "      <td>1.0</td>\n",
              "      <td>1.0</td>\n",
              "      <td>{'was_impossible': False}</td>\n",
              "      <td>284</td>\n",
              "      <td>291</td>\n",
              "      <td>0.0</td>\n",
              "    </tr>\n",
              "    <tr>\n",
              "      <th>8752</th>\n",
              "      <td>4775</td>\n",
              "      <td>160</td>\n",
              "      <td>1.0</td>\n",
              "      <td>1.0</td>\n",
              "      <td>{'was_impossible': False}</td>\n",
              "      <td>1196</td>\n",
              "      <td>563</td>\n",
              "      <td>0.0</td>\n",
              "    </tr>\n",
              "    <tr>\n",
              "      <th>77365</th>\n",
              "      <td>5596</td>\n",
              "      <td>3949</td>\n",
              "      <td>5.0</td>\n",
              "      <td>5.0</td>\n",
              "      <td>{'was_impossible': False}</td>\n",
              "      <td>107</td>\n",
              "      <td>821</td>\n",
              "      <td>0.0</td>\n",
              "    </tr>\n",
              "  </tbody>\n",
              "</table>\n",
              "</div>"
            ],
            "text/plain": [
              "        uid     iid  r_ui  est                    details    Iu    Ui  err\n",
              "26333   648   57640   1.0  1.0  {'was_impossible': False}   613   172  0.0\n",
              "77446  6185   79132   5.0  5.0  {'was_impossible': False}    31  1470  0.0\n",
              "34342  1039  104879   5.0  5.0  {'was_impossible': False}    37   212  0.0\n",
              "77801  5126    2194   5.0  5.0  {'was_impossible': False}   828   595  0.0\n",
              "77950  3379    2959   5.0  5.0  {'was_impossible': False}   117  2288  0.0\n",
              "77971  1869    3508   5.0  5.0  {'was_impossible': False}   419   132  0.0\n",
              "78187  1494    1207   5.0  5.0  {'was_impossible': False}   152   620  0.0\n",
              "8795   5852     193   1.0  1.0  {'was_impossible': False}   284   291  0.0\n",
              "8752   4775     160   1.0  1.0  {'was_impossible': False}  1196   563  0.0\n",
              "77365  5596    3949   5.0  5.0  {'was_impossible': False}   107   821  0.0"
            ]
          },
          "metadata": {
            "tags": []
          },
          "execution_count": 192
        }
      ]
    },
    {
      "cell_type": "code",
      "metadata": {
        "id": "AVRCQwWH5LPf",
        "colab_type": "code",
        "colab": {
          "base_uri": "https://localhost:8080/",
          "height": 343
        },
        "outputId": "368fc5d5-8c5f-47d8-b11a-5de34d7be870"
      },
      "source": [
        "#Overall Worst Prediction from Surprise Package\n",
        "worst_predictions"
      ],
      "execution_count": null,
      "outputs": [
        {
          "output_type": "execute_result",
          "data": {
            "text/html": [
              "<div>\n",
              "<style scoped>\n",
              "    .dataframe tbody tr th:only-of-type {\n",
              "        vertical-align: middle;\n",
              "    }\n",
              "\n",
              "    .dataframe tbody tr th {\n",
              "        vertical-align: top;\n",
              "    }\n",
              "\n",
              "    .dataframe thead th {\n",
              "        text-align: right;\n",
              "    }\n",
              "</style>\n",
              "<table border=\"1\" class=\"dataframe\">\n",
              "  <thead>\n",
              "    <tr style=\"text-align: right;\">\n",
              "      <th></th>\n",
              "      <th>uid</th>\n",
              "      <th>iid</th>\n",
              "      <th>r_ui</th>\n",
              "      <th>est</th>\n",
              "      <th>details</th>\n",
              "      <th>Iu</th>\n",
              "      <th>Ui</th>\n",
              "      <th>err</th>\n",
              "    </tr>\n",
              "  </thead>\n",
              "  <tbody>\n",
              "    <tr>\n",
              "      <th>83777</th>\n",
              "      <td>1554</td>\n",
              "      <td>5669</td>\n",
              "      <td>0.5</td>\n",
              "      <td>4.413977</td>\n",
              "      <td>{'was_impossible': False}</td>\n",
              "      <td>96</td>\n",
              "      <td>511</td>\n",
              "      <td>3.913977</td>\n",
              "    </tr>\n",
              "    <tr>\n",
              "      <th>96219</th>\n",
              "      <td>3857</td>\n",
              "      <td>89492</td>\n",
              "      <td>0.5</td>\n",
              "      <td>4.435734</td>\n",
              "      <td>{'was_impossible': False}</td>\n",
              "      <td>205</td>\n",
              "      <td>244</td>\n",
              "      <td>3.935734</td>\n",
              "    </tr>\n",
              "    <tr>\n",
              "      <th>39337</th>\n",
              "      <td>4292</td>\n",
              "      <td>3461</td>\n",
              "      <td>0.5</td>\n",
              "      <td>4.443518</td>\n",
              "      <td>{'was_impossible': False}</td>\n",
              "      <td>28</td>\n",
              "      <td>94</td>\n",
              "      <td>3.943518</td>\n",
              "    </tr>\n",
              "    <tr>\n",
              "      <th>32509</th>\n",
              "      <td>2497</td>\n",
              "      <td>53000</td>\n",
              "      <td>0.5</td>\n",
              "      <td>4.457342</td>\n",
              "      <td>{'was_impossible': False}</td>\n",
              "      <td>93</td>\n",
              "      <td>176</td>\n",
              "      <td>3.957342</td>\n",
              "    </tr>\n",
              "    <tr>\n",
              "      <th>61329</th>\n",
              "      <td>4638</td>\n",
              "      <td>7786</td>\n",
              "      <td>0.5</td>\n",
              "      <td>4.470164</td>\n",
              "      <td>{'was_impossible': False}</td>\n",
              "      <td>243</td>\n",
              "      <td>4</td>\n",
              "      <td>3.970164</td>\n",
              "    </tr>\n",
              "    <tr>\n",
              "      <th>88785</th>\n",
              "      <td>709</td>\n",
              "      <td>156387</td>\n",
              "      <td>1.0</td>\n",
              "      <td>5.000000</td>\n",
              "      <td>{'was_impossible': False}</td>\n",
              "      <td>419</td>\n",
              "      <td>33</td>\n",
              "      <td>4.000000</td>\n",
              "    </tr>\n",
              "    <tr>\n",
              "      <th>93421</th>\n",
              "      <td>6444</td>\n",
              "      <td>908</td>\n",
              "      <td>0.5</td>\n",
              "      <td>4.504454</td>\n",
              "      <td>{'was_impossible': False}</td>\n",
              "      <td>91</td>\n",
              "      <td>635</td>\n",
              "      <td>4.004454</td>\n",
              "    </tr>\n",
              "    <tr>\n",
              "      <th>40265</th>\n",
              "      <td>134</td>\n",
              "      <td>1225</td>\n",
              "      <td>0.5</td>\n",
              "      <td>4.557013</td>\n",
              "      <td>{'was_impossible': False}</td>\n",
              "      <td>62</td>\n",
              "      <td>776</td>\n",
              "      <td>4.057013</td>\n",
              "    </tr>\n",
              "    <tr>\n",
              "      <th>56637</th>\n",
              "      <td>1736</td>\n",
              "      <td>58425</td>\n",
              "      <td>0.5</td>\n",
              "      <td>4.634878</td>\n",
              "      <td>{'was_impossible': False}</td>\n",
              "      <td>147</td>\n",
              "      <td>8</td>\n",
              "      <td>4.134878</td>\n",
              "    </tr>\n",
              "    <tr>\n",
              "      <th>79367</th>\n",
              "      <td>210</td>\n",
              "      <td>53894</td>\n",
              "      <td>0.5</td>\n",
              "      <td>4.750710</td>\n",
              "      <td>{'was_impossible': False}</td>\n",
              "      <td>30</td>\n",
              "      <td>90</td>\n",
              "      <td>4.250710</td>\n",
              "    </tr>\n",
              "  </tbody>\n",
              "</table>\n",
              "</div>"
            ],
            "text/plain": [
              "        uid     iid  r_ui  ...   Iu   Ui       err\n",
              "83777  1554    5669   0.5  ...   96  511  3.913977\n",
              "96219  3857   89492   0.5  ...  205  244  3.935734\n",
              "39337  4292    3461   0.5  ...   28   94  3.943518\n",
              "32509  2497   53000   0.5  ...   93  176  3.957342\n",
              "61329  4638    7786   0.5  ...  243    4  3.970164\n",
              "88785   709  156387   1.0  ...  419   33  4.000000\n",
              "93421  6444     908   0.5  ...   91  635  4.004454\n",
              "40265   134    1225   0.5  ...   62  776  4.057013\n",
              "56637  1736   58425   0.5  ...  147    8  4.134878\n",
              "79367   210   53894   0.5  ...   30   90  4.250710\n",
              "\n",
              "[10 rows x 8 columns]"
            ]
          },
          "metadata": {
            "tags": []
          },
          "execution_count": 193
        }
      ]
    },
    {
      "cell_type": "code",
      "metadata": {
        "id": "jAmY6JjJFPxf",
        "colab_type": "code",
        "colab": {
          "base_uri": "https://localhost:8080/",
          "height": 195
        },
        "outputId": "681b53cb-5f59-4dfa-b9fb-1bb291d099d2"
      },
      "source": [
        "# Rootcausing as to why certain prediction was so off?\n",
        "tt1=df1[df1.iid == 1225]\n",
        "tt1.head()"
      ],
      "execution_count": null,
      "outputs": [
        {
          "output_type": "execute_result",
          "data": {
            "text/html": [
              "<div>\n",
              "<style scoped>\n",
              "    .dataframe tbody tr th:only-of-type {\n",
              "        vertical-align: middle;\n",
              "    }\n",
              "\n",
              "    .dataframe tbody tr th {\n",
              "        vertical-align: top;\n",
              "    }\n",
              "\n",
              "    .dataframe thead th {\n",
              "        text-align: right;\n",
              "    }\n",
              "</style>\n",
              "<table border=\"1\" class=\"dataframe\">\n",
              "  <thead>\n",
              "    <tr style=\"text-align: right;\">\n",
              "      <th></th>\n",
              "      <th>uid</th>\n",
              "      <th>iid</th>\n",
              "      <th>r_ui</th>\n",
              "      <th>est</th>\n",
              "      <th>details</th>\n",
              "      <th>Iu</th>\n",
              "      <th>Ui</th>\n",
              "      <th>err</th>\n",
              "    </tr>\n",
              "  </thead>\n",
              "  <tbody>\n",
              "    <tr>\n",
              "      <th>1569</th>\n",
              "      <td>5064</td>\n",
              "      <td>1225</td>\n",
              "      <td>4.0</td>\n",
              "      <td>3.620663</td>\n",
              "      <td>{'was_impossible': False}</td>\n",
              "      <td>1043</td>\n",
              "      <td>776</td>\n",
              "      <td>0.379337</td>\n",
              "    </tr>\n",
              "    <tr>\n",
              "      <th>2805</th>\n",
              "      <td>2480</td>\n",
              "      <td>1225</td>\n",
              "      <td>4.0</td>\n",
              "      <td>4.025972</td>\n",
              "      <td>{'was_impossible': False}</td>\n",
              "      <td>290</td>\n",
              "      <td>776</td>\n",
              "      <td>0.025972</td>\n",
              "    </tr>\n",
              "    <tr>\n",
              "      <th>3532</th>\n",
              "      <td>1127</td>\n",
              "      <td>1225</td>\n",
              "      <td>3.5</td>\n",
              "      <td>4.195754</td>\n",
              "      <td>{'was_impossible': False}</td>\n",
              "      <td>111</td>\n",
              "      <td>776</td>\n",
              "      <td>0.695754</td>\n",
              "    </tr>\n",
              "    <tr>\n",
              "      <th>4366</th>\n",
              "      <td>5588</td>\n",
              "      <td>1225</td>\n",
              "      <td>5.0</td>\n",
              "      <td>4.050624</td>\n",
              "      <td>{'was_impossible': False}</td>\n",
              "      <td>313</td>\n",
              "      <td>776</td>\n",
              "      <td>0.949376</td>\n",
              "    </tr>\n",
              "    <tr>\n",
              "      <th>5823</th>\n",
              "      <td>1756</td>\n",
              "      <td>1225</td>\n",
              "      <td>5.0</td>\n",
              "      <td>4.549970</td>\n",
              "      <td>{'was_impossible': False}</td>\n",
              "      <td>146</td>\n",
              "      <td>776</td>\n",
              "      <td>0.450030</td>\n",
              "    </tr>\n",
              "  </tbody>\n",
              "</table>\n",
              "</div>"
            ],
            "text/plain": [
              "       uid   iid  r_ui  ...    Iu   Ui       err\n",
              "1569  5064  1225   4.0  ...  1043  776  0.379337\n",
              "2805  2480  1225   4.0  ...   290  776  0.025972\n",
              "3532  1127  1225   3.5  ...   111  776  0.695754\n",
              "4366  5588  1225   5.0  ...   313  776  0.949376\n",
              "5823  1756  1225   5.0  ...   146  776  0.450030\n",
              "\n",
              "[5 rows x 8 columns]"
            ]
          },
          "metadata": {
            "tags": []
          },
          "execution_count": 194
        }
      ]
    },
    {
      "cell_type": "code",
      "metadata": {
        "id": "GhFP5jTvFQOy",
        "colab_type": "code",
        "colab": {
          "base_uri": "https://localhost:8080/",
          "height": 502
        },
        "outputId": "50f98648-b2d2-4675-c3fa-289f4461f56b"
      },
      "source": [
        "make_histogram(tt1, 'r_ui', title='Fig8: Number of Actual Ratings for User ID: 1225', xlab='Ratings', ylab='Counts')"
      ],
      "execution_count": 222,
      "outputs": [
        {
          "output_type": "display_data",
          "data": {
            "image/png": "[encoded data removed]",
            "text/plain": [
              "<Figure size 1008x504 with 1 Axes>"
            ]
          },
          "metadata": {
            "tags": []
          }
        }
      ]
    },
    {
      "cell_type": "markdown",
      "metadata": {
        "id": "HdAvoFOIFpfK",
        "colab_type": "text"
      },
      "source": [
        "- As an example, user ID 1225 the numbers around this user has given high ratings, so we are screwed.  The only way to avoid this kind of errors would be to increase the min_k parameter, but it would actually worsen the accuracy as part of the trade-off."
      ]
    },
    {
      "cell_type": "markdown",
      "metadata": {
        "id": "FD3cYIR5PYMj",
        "colab_type": "text"
      },
      "source": [
        "#SVD Surprise's Top ten most accurate (by RSME) movies recommendations"
      ]
    },
    {
      "cell_type": "code",
      "metadata": {
        "id": "Ch_MxqGHLhUk",
        "colab_type": "code",
        "colab": {
          "base_uri": "https://localhost:8080/",
          "height": 343
        },
        "outputId": "72026502-7078-45f5-91bb-9b33b6ed900e"
      },
      "source": [
        "best_predictions1=best_predictions.rename(columns = {'iid':'movieId'}) \n",
        "recommend_movies_SVD_surprise = pd.merge(best_predictions1, movies, on='movieId')\n",
        "recommend_movies_SVD_surprise.iloc[:,[1,8]]"
      ],
      "execution_count": 220,
      "outputs": [
        {
          "output_type": "execute_result",
          "data": {
            "text/html": [
              "<div>\n",
              "<style scoped>\n",
              "    .dataframe tbody tr th:only-of-type {\n",
              "        vertical-align: middle;\n",
              "    }\n",
              "\n",
              "    .dataframe tbody tr th {\n",
              "        vertical-align: top;\n",
              "    }\n",
              "\n",
              "    .dataframe thead th {\n",
              "        text-align: right;\n",
              "    }\n",
              "</style>\n",
              "<table border=\"1\" class=\"dataframe\">\n",
              "  <thead>\n",
              "    <tr style=\"text-align: right;\">\n",
              "      <th></th>\n",
              "      <th>movieId</th>\n",
              "      <th>title</th>\n",
              "    </tr>\n",
              "  </thead>\n",
              "  <tbody>\n",
              "    <tr>\n",
              "      <th>0</th>\n",
              "      <td>57640</td>\n",
              "      <td>Hellboy II: The Golden Army (2008)</td>\n",
              "    </tr>\n",
              "    <tr>\n",
              "      <th>1</th>\n",
              "      <td>79132</td>\n",
              "      <td>Inception (2010)</td>\n",
              "    </tr>\n",
              "    <tr>\n",
              "      <th>2</th>\n",
              "      <td>104879</td>\n",
              "      <td>Prisoners (2013)</td>\n",
              "    </tr>\n",
              "    <tr>\n",
              "      <th>3</th>\n",
              "      <td>2194</td>\n",
              "      <td>Untouchables, The (1987)</td>\n",
              "    </tr>\n",
              "    <tr>\n",
              "      <th>4</th>\n",
              "      <td>2959</td>\n",
              "      <td>Fight Club (1999)</td>\n",
              "    </tr>\n",
              "    <tr>\n",
              "      <th>5</th>\n",
              "      <td>3508</td>\n",
              "      <td>Outlaw Josey Wales, The (1976)</td>\n",
              "    </tr>\n",
              "    <tr>\n",
              "      <th>6</th>\n",
              "      <td>1207</td>\n",
              "      <td>To Kill a Mockingbird (1962)</td>\n",
              "    </tr>\n",
              "    <tr>\n",
              "      <th>7</th>\n",
              "      <td>193</td>\n",
              "      <td>Showgirls (1995)</td>\n",
              "    </tr>\n",
              "    <tr>\n",
              "      <th>8</th>\n",
              "      <td>160</td>\n",
              "      <td>Congo (1995)</td>\n",
              "    </tr>\n",
              "    <tr>\n",
              "      <th>9</th>\n",
              "      <td>3949</td>\n",
              "      <td>Requiem for a Dream (2000)</td>\n",
              "    </tr>\n",
              "  </tbody>\n",
              "</table>\n",
              "</div>"
            ],
            "text/plain": [
              "   movieId                               title\n",
              "0    57640  Hellboy II: The Golden Army (2008)\n",
              "1    79132                    Inception (2010)\n",
              "2   104879                    Prisoners (2013)\n",
              "3     2194            Untouchables, The (1987)\n",
              "4     2959                   Fight Club (1999)\n",
              "5     3508      Outlaw Josey Wales, The (1976)\n",
              "6     1207        To Kill a Mockingbird (1962)\n",
              "7      193                    Showgirls (1995)\n",
              "8      160                        Congo (1995)\n",
              "9     3949          Requiem for a Dream (2000)"
            ]
          },
          "metadata": {
            "tags": []
          },
          "execution_count": 220
        }
      ]
    },
    {
      "cell_type": "markdown",
      "metadata": {
        "id": "dGw2doLAnXCn",
        "colab_type": "text"
      },
      "source": [
        "# Because the Home-made Truncated SVD model had better RSME relative to the other Home-made IBCF & UBCF models, we will use SVD only to make recommendations "
      ]
    },
    {
      "cell_type": "code",
      "metadata": {
        "id": "ABBvFsEMBy1Y",
        "colab_type": "code",
        "colab": {
          "base_uri": "https://localhost:8080/",
          "height": 235
        },
        "outputId": "1592e9c3-5cd0-440b-95f2-edc4700aa90a"
      },
      "source": [
        "#Correlation Matrix based on Truncated SVD with K=19\n",
        "corr_mat = np.corrcoef(US)\n",
        "corr_mat"
      ],
      "execution_count": null,
      "outputs": [
        {
          "output_type": "execute_result",
          "data": {
            "text/plain": [
              "array([[ 1.        ,  0.31779739,  0.09300139, ...,  0.24880762,\n",
              "         0.26576639,  0.52623517],\n",
              "       [ 0.31779739,  1.        ,  0.10009203, ...,  0.37626835,\n",
              "         0.16672367,  0.38657806],\n",
              "       [ 0.09300139,  0.10009203,  1.        , ..., -0.03910081,\n",
              "        -0.2511084 , -0.11844646],\n",
              "       ...,\n",
              "       [ 0.24880762,  0.37626835, -0.03910081, ...,  1.        ,\n",
              "         0.81602406,  0.62903955],\n",
              "       [ 0.26576639,  0.16672367, -0.2511084 , ...,  0.81602406,\n",
              "         1.        ,  0.61434838],\n",
              "       [ 0.52623517,  0.38657806, -0.11844646, ...,  0.62903955,\n",
              "         0.61434838,  1.        ]])"
            ]
          },
          "metadata": {
            "tags": []
          },
          "execution_count": 110
        }
      ]
    },
    {
      "cell_type": "code",
      "metadata": {
        "id": "qQJq7w8gwP4L",
        "colab_type": "code",
        "colab": {}
      },
      "source": [
        "# Function to check for similar movies\n",
        "def get_similar_item(movie):\n",
        "    movie_input =str(movie)\n",
        "    col_idx = rating_crosstab.columns.get_loc(movie_input)\n",
        "    corr_specific = corr_mat[col_idx]\n",
        "    df_similar_movie=pd.DataFrame({'corr_specific':corr_specific, 'Movies': rating_crosstab.columns})\\\n",
        "    .sort_values('corr_specific', ascending=False).head(10)# selecting only Top 10 similar movies\n",
        "    return print(df_similar_movie)"
      ],
      "execution_count": null,
      "outputs": []
    },
    {
      "cell_type": "code",
      "metadata": {
        "id": "NOKIdS9FW6BV",
        "colab_type": "code",
        "colab": {
          "base_uri": "https://localhost:8080/",
          "height": 202
        },
        "outputId": "77a060dc-c66d-42bf-d02e-8d5ab47ec122"
      },
      "source": [
        "# Check to see if similar movies are what it should be or not\n",
        "check_similar_movie=get_similar_item(\"Pulp Fiction (1994)\")"
      ],
      "execution_count": null,
      "outputs": [
        {
          "output_type": "stream",
          "text": [
            "       corr_specific                                             Movies\n",
            "15023       1.000000                                Pulp Fiction (1994)\n",
            "20812       0.970633                         Usual Suspects, The (1995)\n",
            "16487       0.952377                        Seven (a.k.a. Se7en) (1995)\n",
            "16812       0.949880                   Silence of the Lambs, The (1991)\n",
            "16632       0.944143                   Shawshank Redemption, The (1994)\n",
            "11582       0.905663  Léon: The Professional (a.k.a. The Professiona...\n",
            "16248       0.889311                            Schindler's List (1993)\n",
            "6897        0.870543                                Forrest Gump (1994)\n",
            "13130       0.869571                        Natural Born Killers (1994)\n",
            "2946        0.852518                                  Braveheart (1995)\n"
          ],
          "name": "stdout"
        }
      ]
    },
    {
      "cell_type": "markdown",
      "metadata": {
        "id": "AmiaR9A_UbVg",
        "colab_type": "text"
      },
      "source": [
        "- We are going to take a different tack against the typical recomendation from the 2 previous methods; Turicreate & Surprise\n",
        "\n",
        "- Here, we give end user the ability to pick similar movies ranked by correlation and allow them to make the top 10 recommendation themselves\n",
        "\n",
        "For instance, every movie has a 100% Correlation Pearson with itself as expected. With the Item-Based collaborative filtered we can recommend movies based on user preference. For example, if someone likes the “Pulp Fiction (1994)” we can recommend him to watch the ” Usual Suspects, The (1995)“. It works also on the other way around. If someone does not like the ” Star Wars (1977)” we can suggest him to avoid watching the “Return of the Jedi (1983)“\n",
        "\n",
        "\n"
      ]
    },
    {
      "cell_type": "markdown",
      "metadata": {
        "id": "o2WfA7NbVokU",
        "colab_type": "text"
      },
      "source": [
        "#Summary\n",
        "- Because this was an educational data set:\n",
        "\n",
        "1.   The data ETLs and statiscical analysis were fairly straighfoward and seamless\n",
        "2.   The findings were all very intuitive with most movies having no ratings as viewers just don't want to be bothere with ratings, highly rated movies have most numbers of raters and lastly majority of movies were released in the mid to late 2000s.\n",
        "\n",
        "- Python libraries; Turicreate & Surprise were utilized for this experiment\n",
        "\n",
        "1.   Turicreate has most of the functionalites and built-in packages similar to Recommenderlabs.  However, its evaluation functionalities such as ROC and Precision-to-Recall curves capabilities were inferior; it requires that predicted values be integers and a fair manual work to just perform similar categorical evaluations like Recommenderlab\n",
        "2.   Surprise does NOT have any of the evaluation functionalities anywhere close to Recommenderlab except for RSME computation.  \n",
        "\n",
        "Given these deficiencies of the libraries, I had to find a common denominator to compare accuracies across all these models and the only common metrics common to all was RSME which formed the basis of my comparision.\n",
        "\n",
        "- Best Models from each methodologies:\n",
        "\n",
        "1.   SVD model had the best RSME was used for recommendation purposes\n",
        "2.   Due to differences in set-ups within each library, training and test sets were not quite the same; which could explain item 3 below\n",
        "3.   None of the recommended movies match out from one library to another while the Home-made SVD utilized a total differnt strategy altogether\n",
        "\n",
        "#Conclusion\n",
        "Although it took me quite a bit to put all this together, it was worth the effort to learn and discover along the way all the intricacies of building a recommender system.  Having said that, this project took me through a myriad of investigative routes to discover and learn for myself how difficult it was to use other libraries outside of recommenderlab.  These other libraries did not have all the nifty built-in routines Reommenderlab has and it took quite a bit of manipulations to put all the necessary statistical accuracy metrics together not to mention makinng the necessary predictions and recommendations. "
      ]
    }
  ]
}